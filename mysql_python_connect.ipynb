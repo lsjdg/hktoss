{
 "cells": [
  {
   "cell_type": "code",
   "execution_count": 1,
   "id": "cf03a8fa-811d-4bde-b7e7-aa13163af2c2",
   "metadata": {},
   "outputs": [],
   "source": [
    "# step 1. Connect to Server"
   ]
  },
  {
   "cell_type": "code",
   "execution_count": 6,
   "id": "8353edc1-f74e-4d2b-98b6-fc4dfed4b136",
   "metadata": {},
   "outputs": [],
   "source": [
    "import os\n",
    "from mysql import connector\n",
    "\n",
    "PASSWORD = '1234'"
   ]
  },
  {
   "cell_type": "code",
   "execution_count": 14,
   "id": "71867152-87f1-4c44-b8ad-db020142f8df",
   "metadata": {},
   "outputs": [],
   "source": [
    "# step 2 : create new DB"
   ]
  },
  {
   "cell_type": "code",
   "execution_count": 8,
   "id": "a7e0d0b1-e08a-4f57-afd5-aa3c9cfc6630",
   "metadata": {},
   "outputs": [
    {
     "name": "stdout",
     "output_type": "stream",
     "text": [
      "Database 객체 : <mysql.connector.connection.MySQLConnection object at 0x000001F0A380C110>\n",
      "('book_ratings',)\n",
      "('classicmodels',)\n",
      "('information_schema',)\n",
      "('instacart',)\n",
      "('my_data',)\n",
      "('mysql',)\n",
      "('performance_schema',)\n",
      "('sakila',)\n",
      "('sys',)\n",
      "('titanic',)\n",
      "('world',)\n"
     ]
    }
   ],
   "source": [
    "try:\n",
    "    with connector.connect(\n",
    "        host = 'localhost', \n",
    "        user = 'root', \n",
    "        password = PASSWORD\n",
    "    ) as database:\n",
    "        print(f\"Database 객체 : {database}\")\n",
    "        \n",
    "        with database.cursor() as cursor:\n",
    "            # 쿼리문 작성\n",
    "            #create_db = \"CREATE DATABASE book_ratings;\"\n",
    "            #cursor.execute(create_db)\n",
    "\n",
    "            # 생성된 DB 확인 쿼리문 쓰기\n",
    "            show_existing_db = \"SHOW DATABASES;\"\n",
    "            cursor.execute(show_existing_db)\n",
    "            for db in cursor:\n",
    "                print(db)\n",
    "\n",
    "except connector.Error as e:\n",
    "    print(e)"
   ]
  },
  {
   "cell_type": "code",
   "execution_count": 9,
   "id": "b662d1ff-d24c-4b79-b869-e782dc7e0dd5",
   "metadata": {},
   "outputs": [],
   "source": [
    "# 특정 db 에 연결"
   ]
  },
  {
   "cell_type": "code",
   "execution_count": null,
   "id": "e87789b3-06a0-47bb-aefc-bec59f0ea157",
   "metadata": {},
   "outputs": [],
   "source": []
  }
 ],
 "metadata": {
  "kernelspec": {
   "display_name": "Python 3 (ipykernel)",
   "language": "python",
   "name": "python3"
  },
  "language_info": {
   "codemirror_mode": {
    "name": "ipython",
    "version": 3
   },
   "file_extension": ".py",
   "mimetype": "text/x-python",
   "name": "python",
   "nbconvert_exporter": "python",
   "pygments_lexer": "ipython3",
   "version": "3.11.7"
  }
 },
 "nbformat": 4,
 "nbformat_minor": 5
}
