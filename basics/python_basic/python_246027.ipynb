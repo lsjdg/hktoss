{
 "cells": [
  {
   "cell_type": "code",
   "execution_count": 1,
   "id": "28e20347-62c7-48ca-a4d2-18e58fc12ec2",
   "metadata": {},
   "outputs": [],
   "source": [
    "## 리스트와 튜플"
   ]
  },
  {
   "cell_type": "code",
   "execution_count": 2,
   "id": "8fa8b2bb-ff53-482e-8636-ddca56918854",
   "metadata": {},
   "outputs": [],
   "source": [
    "list_a = [273, 32, 'A', True, [1,2,3]]"
   ]
  },
  {
   "cell_type": "code",
   "execution_count": 10,
   "id": "7b3be6aa-3644-44d4-86b6-70f53dac4612",
   "metadata": {},
   "outputs": [
    {
     "name": "stdout",
     "output_type": "stream",
     "text": [
      "273\n",
      "2\n"
     ]
    }
   ],
   "source": [
    "print(list_a[0]) # indexing\n",
    "print(list_a[-1][-2])"
   ]
  },
  {
   "cell_type": "code",
   "execution_count": 8,
   "id": "6d6ada1f-c693-469b-9d28-a522e9858a29",
   "metadata": {},
   "outputs": [
    {
     "data": {
      "text/plain": [
       "[32, 'A']"
      ]
     },
     "execution_count": 8,
     "metadata": {},
     "output_type": "execute_result"
    }
   ],
   "source": [
    "list_a[1:3] # slicing"
   ]
  },
  {
   "cell_type": "code",
   "execution_count": 11,
   "id": "9227dc0e-bcca-4684-8a2f-5807470abedd",
   "metadata": {},
   "outputs": [],
   "source": [
    "list_a = [1,2,3]\n",
    "list_b = [4,5,6]"
   ]
  },
  {
   "cell_type": "code",
   "execution_count": 12,
   "id": "f312bfc5-8062-45ac-badf-9716589572b7",
   "metadata": {},
   "outputs": [
    {
     "data": {
      "text/plain": [
       "[1, 2, 3, 4, 5, 6]"
      ]
     },
     "execution_count": 12,
     "metadata": {},
     "output_type": "execute_result"
    }
   ],
   "source": [
    "list_a + list_b"
   ]
  },
  {
   "cell_type": "code",
   "execution_count": 16,
   "id": "f07c29af-d80e-4448-96d9-32f323d87ed2",
   "metadata": {},
   "outputs": [
    {
     "data": {
      "text/plain": [
       "[1, 2, 3, 1, 2, 3, 1, 2, 3]"
      ]
     },
     "execution_count": 16,
     "metadata": {},
     "output_type": "execute_result"
    }
   ],
   "source": [
    "list_a * 3"
   ]
  },
  {
   "cell_type": "code",
   "execution_count": 17,
   "id": "611407ac-64af-4670-ae81-4856650eeba8",
   "metadata": {},
   "outputs": [
    {
     "data": {
      "text/plain": [
       "[1, 2, 3, 4]"
      ]
     },
     "execution_count": 17,
     "metadata": {},
     "output_type": "execute_result"
    }
   ],
   "source": [
    "list_a + [4]"
   ]
  },
  {
   "cell_type": "code",
   "execution_count": 22,
   "id": "9bc49be0-7f42-4fc1-9b49-97de0e24ae66",
   "metadata": {},
   "outputs": [
    {
     "data": {
      "text/plain": [
       "[273, 32, 'B', True, [1, 2, 3]]"
      ]
     },
     "execution_count": 22,
     "metadata": {},
     "output_type": "execute_result"
    }
   ],
   "source": [
    "list_a = [273, 32, 'A', True, [1,2,3]]\n",
    "list_a[2] = 'B'\n",
    "list_a"
   ]
  },
  {
   "cell_type": "code",
   "execution_count": 23,
   "id": "9bcb6221-1947-423e-ad2b-30630ad8c38f",
   "metadata": {},
   "outputs": [
    {
     "data": {
      "text/plain": [
       "5"
      ]
     },
     "execution_count": 23,
     "metadata": {},
     "output_type": "execute_result"
    }
   ],
   "source": [
    "len(list_a)"
   ]
  },
  {
   "cell_type": "code",
   "execution_count": 24,
   "id": "f1205b89-c4de-4018-ab7f-e0103e20691a",
   "metadata": {},
   "outputs": [],
   "source": [
    "## append() 와 insert()"
   ]
  },
  {
   "cell_type": "code",
   "execution_count": 37,
   "id": "31da16a3-aed8-45c7-9887-cf62dc34e9e2",
   "metadata": {},
   "outputs": [
    {
     "data": {
      "text/plain": [
       "[1, True, 2, 3, 'a', 4]"
      ]
     },
     "execution_count": 37,
     "metadata": {},
     "output_type": "execute_result"
    }
   ],
   "source": [
    "list_a = [1,2,3]\n",
    "list_a.append('a')\n",
    "list_a.append(4)\n",
    "list_a.insert(1,True)\n",
    "list_a"
   ]
  },
  {
   "cell_type": "code",
   "execution_count": 44,
   "id": "005ef926-6d23-48a5-b904-c925857ef21b",
   "metadata": {},
   "outputs": [],
   "source": [
    "# extend() 는 iterable 객체를 인자로 받는다"
   ]
  },
  {
   "cell_type": "code",
   "execution_count": 56,
   "id": "cdaf5708-691c-46ef-bddc-0aea57163b34",
   "metadata": {},
   "outputs": [
    {
     "name": "stdout",
     "output_type": "stream",
     "text": [
      "+ operator:  [1, 2, 3, 4, 5, 6]\n",
      "[1, 2, 3]\n",
      "extend():  [1, 2, 3, 4, 5, 6]\n"
     ]
    }
   ],
   "source": [
    "list_a = [1,2,3]\n",
    "list_b = [4,5,6]\n",
    "result = list_a + list_b\n",
    "print(\"+ operator: \", result)\n",
    "print(list_a)\n",
    "list_a.extend(list_b)\n",
    "print(\"extend(): \", list_a)"
   ]
  },
  {
   "cell_type": "code",
   "execution_count": 58,
   "id": "08db7f64-5637-49d2-a346-787fecb8e246",
   "metadata": {},
   "outputs": [
    {
     "data": {
      "text/plain": [
       "['a']"
      ]
     },
     "execution_count": 58,
     "metadata": {},
     "output_type": "execute_result"
    }
   ],
   "source": [
    "list('a')"
   ]
  },
  {
   "cell_type": "code",
   "execution_count": 59,
   "id": "c4923690-5f08-49e9-bd6d-561f2f3eb140",
   "metadata": {},
   "outputs": [],
   "source": [
    "## 인덱스로 제거하기 : del, pop()"
   ]
  },
  {
   "cell_type": "code",
   "execution_count": 69,
   "id": "003c7af4-ae3c-446a-aa59-9c32fd749202",
   "metadata": {},
   "outputs": [
    {
     "name": "stdout",
     "output_type": "stream",
     "text": [
      "after del:  ['c', 'd']\n",
      "after pop():  ['a', 'b', 'c']\n",
      "after pop(0):  ['b', 'c']\n"
     ]
    }
   ],
   "source": [
    "list_a = ['a', 'b', 'c', 'd']\n",
    "del list_a[0:2]\n",
    "print(\"after del: \", list_a)\n",
    "list_b = ['a', 'b', 'c', 'd']\n",
    "list_b.pop()\n",
    "print(\"after pop(): \", list_b)\n",
    "list_b.pop(0)\n",
    "print(\"after pop(0): \", list_b)"
   ]
  },
  {
   "cell_type": "code",
   "execution_count": 70,
   "id": "29fe0315-4473-429a-8349-97cbf14efe96",
   "metadata": {},
   "outputs": [],
   "source": [
    "## 값으로 제거하기: remove() : index 번호가 아닌 실제 값을 의미한다."
   ]
  },
  {
   "cell_type": "code",
   "execution_count": 74,
   "id": "4f593ad3-4572-474b-aebd-033fb5e21fb7",
   "metadata": {},
   "outputs": [
    {
     "data": {
      "text/plain": [
       "['b', 'a', 'c', 'd']"
      ]
     },
     "execution_count": 74,
     "metadata": {},
     "output_type": "execute_result"
    }
   ],
   "source": [
    "list_a = ['a', 'b', 'a', 'c', 'd']\n",
    "list_a.remove('a')\n",
    "list_a"
   ]
  },
  {
   "cell_type": "code",
   "execution_count": 75,
   "id": "cf64c213-1a0b-4514-a42b-c1497c55c665",
   "metadata": {},
   "outputs": [],
   "source": [
    "## 모두 제거하기"
   ]
  },
  {
   "cell_type": "code",
   "execution_count": 77,
   "id": "1e55f154-85f6-4b76-aec3-1a7993cc0ba6",
   "metadata": {},
   "outputs": [
    {
     "data": {
      "text/plain": [
       "[]"
      ]
     },
     "execution_count": 77,
     "metadata": {},
     "output_type": "execute_result"
    }
   ],
   "source": [
    "list_a = ['a', 'b', 'a', 'c', 'd']\n",
    "list_a.clear()\n",
    "list_a"
   ]
  },
  {
   "cell_type": "code",
   "execution_count": 78,
   "id": "7af593a8-468e-4d65-8a51-8b6a92b20a64",
   "metadata": {},
   "outputs": [],
   "source": [
    "## 리스트 정렬하기 : sort()"
   ]
  },
  {
   "cell_type": "code",
   "execution_count": 82,
   "id": "235aded6-5708-445a-b89c-3cf2979d4fed",
   "metadata": {},
   "outputs": [
    {
     "data": {
      "text/plain": [
       "[32, 52, 103, 273]"
      ]
     },
     "execution_count": 82,
     "metadata": {},
     "output_type": "execute_result"
    }
   ],
   "source": [
    "list_a = [52,273, 103, 32]\n",
    "list_a.sort()\n",
    "list_a"
   ]
  },
  {
   "cell_type": "code",
   "execution_count": 85,
   "id": "aa100e41-b7c1-4412-b0ff-32590425daf4",
   "metadata": {},
   "outputs": [
    {
     "data": {
      "text/plain": [
       "[273, 103, 52, 32]"
      ]
     },
     "execution_count": 85,
     "metadata": {},
     "output_type": "execute_result"
    }
   ],
   "source": [
    "list_a = [52,273, 103, 32]\n",
    "list_a.sort(reverse = True)\n",
    "list_a"
   ]
  },
  {
   "cell_type": "code",
   "execution_count": null,
   "id": "8a4440e6-9eed-4089-ab64-91c6627a149e",
   "metadata": {},
   "outputs": [],
   "source": [
    "## 리스트에 있는 지 확인하기 : in, not in"
   ]
  },
  {
   "cell_type": "code",
   "execution_count": 84,
   "id": "a1a050cd-f975-415e-90c1-15a7a260661b",
   "metadata": {},
   "outputs": [
    {
     "data": {
      "text/plain": [
       "True"
      ]
     },
     "execution_count": 84,
     "metadata": {},
     "output_type": "execute_result"
    }
   ],
   "source": [
    "273 in list_a"
   ]
  },
  {
   "cell_type": "code",
   "execution_count": 86,
   "id": "b46b5639-2568-42a0-af61-cfb02c973132",
   "metadata": {},
   "outputs": [],
   "source": [
    "## tuple\n",
    "- indexing, sclicing 가능\n",
    "- entry 수정, 삭제 불가능"
   ]
  },
  {
   "cell_type": "code",
   "execution_count": 90,
   "id": "ef7eb030-6dd5-41ce-97cc-9ceab208e54a",
   "metadata": {},
   "outputs": [
    {
     "data": {
      "text/plain": [
       "50"
      ]
     },
     "execution_count": 90,
     "metadata": {},
     "output_type": "execute_result"
    }
   ],
   "source": [
    "tuple_test = (10, 20, 30, 40, 50, 60)\n",
    "tuple_test[4]"
   ]
  },
  {
   "cell_type": "code",
   "execution_count": 95,
   "id": "81267d51-ed7a-4b6c-ad4d-0275057095d7",
   "metadata": {},
   "outputs": [],
   "source": [
    "## dictionary\n",
    "- web 관련 자료형 중에서 json 형태와 유사\n",
    "- pandas 데이터프레임을 만들 때도 사용\n",
    "- 사전식 구성 연상\n",
    "    + 키워드 입력 => 다양한 값"
   ]
  },
  {
   "cell_type": "code",
   "execution_count": 97,
   "id": "ac1a2296-51b5-4068-8f9c-d3cd6d569800",
   "metadata": {},
   "outputs": [
    {
     "data": {
      "text/plain": [
       "{'name': 'Avengers Endgame',\n",
       " 'type': 'hero movie',\n",
       " 'director': ['Anthony', 'Joe'],\n",
       " 'year': 2019}"
      ]
     },
     "execution_count": 97,
     "metadata": {},
     "output_type": "execute_result"
    }
   ],
   "source": [
    "dict_a = {\n",
    "    \"name\" : \"Avengers Endgame\", \n",
    "    \"type\" : \"hero movie\", \n",
    "    \"director\" : [\"Anthony\", \"Joe\"], \n",
    "    \"year\" : 2019\n",
    "}\n",
    "\n",
    "dict_a"
   ]
  },
  {
   "cell_type": "code",
   "execution_count": 145,
   "id": "92ee74c3-9324-4e39-8ded-ddbe628bfc68",
   "metadata": {},
   "outputs": [
    {
     "data": {
      "text/plain": [
       "'Ant'"
      ]
     },
     "execution_count": 145,
     "metadata": {},
     "output_type": "execute_result"
    }
   ],
   "source": [
    "dict_a['director'][0][0:3]"
   ]
  },
  {
   "cell_type": "code",
   "execution_count": 105,
   "id": "2ebdb9c9-3c33-4829-88df-9af9092fd9d6",
   "metadata": {},
   "outputs": [],
   "source": [
    "# key 설정 시 무조건 따옴표 사용"
   ]
  },
  {
   "cell_type": "code",
   "execution_count": 110,
   "id": "f9ec8464-e3a8-48b4-be3b-1acf062e36ef",
   "metadata": {},
   "outputs": [
    {
     "data": {
      "text/plain": [
       "{'name': 'dried mango', 'new key': 'new value'}"
      ]
     },
     "execution_count": 110,
     "metadata": {},
     "output_type": "execute_result"
    }
   ],
   "source": [
    "dict_key = {\n",
    "    'name' : \"dried mango\"\n",
    "}\n",
    "dict_key['new key'] = 'new value'\n",
    "dict_key"
   ]
  },
  {
   "cell_type": "code",
   "execution_count": 113,
   "id": "8f5c1b06-2095-457a-b51b-6e10154f5cf7",
   "metadata": {},
   "outputs": [
    {
     "data": {
      "text/plain": [
       "{'name': 'dried mango',\n",
       " 'new key': 'new value',\n",
       " 'new dict': {'a': 1, 'b': [1, 2, 3]}}"
      ]
     },
     "execution_count": 113,
     "metadata": {},
     "output_type": "execute_result"
    }
   ],
   "source": [
    "dict_key['new dict'] = {'a' : 1, 'b' : [1,2,3]} # 새로운 dictionary 삽입 가능\n",
    "dict_key"
   ]
  },
  {
   "cell_type": "code",
   "execution_count": 114,
   "id": "5cbdf57a-8554-46b4-a1c0-6ff73cd16686",
   "metadata": {},
   "outputs": [
    {
     "data": {
      "text/plain": [
       "{'name': 'dried mango', 'new key': 'new value'}"
      ]
     },
     "execution_count": 114,
     "metadata": {},
     "output_type": "execute_result"
    }
   ],
   "source": [
    "del dict_key['new dict']\n",
    "dict_key"
   ]
  },
  {
   "cell_type": "code",
   "execution_count": 115,
   "id": "0ad66103-3b70-493b-ae9f-5425779eb135",
   "metadata": {},
   "outputs": [],
   "source": [
    "dict_key['price'] = [1,2,3,4,5]"
   ]
  },
  {
   "cell_type": "code",
   "execution_count": 116,
   "id": "ccc8a036-63ca-46ac-8379-544a884b2e6d",
   "metadata": {},
   "outputs": [
    {
     "data": {
      "text/plain": [
       "dict_keys(['name', 'new key', 'price'])"
      ]
     },
     "execution_count": 116,
     "metadata": {},
     "output_type": "execute_result"
    }
   ],
   "source": [
    "dict_key.keys()"
   ]
  },
  {
   "cell_type": "code",
   "execution_count": 117,
   "id": "a3dc5240-f76c-4ba6-84bb-0d577a14e388",
   "metadata": {},
   "outputs": [
    {
     "data": {
      "text/plain": [
       "dict_values(['dried mango', 'new value', [1, 2, 3, 4, 5]])"
      ]
     },
     "execution_count": 117,
     "metadata": {},
     "output_type": "execute_result"
    }
   ],
   "source": [
    "dict_key.values()"
   ]
  },
  {
   "cell_type": "code",
   "execution_count": 118,
   "id": "063bb176-633b-4e0a-b780-4074d20c00e4",
   "metadata": {},
   "outputs": [
    {
     "data": {
      "text/plain": [
       "dict_items([('name', 'dried mango'), ('new key', 'new value'), ('price', [1, 2, 3, 4, 5])])"
      ]
     },
     "execution_count": 118,
     "metadata": {},
     "output_type": "execute_result"
    }
   ],
   "source": [
    "dict_key.items()"
   ]
  },
  {
   "cell_type": "code",
   "execution_count": 120,
   "id": "7cbfefcb-469e-4831-9ee3-165a35380692",
   "metadata": {},
   "outputs": [
    {
     "data": {
      "text/plain": [
       "dict_values"
      ]
     },
     "execution_count": 120,
     "metadata": {},
     "output_type": "execute_result"
    }
   ],
   "source": [
    "type(dict_key.values()) # 임시적인 view object"
   ]
  },
  {
   "cell_type": "code",
   "execution_count": 123,
   "id": "ca4b97cc-ad14-4db1-adaa-9c702a905909",
   "metadata": {},
   "outputs": [
    {
     "data": {
      "text/plain": [
       "['dried mango', 'new value', [1, 2, 3, 4, 5], 'a']"
      ]
     },
     "execution_count": 123,
     "metadata": {},
     "output_type": "execute_result"
    }
   ],
   "source": [
    "new_list = list(dict_key.values())\n",
    "new_list.append('a')\n",
    "new_list"
   ]
  },
  {
   "cell_type": "code",
   "execution_count": 127,
   "id": "3c91cd33-178f-4f39-bccc-f532128a5d3c",
   "metadata": {},
   "outputs": [],
   "source": [
    "## list comprehension : 반복문을 한 줄로 처리, 결과값은 list 로 반환"
   ]
  },
  {
   "cell_type": "code",
   "execution_count": 133,
   "id": "ad4deb7e-c975-4bf2-a15d-913aa04c5d2e",
   "metadata": {},
   "outputs": [
    {
     "data": {
      "text/plain": [
       "[3, 6, 9, 12]"
      ]
     },
     "execution_count": 133,
     "metadata": {},
     "output_type": "execute_result"
    }
   ],
   "source": [
    "a = [1,2,3,4]\n",
    "result = []\n",
    "for num in a:\n",
    "    result.append(num * 3)\n",
    "\n",
    "result"
   ]
  },
  {
   "cell_type": "code",
   "execution_count": 135,
   "id": "ee8f89db-e2e4-4d8f-b48a-e48604d283c3",
   "metadata": {},
   "outputs": [
    {
     "data": {
      "text/plain": [
       "[3, 6, 9, 12]"
      ]
     },
     "execution_count": 135,
     "metadata": {},
     "output_type": "execute_result"
    }
   ],
   "source": [
    "b = [1,2,3,4]\n",
    "result2 = [num * 3 for num in b]\n",
    "result2"
   ]
  },
  {
   "cell_type": "code",
   "execution_count": 138,
   "id": "a6c71213-9c77-4c2d-9c66-e96f631c3465",
   "metadata": {},
   "outputs": [
    {
     "name": "stdout",
     "output_type": "stream",
     "text": [
      "10\n",
      "40\n",
      "90\n",
      "160\n"
     ]
    }
   ],
   "source": [
    "arr1 = [1, 2, 3, 4]\n",
    "arr2 = [10, 20, 30, 40]\n",
    "\n",
    "for n1, n2 in zip(arr1, arr2):\n",
    "    print(n1*n2)"
   ]
  },
  {
   "cell_type": "code",
   "execution_count": 143,
   "id": "c1f38d63-fe50-4ec7-953c-5eae95477dd4",
   "metadata": {},
   "outputs": [
    {
     "data": {
      "text/plain": [
       "[10, 40, 90, 160]"
      ]
     },
     "execution_count": 143,
     "metadata": {},
     "output_type": "execute_result"
    }
   ],
   "source": [
    "arr1 = [1, 2, 3, 4]\n",
    "arr2 = [10, 20, 30, 40]\n",
    "\n",
    "result = [n1 * n2 for n1, n2 in zip(arr1, arr2)]\n",
    "result"
   ]
  },
  {
   "cell_type": "code",
   "execution_count": null,
   "id": "45aeba9c-5872-439d-97a1-68cd3c674e22",
   "metadata": {},
   "outputs": [],
   "source": []
  }
 ],
 "metadata": {
  "kernelspec": {
   "display_name": "Python 3 (ipykernel)",
   "language": "python",
   "name": "python3"
  },
  "language_info": {
   "codemirror_mode": {
    "name": "ipython",
    "version": 3
   },
   "file_extension": ".py",
   "mimetype": "text/x-python",
   "name": "python",
   "nbconvert_exporter": "python",
   "pygments_lexer": "ipython3",
   "version": "3.11.7"
  }
 },
 "nbformat": 4,
 "nbformat_minor": 5
}
