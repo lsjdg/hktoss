{
 "cells": [
  {
   "cell_type": "code",
   "execution_count": 2,
   "id": "52876ac8-63ac-42df-88b0-c6b0b3941edf",
   "metadata": {},
   "outputs": [
    {
     "name": "stdout",
     "output_type": "stream",
     "text": [
      "iteration 0\n",
      "iteration 1\n",
      "iteration 2\n",
      "iteration 3\n",
      "iteration 4\n"
     ]
    }
   ],
   "source": [
    "for i in range (5):\n",
    "    print(f\"iteration {i}\")"
   ]
  },
  {
   "cell_type": "code",
   "execution_count": 3,
   "id": "102b3a29-7870-4d0d-b707-c9e4887f34d6",
   "metadata": {},
   "outputs": [],
   "source": [
    "# 가변 매개변수 : * 를 매개변수에 추가"
   ]
  },
  {
   "cell_type": "code",
   "execution_count": 5,
   "id": "fa2c6643-a1a0-4f75-92e9-aca7024004f7",
   "metadata": {},
   "outputs": [
    {
     "name": "stdout",
     "output_type": "stream",
     "text": [
      "a\n",
      "b\n",
      "c\n",
      "\n",
      "a\n",
      "b\n",
      "c\n",
      "\n",
      "a\n",
      "b\n",
      "c\n",
      "\n"
     ]
    }
   ],
   "source": [
    "def print_n_times(n, *values):\n",
    "    for i in range (n):\n",
    "        for value in values:\n",
    "            print(value)\n",
    "        print()\n",
    "\n",
    "print_n_times(3, 'a', 'b', 'c')"
   ]
  },
  {
   "cell_type": "code",
   "execution_count": 7,
   "id": "bf2f2976-0a22-46ac-afdb-a9aadc116ac5",
   "metadata": {},
   "outputs": [
    {
     "data": {
      "text/plain": [
       "15"
      ]
     },
     "execution_count": 7,
     "metadata": {},
     "output_type": "execute_result"
    }
   ],
   "source": [
    "def add_nums(*nums):\n",
    "    result = 0\n",
    "    for n in nums:\n",
    "        result += n\n",
    "    return result\n",
    "\n",
    "add_nums(1,2,3,4,5)"
   ]
  },
  {
   "cell_type": "code",
   "execution_count": 9,
   "id": "024bf693-8ae1-4bab-90ec-a705ce86234b",
   "metadata": {},
   "outputs": [],
   "source": [
    "# 키워드 매개변수 **kwargs : 매개변수 앞에 ** 를 붙임"
   ]
  },
  {
   "cell_type": "code",
   "execution_count": 11,
   "id": "a900151f-e629-4315-8957-bf512b484376",
   "metadata": {},
   "outputs": [
    {
     "name": "stdout",
     "output_type": "stream",
     "text": [
      "{'a': 1}\n"
     ]
    }
   ],
   "source": [
    "def print_kwargs(**kwargs):\n",
    "    # return 값이 없다.\n",
    "    print(kwargs)\n",
    "\n",
    "print_kwargs(a = 1) #dictionary 형태로 인자 전달"
   ]
  },
  {
   "cell_type": "code",
   "execution_count": 12,
   "id": "891dadc7-43c1-43d7-9f41-49a3e9586a06",
   "metadata": {},
   "outputs": [],
   "source": [
    "## 클래스 만들기"
   ]
  },
  {
   "cell_type": "code",
   "execution_count": 14,
   "id": "87c4f1ed-e2ab-4fa4-8875-3a47fd1fa2b6",
   "metadata": {},
   "outputs": [
    {
     "name": "stdout",
     "output_type": "stream",
     "text": [
      "3\n",
      "7\n",
      "5\n",
      "9\n"
     ]
    }
   ],
   "source": [
    "class Calculator:\n",
    "    def __init__(self):\n",
    "        self.result = 0\n",
    "\n",
    "    def add(self, num):\n",
    "        self.result += num\n",
    "        return self.result\n",
    "\n",
    "# 사용자1\n",
    "cal1 = Calculator()\n",
    "cal2 = Calculator()\n",
    "\n",
    "print(cal1.add(3))\n",
    "print(cal1.add(4))\n",
    "print(cal2.add(5))\n",
    "print(cal2.add(4))"
   ]
  },
  {
   "cell_type": "code",
   "execution_count": 15,
   "id": "f5101f63-2d99-4527-bc6a-5f78c4ba66b1",
   "metadata": {},
   "outputs": [],
   "source": [
    "## 상속 문법 "
   ]
  },
  {
   "cell_type": "code",
   "execution_count": 17,
   "id": "a1bdb92e-7070-45ec-8cfc-653cad17c9b8",
   "metadata": {},
   "outputs": [],
   "source": [
    "class Parent:\n",
    "    pass\n",
    "\n",
    "class Child(Parent):\n",
    "    def __init__(self):\n",
    "        super().__init__()"
   ]
  },
  {
   "cell_type": "code",
   "execution_count": null,
   "id": "e156b4bf-4990-4922-95ca-25111a77b772",
   "metadata": {},
   "outputs": [],
   "source": []
  }
 ],
 "metadata": {
  "kernelspec": {
   "display_name": "Python 3 (ipykernel)",
   "language": "python",
   "name": "python3"
  },
  "language_info": {
   "codemirror_mode": {
    "name": "ipython",
    "version": 3
   },
   "file_extension": ".py",
   "mimetype": "text/x-python",
   "name": "python",
   "nbconvert_exporter": "python",
   "pygments_lexer": "ipython3",
   "version": "3.11.7"
  }
 },
 "nbformat": 4,
 "nbformat_minor": 5
}
