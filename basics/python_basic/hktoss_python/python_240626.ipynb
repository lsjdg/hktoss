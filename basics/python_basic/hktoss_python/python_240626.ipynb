{
 "cells": [
  {
   "cell_type": "code",
   "execution_count": 6,
   "id": "1feba64d-5aae-44ef-829b-791aa90901ad",
   "metadata": {},
   "outputs": [],
   "source": [
    "import pandas as pd"
   ]
  },
  {
   "cell_type": "code",
   "execution_count": 9,
   "id": "9a28d3b9-b084-4674-a021-da98d88d8158",
   "metadata": {},
   "outputs": [],
   "source": [
    "## 문자 선택 연산자 (indexing): []"
   ]
  },
  {
   "cell_type": "code",
   "execution_count": 21,
   "id": "9a80025f-95c0-4f47-b015-41c8b166b294",
   "metadata": {},
   "outputs": [
    {
     "name": "stdout",
     "output_type": "stream",
     "text": [
      "H\n",
      "e\n",
      "l\n",
      "l\n",
      "o\n",
      ",\n",
      " \n",
      "P\n",
      "y\n",
      "t\n",
      "h\n",
      "o\n",
      "n\n",
      "!\n"
     ]
    }
   ],
   "source": [
    "var = \"Hello, Python!\"\n",
    "for i in range (len(var)) :\n",
    "    print(var[i])"
   ]
  },
  {
   "cell_type": "code",
   "execution_count": null,
   "id": "2241a911-cd08-4bca-895d-0d81379fa943",
   "metadata": {},
   "outputs": [],
   "source": [
    "## 문자열 범위 선택 (slicing) : [:]"
   ]
  },
  {
   "cell_type": "code",
   "execution_count": 29,
   "id": "0561afcd-97cc-4b8d-9118-b201c32cdcd8",
   "metadata": {},
   "outputs": [
    {
     "name": "stdout",
     "output_type": "stream",
     "text": [
      "ello, Pyt\n",
      ", Python!\n"
     ]
    }
   ],
   "source": [
    "var = \"Hello, Python!\"\n",
    "print (var[1:-4])\n",
    "print (var[5:])"
   ]
  },
  {
   "cell_type": "code",
   "execution_count": 36,
   "id": "17093601-d8a2-4a12-a6a9-4b8ece8e2cf4",
   "metadata": {},
   "outputs": [
    {
     "name": "stdout",
     "output_type": "stream",
     "text": [
      "aaaaaaaaaa\n",
      "bbbbbb\n"
     ]
    }
   ],
   "source": [
    "seq = \"abababababababababab\"\n",
    "print (seq[0::2])\n",
    "\n",
    "seq_spliced = seq[9:]\n",
    "print(seq_spliced[::2])"
   ]
  },
  {
   "cell_type": "code",
   "execution_count": 37,
   "id": "1c5021dc-8fd2-439a-8b34-5a0e2f8643ae",
   "metadata": {},
   "outputs": [],
   "source": [
    "## 지수 표현"
   ]
  },
  {
   "cell_type": "code",
   "execution_count": 40,
   "id": "e38f872d-678b-4215-9122-22c138e35858",
   "metadata": {},
   "outputs": [
    {
     "name": "stdout",
     "output_type": "stream",
     "text": [
      "123.456\n",
      "123.456\n"
     ]
    }
   ],
   "source": [
    "print(0.123456e3)\n",
    "print(123456e-3)"
   ]
  },
  {
   "cell_type": "code",
   "execution_count": 45,
   "id": "7edde502-54c3-466a-94f1-28096061ad97",
   "metadata": {},
   "outputs": [
    {
     "name": "stdin",
     "output_type": "stream",
     "text": [
      " 1\n",
      " 2\n"
     ]
    },
    {
     "name": "stdout",
     "output_type": "stream",
     "text": [
      "<class 'int'>\n"
     ]
    },
    {
     "data": {
      "text/plain": [
       "3"
      ]
     },
     "execution_count": 45,
     "metadata": {},
     "output_type": "execute_result"
    }
   ],
   "source": [
    "a = int(input())\n",
    "b = input()\n",
    "\n",
    "def add(a, b) :\n",
    "    return a + b\n",
    "\n",
    "print(type(a))\n",
    "add(a, int(b))"
   ]
  },
  {
   "cell_type": "code",
   "execution_count": 69,
   "id": "da53253e-336c-41bd-ba75-fe70e5c78211",
   "metadata": {},
   "outputs": [
    {
     "name": "stdout",
     "output_type": "stream",
     "text": [
      "width is 100cm and height is 30cm\n"
     ]
    }
   ],
   "source": [
    "width = 100\n",
    "height = 30\n",
    "\n",
    "message = f\"width is {width}cm and height is {height}cm\"\n",
    "print(message)"
   ]
  },
  {
   "cell_type": "code",
   "execution_count": 54,
   "id": "eec4a2f6-2444-483a-b2f1-3e7ae1f02507",
   "metadata": {},
   "outputs": [
    {
     "name": "stdout",
     "output_type": "stream",
     "text": [
      "Error is 98%\n",
      "1.2345\n"
     ]
    }
   ],
   "source": [
    "print(\"Error is %d%%\" %98)\n",
    "print(\"%0.4f\" % 1.2345)"
   ]
  },
  {
   "cell_type": "code",
   "execution_count": 65,
   "id": "894f4425-073d-48cc-b289-0ac2df0ffc32",
   "metadata": {},
   "outputs": [
    {
     "name": "stdin",
     "output_type": "stream",
     "text": [
      " 003_12224427_LeeSeungjun.docx\n"
     ]
    },
    {
     "name": "stdout",
     "output_type": "stream",
     "text": [
      "['003', '12224427', 'LeeSeungjun']\n"
     ]
    }
   ],
   "source": [
    "filename = input()\n",
    "parts = filename.split('_')\n",
    "parts[-1] = parts[-1].split('.')[0]\n",
    "print(parts)"
   ]
  },
  {
   "cell_type": "code",
   "execution_count": 66,
   "id": "8997f47d-e8ac-47d8-82b9-ba4999867c62",
   "metadata": {},
   "outputs": [],
   "source": [
    "## 리스트와 튜플"
   ]
  },
  {
   "cell_type": "code",
   "execution_count": 77,
   "id": "2f41ebb8-7327-4197-bd9a-194f064615d9",
   "metadata": {},
   "outputs": [
    {
     "name": "stdout",
     "output_type": "stream",
     "text": [
      "Python\n",
      "\n",
      "Python\n"
     ]
    }
   ],
   "source": [
    "f = [1,2,3,[4,5,\"Hello, Python!\",True]] # nested list\n",
    "f_a = f[3]\n",
    "text = f_a[2]\n",
    "print(text[7:13])\n",
    "#########################################################################################\n",
    "print()\n",
    "g = [1, 2, 3, 4, 5, 6, [1, 2, \"Hi,,,, !! Python !!! Hello, \", None, True]]\n",
    "print(g[6][2][10:16])"
   ]
  },
  {
   "cell_type": "code",
   "execution_count": null,
   "id": "88140b2f-97f0-49bf-80c0-e36b07e05238",
   "metadata": {},
   "outputs": [],
   "source": []
  }
 ],
 "metadata": {
  "kernelspec": {
   "display_name": "Python 3 (ipykernel)",
   "language": "python",
   "name": "python3"
  },
  "language_info": {
   "codemirror_mode": {
    "name": "ipython",
    "version": 3
   },
   "file_extension": ".py",
   "mimetype": "text/x-python",
   "name": "python",
   "nbconvert_exporter": "python",
   "pygments_lexer": "ipython3",
   "version": "3.11.7"
  }
 },
 "nbformat": 4,
 "nbformat_minor": 5
}
