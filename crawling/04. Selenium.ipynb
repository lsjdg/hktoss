{
 "cells": [
  {
   "cell_type": "markdown",
   "id": "4f76eaa7-233a-4065-b8d7-68dbaed37a75",
   "metadata": {},
   "source": [
    "## Selenium\n",
    "* 브라우저를 직접 실행해 자동화하고 브라우저 상에 있는 데이터 수집\n",
    "* 웹 테스트 자동화"
   ]
  },
  {
   "cell_type": "code",
   "execution_count": 1,
   "id": "984046d6-20f8-4e42-88ce-3d5cf64ccec5",
   "metadata": {},
   "outputs": [],
   "source": [
    "from selenium import webdriver # 파이썬과 브라우저 연결\n",
    "from selenium.webdriver.chrome.service import Service # 어떤 브라우저를 사용할지 선택\n",
    "from webdriver_manager.chrome import ChromeDriverManager # Chrome 을 사용하기 위한 드라이버 설정"
   ]
  },
  {
   "cell_type": "markdown",
   "id": "d08d7ba3-aaa3-4cf3-8763-7f3c24797e5e",
   "metadata": {},
   "source": [
    "* Chrome 드라이버 설치\n",
    "  - 브라우저 버전에 맞게 설치하는 코드"
   ]
  },
  {
   "cell_type": "code",
   "execution_count": 3,
   "id": "66e86e10-4cbe-4209-819a-af7a74dd2e72",
   "metadata": {},
   "outputs": [],
   "source": [
    "def get_chrome_driver():\n",
    "    # 1. 크롬 옵션 세팅\n",
    "    chrome_options = webdriver.ChromeOptions()\n",
    "    # 2. Driver 생성\n",
    "    driver = webdriver.Chrome(\n",
    "    service=Service(ChromeDriverManager().install()),\n",
    "    options=chrome_options\n",
    "    )\n",
    "\n",
    "    return driver"
   ]
  },
  {
   "cell_type": "code",
   "execution_count": 4,
   "id": "67ea8994-4968-423c-ac08-e672e994b07f",
   "metadata": {},
   "outputs": [],
   "source": [
    "driver = get_chrome_driver()"
   ]
  },
  {
   "cell_type": "markdown",
   "id": "8815e3d6-03a9-4d5e-acb7-132f27d5ca94",
   "metadata": {},
   "source": [
    "* 각종 제어들을 알아보자"
   ]
  },
  {
   "cell_type": "code",
   "execution_count": 7,
   "id": "b3817d71-71b7-4985-985e-8c5b664b748d",
   "metadata": {},
   "outputs": [],
   "source": [
    "driver.get('https://www.naver.com') # 주소 변경"
   ]
  },
  {
   "cell_type": "code",
   "execution_count": 8,
   "id": "6ab42720-5993-4f90-b91d-8f72c8c1c199",
   "metadata": {},
   "outputs": [],
   "source": [
    "# 검색창에 검색어를 입력하기 위해 알맞은 selector 찾기\n",
    "from selenium.webdriver.common.by import By # 어떤 것을 기준으로 선택할지 지정\n",
    "\n",
    "driver.find_element(By.CSS_SELECTOR, '#query').send_keys('집에가고싶다') # element 에 key 전달"
   ]
  },
  {
   "cell_type": "code",
   "execution_count": 9,
   "id": "81332fb6-8d8d-4186-902c-f455069edb10",
   "metadata": {},
   "outputs": [],
   "source": [
    "driver.find_element(By.CSS_SELECTOR, '#query').clear()\n",
    "driver.find_element(By.CSS_SELECTOR, '#query').send_keys('토스뱅크')"
   ]
  },
  {
   "cell_type": "markdown",
   "id": "a521d79b-38dc-4cbb-be76-7cc61a0e77aa",
   "metadata": {},
   "source": [
    "* 셀레니움은 기본적으로 FE를 테스트하기 위한 도구. 따라서 눈에 보이지 않으면  element 가 잡히지 않음\n",
    "  "
   ]
  },
  {
   "cell_type": "code",
   "execution_count": 15,
   "id": "0457046c-4712-49b1-b309-33f4387ce1f8",
   "metadata": {},
   "outputs": [],
   "source": [
    "# window size 조절\n",
    "driver.set_window_size(500, 500)"
   ]
  },
  {
   "cell_type": "code",
   "execution_count": 20,
   "id": "70c0140c-7aea-4c86-9222-5485d87b6655",
   "metadata": {},
   "outputs": [],
   "source": [
    "# 스크롤 위치 조정 - JS 활용\n",
    "driver.execute_script('window.scrollTo(50, 600)')\n",
    "# 이를 이용하면 무한 스크롤 구현해 인스타그램 크롤링 가능"
   ]
  },
  {
   "cell_type": "code",
   "execution_count": 21,
   "id": "76a921fd-3238-4560-aa82-64b85822acc8",
   "metadata": {},
   "outputs": [],
   "source": [
    "driver.quit()"
   ]
  },
  {
   "cell_type": "markdown",
   "id": "90145006-2e2b-4522-b31d-508d987efffa",
   "metadata": {},
   "source": [
    "## 네이버 뉴스 기사 크롤링"
   ]
  },
  {
   "cell_type": "code",
   "execution_count": 33,
   "id": "f885febb-d649-4e0e-a494-d4b377d8a777",
   "metadata": {},
   "outputs": [],
   "source": [
    "URL = 'https://news.naver.com/section/105'\n",
    "CSS_SELECTOR = \".section_latest .section_component .section_latest_article .section_article ul li\""
   ]
  },
  {
   "cell_type": "code",
   "execution_count": 34,
   "id": "09ffe910-a626-4668-8853-bf923ccd88a4",
   "metadata": {},
   "outputs": [],
   "source": [
    "driver = get_chrome_driver()"
   ]
  },
  {
   "cell_type": "code",
   "execution_count": 35,
   "id": "a2db0d3a-aec2-484f-9c75-d4d3a6fcea31",
   "metadata": {},
   "outputs": [],
   "source": [
    "driver.get(URL)"
   ]
  },
  {
   "cell_type": "code",
   "execution_count": 36,
   "id": "133a775d-f78c-439a-b7b6-8fc7cb84e942",
   "metadata": {},
   "outputs": [
    {
     "data": {
      "text/plain": [
       "36"
      ]
     },
     "execution_count": 36,
     "metadata": {},
     "output_type": "execute_result"
    }
   ],
   "source": [
    "articles = driver.find_elements(\n",
    "    By.CSS_SELECTOR,\n",
    "    CSS_SELECTOR\n",
    ")\n",
    "\n",
    "len(articles)"
   ]
  },
  {
   "cell_type": "code",
   "execution_count": 37,
   "id": "019ee1c4-9269-4b1c-a60b-619c90698fd3",
   "metadata": {},
   "outputs": [
    {
     "data": {
      "text/plain": [
       "'2분기 OLED 태블릿 패널 출하량 최고치…\"아이패드 프로 때문\"\\n지난 2분기 OLED 태블릿 패널 출하량이 급증했다고 IT매체 폰아레나가 시장조사업체 DSCC 보고서를 인용해 15일(현지시간) 보도했다. 보고서에 따르면, 2024년 한 해 OLED 태블릿 패널 출하량은 전년 대비\\n지디넷코리아\\n21분전'"
      ]
     },
     "execution_count": 37,
     "metadata": {},
     "output_type": "execute_result"
    }
   ],
   "source": [
    "articles[0].text"
   ]
  },
  {
   "cell_type": "code",
   "execution_count": 38,
   "id": "4eefc5a0-672d-4325-89f6-eeac9b7746f8",
   "metadata": {},
   "outputs": [
    {
     "data": {
      "text/plain": [
       "'2분기 OLED 태블릿 패널 출하량 최고치…\"아이패드 프로 때문\"'"
      ]
     },
     "execution_count": 38,
     "metadata": {},
     "output_type": "execute_result"
    }
   ],
   "source": [
    "articles[0].find_element(By.CSS_SELECTOR, 'strong.sa_text_strong').text"
   ]
  },
  {
   "cell_type": "code",
   "execution_count": 39,
   "id": "09fdac60-305e-4523-803c-f751c31d41c0",
   "metadata": {},
   "outputs": [
    {
     "data": {
      "text/plain": [
       "['2분기 OLED 태블릿 패널 출하량 최고치…\"아이패드 프로 때문\"',\n",
       " '인텔 소프트웨어 정의車용 칩, 미국 내 첫 고객사 확보',\n",
       " 'IT셧다운 공포가 멀티 벤더 수요로…국내 클라우드 기업 반사이익 얻을까?',\n",
       " \"'사이버 레커 수익 몰수' '국회 차원 제재'…청원 잇따라\",\n",
       " \"'빗장 푼 애플' 아이폰서 삼성·구글페이 결제 가능…한국은 대상국서 제외\",\n",
       " \"SK하이닉스, 2분기 D램 시장 점유율↑… 삼성전자는 'D램 매출' 1위 수성\",\n",
       " \"전공의 추가모집 오늘 마감인데 지원자 '미미'…병원들 각자 도생\",\n",
       " '루게릭병이 뺏어간 목소리, 마음 읽는 뇌 임플란트가 되찾았다',\n",
       " '고임금 시대 음식점의 미래는 … 푸드테크와 스마트 기술 [똑똑한 장사]',\n",
       " '엔씨소프트, 비용·사채 줄였는데…효과는',\n",
       " \"'자동차 보험료 20% 깎는 꿀팁' 인기 끌더니…대박 터졌다\",\n",
       " '\"DX로 불황 극복\"...IT서비스기업 상반기 호실적 달성',\n",
       " '비트코인, 6만 달러 못 넘고 또 급락…\"당분간 약세\"',\n",
       " '업비트, 자동적립식 ‘코인 모으기’ 출시',\n",
       " '접거나 긁혀도 고장안나는 폴더블 회로 나왔다',\n",
       " '한국시장 노리는 중국...삼성과 ‘중저가 스마트폰’ 격돌',\n",
       " '전신마비 앓으면서 OTT 기업 창업자, 강남세브란스에 3000만원 기부',\n",
       " '\"공룡 멸종시킨 충돌체 정체는 목성 너머에서 온 탄소질 소행성\"',\n",
       " 'HBM 덕? 작년 4분기 글로벌 D램 매출 25% 성장',\n",
       " \"[생성 AI 갈라잡이] 대화형 검색 서비스 '퍼플렉시티'\",\n",
       " 'HK이노엔, 공동개발 자가면역질환 신약 중국사에 기술이전',\n",
       " '“전공의 이탈 의료 공백 속 ‘뺑뺑이’ 환자 17.2% 늘었다”',\n",
       " \"美 증시 상승에도…비트코인, 5만7000달러 '하락세'\",\n",
       " \"갤럭시도 디자인 통일?…갤S25 울트라 '각' 없어질 듯\",\n",
       " '카카오 몸집줄이기…카카오VX, 골프용품·헬스케어·NFT 사업 철수',\n",
       " 'HK이노엔-아이엠바이오, 자가면역질환 신약 中 기술이전…4300억 규모',\n",
       " '성심당, 임차료보다 카드 수수료 더 냈다',\n",
       " '\"주주 의견 우선\" 셀트리온·셀트리온제약 합병 안 한다',\n",
       " \"SK하이닉스, '하이-NA' EUV 장비 2026년 첫 도입\",\n",
       " '디즈니, 음식 때문에 숨졌는데…\"디즈니플러스 약관 동의했으니 소송 불가\"',\n",
       " '상반기 호실적에도 웃지 못하는 PG사들…티메프사태 ‘예의주시’',\n",
       " \"'주가 하락' 로봇업계, 자사주 매입 잇달아\",\n",
       " '[이기자의 게임픽] 호연·로한2·카잔...유명 게임 후속작 쏟아진다',\n",
       " 'HK이노엔-아이엠·와이바이오 공동개발 신약물질 中기술수출',\n",
       " '한국 문턱 넘는 중국…삼성과 ‘중저가 스마트폰’ 시장 격돌',\n",
       " '\"물리학은 기초과학인 동시에 첨단과학\"…72년만 첫 여성 물리학회장 윤진희 교수']"
      ]
     },
     "execution_count": 39,
     "metadata": {},
     "output_type": "execute_result"
    }
   ],
   "source": [
    "article_list = []\n",
    "\n",
    "for article in articles:\n",
    "    title = article.find_element(By.CSS_SELECTOR, 'strong.sa_text_strong')\n",
    "    if title:\n",
    "        article_list.append(title.text)\n",
    "\n",
    "article_list"
   ]
  },
  {
   "cell_type": "markdown",
   "id": "5113b182-a1fe-4d5d-99e3-aa2841583019",
   "metadata": {},
   "source": [
    "## COFIX 통계 자동 크롤링"
   ]
  },
  {
   "cell_type": "code",
   "execution_count": 41,
   "id": "454cb1f7-4da8-4a3c-ab34-61a8632ba918",
   "metadata": {},
   "outputs": [],
   "source": [
    "driver = get_chrome_driver()"
   ]
  },
  {
   "cell_type": "code",
   "execution_count": 44,
   "id": "95b5a54c-f776-4271-ab2c-6749dfd216fa",
   "metadata": {},
   "outputs": [],
   "source": [
    "urls = 'https://portal.kfb.or.kr/fingoods/cofix.php?BasicYear_W=&BasicYear={}'\n",
    "driver.get(urls.format(2020))"
   ]
  },
  {
   "cell_type": "code",
   "execution_count": 45,
   "id": "1e4b0a77-de62-4c63-accb-2f32d3b04d4e",
   "metadata": {},
   "outputs": [],
   "source": [
    "# 보기 버튼 클릭\n",
    "button_elem = driver.find_element(\n",
    "    By.CSS_SELECTOR,\n",
    "    'li.leftArea span.btnArea a.btn01'\n",
    ")\n",
    "\n",
    "button_elem.click()"
   ]
  },
  {
   "cell_type": "code",
   "execution_count": 47,
   "id": "4db7037d-0070-454b-a835-c41c6a796c88",
   "metadata": {},
   "outputs": [],
   "source": [
    "# 다운 버튼 클릭\n",
    "download_button_elem = driver.find_element(\n",
    "    By.CSS_SELECTOR,\n",
    "    'li.rightArea  span.btnArea a.btn01'\n",
    ")\n",
    "\n",
    "download_button_elem.click()"
   ]
  },
  {
   "cell_type": "code",
   "execution_count": 51,
   "id": "7265d21a-6739-49ee-875c-5db333f93571",
   "metadata": {},
   "outputs": [
    {
     "data": {
      "text/plain": [
       "15"
      ]
     },
     "execution_count": 51,
     "metadata": {},
     "output_type": "execute_result"
    }
   ],
   "source": [
    "# dropdown 메뉴에서 연도 선택\n",
    "year_dropdown_list = driver.find_elements(\n",
    "    By.CSS_SELECTOR,\n",
    "    '#BasicYear option'\n",
    ")\n",
    "\n",
    "len(year_dropdown_list)"
   ]
  },
  {
   "cell_type": "code",
   "execution_count": 52,
   "id": "4b4e98bf-3593-4734-8e80-6f293cdaa23c",
   "metadata": {},
   "outputs": [
    {
     "data": {
      "text/plain": [
       "['2024',\n",
       " '2023',\n",
       " '2022',\n",
       " '2021',\n",
       " '2020',\n",
       " '2019',\n",
       " '2018',\n",
       " '2017',\n",
       " '2016',\n",
       " '2015',\n",
       " '2014',\n",
       " '2013',\n",
       " '2012',\n",
       " '2011',\n",
       " '2010']"
      ]
     },
     "execution_count": 52,
     "metadata": {},
     "output_type": "execute_result"
    }
   ],
   "source": [
    "year_list = [ year_option.text for year_option in year_dropdown_list ]\n",
    "year_list"
   ]
  },
  {
   "cell_type": "code",
   "execution_count": 54,
   "id": "771ceec2-a75f-4671-8a46-ea2c82613c42",
   "metadata": {},
   "outputs": [],
   "source": [
    "for year in year_list:\n",
    "    driver.get(urls.format(year))\n",
    "    download_button_elem = driver.find_element(\n",
    "    By.CSS_SELECTOR,\n",
    "    'li.rightArea  span.btnArea a.btn01'\n",
    "    )\n",
    "    download_button_elem.click()"
   ]
  },
  {
   "cell_type": "code",
   "execution_count": null,
   "id": "a244b530-02c7-4352-b471-bf68155457ce",
   "metadata": {},
   "outputs": [],
   "source": []
  }
 ],
 "metadata": {
  "kernelspec": {
   "display_name": "Python 3 (ipykernel)",
   "language": "python",
   "name": "python3"
  },
  "language_info": {
   "codemirror_mode": {
    "name": "ipython",
    "version": 3
   },
   "file_extension": ".py",
   "mimetype": "text/x-python",
   "name": "python",
   "nbconvert_exporter": "python",
   "pygments_lexer": "ipython3",
   "version": "3.8.19"
  }
 },
 "nbformat": 4,
 "nbformat_minor": 5
}
