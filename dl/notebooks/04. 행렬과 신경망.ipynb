{
 "cells": [
  {
   "cell_type": "markdown",
   "id": "d2610915-42f3-49d0-be63-50bdaf430070",
   "metadata": {},
   "source": [
    "# 신경망의 입력값과 가중치\n",
    "* 신경망에 입력되는 값은 여러 개이다.\n",
    "* 입력값에 해당하는 가중치도 여러 개.\n",
    "  * 1층의 첫 번째 뉴런에 대한 선형 조합 계산 : $z^{(1)}_{1} = w^{(1)}_{11}x_1 + w^{(1)}_{12}x_2+b^{(1)}_1$\n",
    "  * $w^{(1)}_{12}$ : (1) 층에 있는 1번째 뉴런으로 가는, 2번째 데이터에서 오는 가중치"
   ]
  },
  {
   "cell_type": "code",
   "execution_count": 3,
   "id": "4f18c36f-5a52-4062-8d02-2846bcd93934",
   "metadata": {},
   "outputs": [
    {
     "name": "stdout",
     "output_type": "stream",
     "text": [
      "입력값 X의 shape : (2,)\n",
      "가중치 w의 shape : (2, 3)\n"
     ]
    }
   ],
   "source": [
    "import numpy as np\n",
    "\n",
    "X = np.array([1, 2])\n",
    "\n",
    "w = np.array([[1, 2, 3],\n",
    "              [4, 5, 6]]) # 2개의 입력을 받는 3개의 뉴런\n",
    "\n",
    "\n",
    "print(\"입력값 X의 shape : {}\".format(X.shape))\n",
    "print(\"가중치 w의 shape : {}\".format(W.shape))"
   ]
  },
  {
   "cell_type": "code",
   "execution_count": 4,
   "id": "0fb57752-bd35-46d4-8599-efd5a539e247",
   "metadata": {},
   "outputs": [
    {
     "name": "stdout",
     "output_type": "stream",
     "text": [
      "뉴런의 출력값 : [ 9 12 15]\n"
     ]
    }
   ],
   "source": [
    "Z = X @ w\n",
    "print(f'뉴런의 출력값 : {Z}')"
   ]
  },
  {
   "cell_type": "code",
   "execution_count": 5,
   "id": "d10f1506-c323-4d5f-981b-e1d743ac33b4",
   "metadata": {},
   "outputs": [
    {
     "name": "stdout",
     "output_type": "stream",
     "text": [
      "뉴런의 출력값 : [ 9 12 15]\n"
     ]
    }
   ],
   "source": [
    "# w 의 transpose 형식으로 나타내기\n",
    "\n",
    "Z = w.T @ X\n",
    "print(f'뉴런의 출력값 : {Z}')"
   ]
  },
  {
   "cell_type": "code",
   "execution_count": 6,
   "id": "f7dc02af-f177-428c-8d9e-e9ed6623872f",
   "metadata": {},
   "outputs": [
    {
     "data": {
      "text/plain": [
       "array([19, 23, 27])"
      ]
     },
     "execution_count": 6,
     "metadata": {},
     "output_type": "execute_result"
    }
   ],
   "source": [
    "# bias\n",
    "B = np.array([10, 11, 12])\n",
    "\n",
    "Z = X @ w + B\n",
    "Z"
   ]
  },
  {
   "cell_type": "markdown",
   "id": "d6101e87-88fb-45b5-8489-87512f05941d",
   "metadata": {},
   "source": [
    "# 단순한 3층 신경망 구성하기\n",
    "* 1층을 구성하는 표기\n",
    " * 1층의 1번째 뉴런만 표기 : $z_1^{(1)} = w_{11}^{(1)}x_1 + w_{12}^{(1)}x_2+b_1^{(1)}$\n",
    " * 1층 전체를 나타내기 : $Z^{(1)} = XW^{(1)} + B^{(1)}$\n",
    "   * B의 원소 수는 뉴런의 개수와 같다.\n",
    " * $X = (x_1, x_2)$\n",
    " * $W^{(1)} = \\begin{pmatrix}w_{11}^{(1)} & w_{21}^{(1)} & w_{31}^{(1)} \\\\ w_{12}^{(1)} & w_{22}^{(1)} & w_{32}^{(1)}\n",
    " \\end{pmatrix}$\n",
    " * $B^{(1)} = \\begin{pmatrix}b_1^{(1)}&b_2^{(1)}&b_3^{(1)}\\end{pmatrix}$\n",
    " * $Z^{(1)} = \\begin{pmatrix}z_1^{(1)}&z_2^{(1)}&z_3^{(1)}\\end{pmatrix}$"
   ]
  },
  {
   "cell_type": "code",
   "execution_count": 7,
   "id": "af463e67-ea4c-4509-941e-9b9b5f46d265",
   "metadata": {},
   "outputs": [],
   "source": [
    "# 시그모이드 함수 - 은닉층에서 사용할 것.\n",
    "def sigmoid(x):\n",
    "  return 1 / (1 + np.exp(-x))\n",
    "\n",
    "# 항등 함수 구현(identity function) - 출력층에서 사용할 것.\n",
    "def identity_function(x):\n",
    "  return x"
   ]
  },
  {
   "cell_type": "code",
   "execution_count": 11,
   "id": "62335067-98b6-4d15-9f33-df1c0a9671d7",
   "metadata": {},
   "outputs": [
    {
     "name": "stdout",
     "output_type": "stream",
     "text": [
      "Z의 결과 : [0.3 0.7 1.1]\n",
      "1층의 결과 : [0.57444252 0.66818777 0.75026011]\n"
     ]
    }
   ],
   "source": [
    "X = np.array([1.0, 0.5])\n",
    "W1 = np.array([[0.1, 0.3, 0.5],\n",
    "               [0.2, 0.4, 0.6]])\n",
    "\n",
    "B1 = np.array([0.1, 0.2, 0.3])\n",
    "\n",
    "Z1 = X @ W1 + B1 # 선형 연산\n",
    "A1 = sigmoid(Z1) # 각 뉴런의 결과물에 비선형성을 부여\n",
    "\n",
    "print(\"Z의 결과 : {}\".format(Z1))\n",
    "print(\"1층의 결과 : {}\".format(A1))"
   ]
  },
  {
   "cell_type": "code",
   "execution_count": 15,
   "id": "80b4a6a2-7758-468c-b000-ac78003c1662",
   "metadata": {},
   "outputs": [
    {
     "name": "stdout",
     "output_type": "stream",
     "text": [
      "Z의 결과 : [0.51615984 1.21402696]\n",
      "2층의 결과 : [0.62624937 0.7710107 ]\n",
      "(3,) (3, 2) (2,)\n",
      "(2,) (2,)\n"
     ]
    }
   ],
   "source": [
    "# 두 번째 층 구현\n",
    "W2 = np.array([[0.1, 0.4],\n",
    "               [0.2, 0.5],\n",
    "               [0.3, 0.6]])\n",
    "\n",
    "B2 = np.array([0.1, 0.2])\n",
    "\n",
    "# 두 번째 층의 입력 값은 첫 번째 층의 출력\n",
    "Z2 = A1 @ W2 + B2\n",
    "A2 = sigmoid(Z2)\n",
    "\n",
    "print(\"Z의 결과 : {}\".format(Z2))\n",
    "print(\"2층의 결과 : {}\".format(A2))\n",
    "\n",
    "# 2층 연산에 대한 행렬 shape 확인\n",
    "print(A1.shape, W2.shape, B2.shape)\n",
    "print(Z2.shape, A2.shape)"
   ]
  },
  {
   "cell_type": "code",
   "execution_count": 14,
   "id": "0342b9ab-2d4c-441e-bb0e-442e33e63e17",
   "metadata": {},
   "outputs": [
    {
     "name": "stdout",
     "output_type": "stream",
     "text": [
      "출력층의 결과: [0.31682708 0.69627909]\n"
     ]
    }
   ],
   "source": [
    "# 3층 출력층 구현 (활성화 함수는 항등함수)\n",
    "W3 = np.array([[0.1, 0.3],\n",
    "               [0.2, 0.4]])\n",
    "\n",
    "B3 = np.array([0.1, 0.2])\n",
    "\n",
    "Z3 = A2 @ W3 + B3\n",
    "\n",
    "# 예측 값\n",
    "y_pred = identity_function(Z3)\n",
    "\n",
    "print(f'출력층의 결과: {y_pred}')"
   ]
  },
  {
   "cell_type": "code",
   "execution_count": 17,
   "id": "e39b0843-36fe-469e-b430-7e1aeef26850",
   "metadata": {},
   "outputs": [],
   "source": [
    "# 네트워크 초기화\n",
    "#  네트워크가 최초로 가지고 있어야 할 가중와 편향을 설정\n",
    "#  보통은 정규분포 랜덤으로 초기화 하거나, 카이밍 허, 사비에르 초깃값 등을 활용 => 가질만한 초기값을 제공\n",
    "def init_network():\n",
    "  network = {}\n",
    "\n",
    "  # 1층 매개변수 초기화\n",
    "  network[\"W1\"] = np.array([[0.1, 0.3, 0.5],\n",
    "                            [0.2, 0.4, 0.6]])\n",
    "  network[\"B1\"] = np.array([0.1, 0.2, 0.3])\n",
    "\n",
    "  # 2층 매개변수 초기화\n",
    "  network[\"W2\"] = np.array([[0.1, 0.4],\n",
    "                            [0.2, 0.5],\n",
    "                            [0.3, 0.6]])\n",
    "  network[\"B2\"] = np.array([0.1, 0.2])\n",
    "\n",
    "  # 3층 매개변수 초기화\n",
    "  network[\"W3\"] = np.array([[0.1, 0.3],\n",
    "                            [0.2, 0.4]])\n",
    "  network[\"B3\"] = np.array([0.1, 0.2])\n",
    "\n",
    "  return network\n",
    "\n",
    "# 순전파 XW+B\n",
    "def forward(network, x):\n",
    "  # 가중치, 편향 꺼내기\n",
    "  W1, W2, W3 = network[\"W1\"], network[\"W2\"], network[\"W3\"]\n",
    "  b1, b2, b3 = network[\"B1\"], network[\"B2\"], network[\"B3\"]\n",
    "\n",
    "  # 1층 계산\n",
    "  Z1 = (x @ W1) + b1\n",
    "  A1 = sigmoid(Z1)\n",
    "\n",
    "  # 2층 계산\n",
    "  Z2 = A1 @ W2 + b2\n",
    "  A2 = sigmoid(Z2)\n",
    "\n",
    "  # 3층 계산\n",
    "  Z3 = A2 @ W3 + b3\n",
    "  y = identity_function(Z3)\n",
    "\n",
    "  return y"
   ]
  },
  {
   "cell_type": "code",
   "execution_count": 19,
   "id": "ad71d165-8efc-4d7e-91cf-08f63f759a6d",
   "metadata": {},
   "outputs": [
    {
     "name": "stdout",
     "output_type": "stream",
     "text": [
      "[0.31682708 0.69627909]\n"
     ]
    }
   ],
   "source": [
    "model = init_network()\n",
    "\n",
    "x = np.array([1.0, 0.5])\n",
    "\n",
    "# pytorch 같은 경우 forward 함수가 네트워크 안에 존재\n",
    "y = forward(model, x)\n",
    "print(y)"
   ]
  },
  {
   "cell_type": "code",
   "execution_count": null,
   "id": "2ed0a816-dfdb-414f-aede-393396879312",
   "metadata": {},
   "outputs": [],
   "source": []
  }
 ],
 "metadata": {
  "kernelspec": {
   "display_name": "Python 3 (ipykernel)",
   "language": "python",
   "name": "python3"
  },
  "language_info": {
   "codemirror_mode": {
    "name": "ipython",
    "version": 3
   },
   "file_extension": ".py",
   "mimetype": "text/x-python",
   "name": "python",
   "nbconvert_exporter": "python",
   "pygments_lexer": "ipython3",
   "version": "3.8.18"
  }
 },
 "nbformat": 4,
 "nbformat_minor": 5
}
