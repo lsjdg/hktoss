{
 "cells": [
  {
   "cell_type": "code",
   "execution_count": 1,
   "id": "b17dbc53-60d6-4792-a5b2-75265df5cad8",
   "metadata": {},
   "outputs": [],
   "source": [
    "import numpy as np"
   ]
  },
  {
   "cell_type": "markdown",
   "id": "68206a31-4a7f-4f77-b79e-39076a49e49d",
   "metadata": {},
   "source": [
    "# 배열의 정보 확인"
   ]
  },
  {
   "cell_type": "code",
   "execution_count": 3,
   "id": "f1d11138-48d4-43cc-9d53-e410a4cd9b6b",
   "metadata": {},
   "outputs": [
    {
     "name": "stdout",
     "output_type": "stream",
     "text": [
      "1\n",
      "(4,)\n"
     ]
    }
   ],
   "source": [
    "A = np.array([1, 2, 3, 4])\n",
    "\n",
    "# 배열의 차원 확인\n",
    "print(A.ndim)\n",
    "\n",
    "# 배열의 모양(shape) 확인\n",
    "print(A.shape)"
   ]
  },
  {
   "cell_type": "code",
   "execution_count": 4,
   "id": "e8e44c9a-25cb-4015-a582-9a2537970660",
   "metadata": {},
   "outputs": [
    {
     "name": "stdout",
     "output_type": "stream",
     "text": [
      "2\n",
      "(3, 2)\n"
     ]
    }
   ],
   "source": [
    "B = np.array([[1, 2],\n",
    "              [3, 4],\n",
    "              [5, 6]])\n",
    "\n",
    "print(B.ndim)\n",
    "print(B.shape)"
   ]
  },
  {
   "cell_type": "code",
   "execution_count": 5,
   "id": "a66f2201-e370-4797-b9af-f95809ef5f2e",
   "metadata": {},
   "outputs": [],
   "source": [
    "A = np.array([[1, 2],\n",
    "              [3, 4],\n",
    "              [5, 6]])\n",
    "\n",
    "B = np.array([[10, 11],\n",
    "              [12, 13],\n",
    "              [14, 15]])"
   ]
  },
  {
   "cell_type": "code",
   "execution_count": 6,
   "id": "d9d2ac37-4cf0-4ec1-85eb-e532ddcd08c4",
   "metadata": {},
   "outputs": [
    {
     "data": {
      "text/plain": [
       "array([[ 32,  38,  44],\n",
       "       [ 74,  88, 102],\n",
       "       [116, 138, 160]])"
      ]
     },
     "execution_count": 6,
     "metadata": {},
     "output_type": "execute_result"
    }
   ],
   "source": [
    "A @ B.T # (3 x 2) @ ( 3 x 2 )^T -> (3 x 2) @ (2 x 3) ===> (3 x 3)"
   ]
  },
  {
   "cell_type": "code",
   "execution_count": 7,
   "id": "eb622bf8-1221-4668-b38f-d6bb6ff253fc",
   "metadata": {},
   "outputs": [
    {
     "data": {
      "text/plain": [
       "array([[116, 125],\n",
       "       [152, 164]])"
      ]
     },
     "execution_count": 7,
     "metadata": {},
     "output_type": "execute_result"
    }
   ],
   "source": [
    "A.T @ B"
   ]
  },
  {
   "cell_type": "code",
   "execution_count": null,
   "id": "ec6b7c32-4397-4103-856c-79002be6759b",
   "metadata": {},
   "outputs": [],
   "source": []
  }
 ],
 "metadata": {
  "kernelspec": {
   "display_name": "Python 3 (ipykernel)",
   "language": "python",
   "name": "python3"
  },
  "language_info": {
   "codemirror_mode": {
    "name": "ipython",
    "version": 3
   },
   "file_extension": ".py",
   "mimetype": "text/x-python",
   "name": "python",
   "nbconvert_exporter": "python",
   "pygments_lexer": "ipython3",
   "version": "3.8.18"
  }
 },
 "nbformat": 4,
 "nbformat_minor": 5
}
