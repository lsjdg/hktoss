{
 "cells": [
  {
   "cell_type": "markdown",
   "id": "d627b136-d7b4-41dd-873a-2bfff2f33c46",
   "metadata": {},
   "source": [
    "# 퍼셉트론이란?\n",
    "* 입력된 다수에 데이터에 대해 어떠한 처리( 가중치 $w$ )를 곱해서 출력 하나($y$)를 내는 것\n",
    "\n",
    "$$\n",
    "y = \\begin{cases}\n",
    "0 \\enspace (w_1x_1 + w_2x_2 \\leq \\theta)\n",
    "\\\\ 1 \\enspace (w_1x_1 + w_2x_2 > \\theta) \\end{cases}\n",
    "$$\n",
    "\n",
    "위 수식을 반응 조건 계산식 이라고 한다."
   ]
  },
  {
   "cell_type": "code",
   "execution_count": 2,
   "id": "6be9de4a-1dc1-4b14-9f43-88e0c2155393",
   "metadata": {},
   "outputs": [
    {
     "data": {
      "image/png": "[encoded data removed]",
      "text/plain": [
       "<Figure size 640x480 with 1 Axes>"
      ]
     },
     "metadata": {},
     "output_type": "display_data"
    }
   ],
   "source": [
    "import matplotlib.pyplot as plt\n",
    "import numpy as np\n",
    "\n",
    "# func : 퍼셉트론\n",
    "def func(x1, x2):\n",
    "  # 임의의 가중치인 w1, w2를 지정\n",
    "  # 임의의 임계값인 theta를 지정\n",
    "  w1, w2, theta = 0.5, 0.5, 2\n",
    "  y = w1*x1 + w2*x2\n",
    "\n",
    "  return y, y >= theta\n",
    "\n",
    "# 입력 데이터 생성\n",
    "x1 = np.linspace(-3, 7, 100)\n",
    "x2 = np.linspace(-3, 7, 100)\n",
    "\n",
    "# 퍼셉트론의 결과물 구하기\n",
    "y_value, y_result = func(x1, x2)\n",
    "\n",
    "# 시각화\n",
    "plt.plot(y_value, y_result)\n",
    "plt.yticks([0, 1])\n",
    "plt.xticks([-3,2,7], [r'-$\\infty$', r'$\\theta$', r'-$\\infty$'])\n",
    "plt.xlabel(r\"$w_1x_1+w_2x_2$\")\n",
    "plt.ylabel(\"y\", rotation=0)\n",
    "plt.show()"
   ]
  },
  {
   "cell_type": "markdown",
   "id": "75ac6107-d002-4c07-b44f-6bd5ba0bc4d8",
   "metadata": {},
   "source": [
    "## AND 게이트 구현"
   ]
  },
  {
   "cell_type": "code",
   "execution_count": 5,
   "id": "e1067c7f-0be2-486d-af98-413cce4bb545",
   "metadata": {},
   "outputs": [],
   "source": [
    "def AND_gate(x1, x2):\n",
    "    w1, w2, theta = 0.5, 0.5, 0.7\n",
    "    z = w1*x1 + w2*x2\n",
    "\n",
    "    return int(z > theta)"
   ]
  },
  {
   "cell_type": "code",
   "execution_count": 26,
   "id": "ecf2b49f-ac2a-48d9-9f13-3a4ce60dc32f",
   "metadata": {},
   "outputs": [],
   "source": [
    "x_list = [0,1]\n",
    "y_list = [0,1]\n",
    "\n",
    "def test_gate(gate):\n",
    "    for x in x_list:\n",
    "        for y in y_list:\n",
    "            print(gate(x, y))"
   ]
  },
  {
   "cell_type": "code",
   "execution_count": 27,
   "id": "57ea578b-bd41-4449-9417-fc95bdd1caec",
   "metadata": {},
   "outputs": [
    {
     "name": "stdout",
     "output_type": "stream",
     "text": [
      "0\n",
      "0\n",
      "0\n",
      "1\n"
     ]
    }
   ],
   "source": [
    "x_list = [0,1]\n",
    "y_list = [0,1]\n",
    "\n",
    "test_gate(AND_gate)"
   ]
  },
  {
   "cell_type": "markdown",
   "id": "7a9a271f-6ec1-40ea-aa46-63cf50a1cf75",
   "metadata": {},
   "source": [
    "$\\theta$를 기준으로 $w_1x_1 + w_2x_2$의 결과가 0 또는 1로 결정지어 진다. 이걸 일반화 시켜 어느 상황에서든 **반응 조건 계산식**을 활용할 수 있도록 일반화 시켜보기\n",
    "\n",
    "* 원래 수식\n",
    "\n",
    " * $\n",
    "y = \\begin{cases}\n",
    "0 \\enspace (w_1x_1 + w_2x_2 \\leq \\theta)\n",
    "\\\\ 1 \\enspace (w_1x_1 + w_2x_2 > \\theta) \\end{cases}\n",
    "$\n",
    "\n",
    "* 바뀐 수식\n",
    "\n",
    " * $\n",
    "y = \\begin{cases}\n",
    "0 \\enspace (w_1x_1 + w_2x_2 -\\theta \\leq 0)\n",
    "\\\\ 1 \\enspace (w_1x_1 + w_2x_2 -\\theta > 0) \\end{cases}\n",
    "$"
   ]
  },
  {
   "cell_type": "code",
   "execution_count": 9,
   "id": "d9c60b48-d3b6-49e8-82c3-a081e3b2832a",
   "metadata": {},
   "outputs": [
    {
     "data": {
      "image/png": "[encoded data removed]",
      "text/plain": [
       "<Figure size 640x480 with 1 Axes>"
      ]
     },
     "metadata": {},
     "output_type": "display_data"
    }
   ],
   "source": [
    "z = np.linspace(-3, 3, 100)\n",
    "plt.plot(z, z > 0)\n",
    "plt.yticks([0, 1])\n",
    "plt.xticks([-3, 0, 3],[r'-$\\infty$', r'$0$', r'-$\\infty$'])\n",
    "plt.xlabel(r\"$z$\")\n",
    "plt.ylabel(r\"$y=\\mathcal{a}(z)$\", rotation=0)\n",
    "plt.show()"
   ]
  },
  {
   "cell_type": "code",
   "execution_count": 13,
   "id": "c9deba58-b1f8-49bc-88b6-a21b6c38f43a",
   "metadata": {},
   "outputs": [],
   "source": [
    "def AND_gate_general(x1, x2):\n",
    "    w1, w2, theta = 0.5, 0.5, 0.7\n",
    "    z = w1*x1 + w2*x2 - theta\n",
    "\n",
    "    return int(z > 0)"
   ]
  },
  {
   "cell_type": "code",
   "execution_count": 28,
   "id": "1689c5fd-006b-48dc-aaf6-90819eb5aee7",
   "metadata": {},
   "outputs": [
    {
     "name": "stdout",
     "output_type": "stream",
     "text": [
      "0\n",
      "0\n",
      "0\n",
      "1\n"
     ]
    }
   ],
   "source": [
    "test_gate(AND_gate_general)"
   ]
  },
  {
   "cell_type": "markdown",
   "id": "15dfdc58-9ba7-4779-8cf1-bc8b86282a95",
   "metadata": {},
   "source": [
    "* $\n",
    "y = \\begin{cases}\n",
    "0 \\enspace (w_1x_1 + w_2x_2 -\\theta \\leq 0)\n",
    "\\\\ 1 \\enspace (w_1x_1 + w_2x_2 -\\theta > 0) \\end{cases}\n",
    "$\n",
    "\n",
    "  * $-\\theta$를 $b$로 변경한다.( $\\theta$ = $-b$)\n",
    "\n",
    "* $\n",
    "y = \\begin{cases}\n",
    "0 \\enspace (w_1x_1 + w_2x_2 +b \\leq 0)\n",
    "\\\\ 1 \\enspace (w_1x_1 + w_2x_2 +b > 0) \\end{cases}\n",
    "$\n",
    "\n",
    "* $z = w_1x_1 + w_2x_2 +b$\n",
    "\n",
    "* $\n",
    "y = \\begin{cases}\n",
    "0 \\enspace (z \\leq 0)\n",
    "\\\\ 1 \\enspace (z > 0) \\end{cases}\n",
    "$\n",
    "\n",
    "* $\n",
    "a(z) = \\begin{cases}\n",
    "0 \\enspace (z \\leq 0)\n",
    "\\\\ 1 \\enspace (z > 0) \\end{cases}\n",
    "$\n",
    "\n",
    "* $y=a(z)$\n",
    "* 함수$a$를 **단위 계단 함수**"
   ]
  },
  {
   "cell_type": "markdown",
   "id": "95c2d0f2-e6af-4d78-96ac-0f6631a50a4a",
   "metadata": {},
   "source": [
    "## 여러 개의 입력이 있다고 가정한다면??\n",
    "* $X=[x_1, x_2, x_3, ...]$\n",
    "* $W=[w_1, w_2, w_3, ...]$\n",
    "* $b$\n",
    "* $z = WX + b$"
   ]
  },
  {
   "cell_type": "code",
   "execution_count": 18,
   "id": "f4ba3fcd-b3ac-459c-996f-ecb6ac0525f9",
   "metadata": {},
   "outputs": [
    {
     "data": {
      "text/plain": [
       "(-0.19999999999999996, False)"
      ]
     },
     "execution_count": 18,
     "metadata": {},
     "output_type": "execute_result"
    }
   ],
   "source": [
    "x = np.array([0,1])\n",
    "w = np.array([0.5, 0.5])\n",
    "b = -0.7 # bias 는 threshold 의 음수\n",
    "z = w @ x + b\n",
    "\n",
    "z, z > 0"
   ]
  },
  {
   "cell_type": "code",
   "execution_count": 19,
   "id": "d0ca4498-51e8-4ef3-9cac-9279882e7e27",
   "metadata": {},
   "outputs": [],
   "source": [
    "def AND_gate_numpy(x1, x2):\n",
    "    x = np.array([x1, x2])\n",
    "    w = np.array([0.5, 0.5])\n",
    "    b = -0.7\n",
    "\n",
    "    z = w @ x + b # 입력값 벡터와 가중치 벡터의 내적\n",
    "    return int(z > 0)"
   ]
  },
  {
   "cell_type": "code",
   "execution_count": 29,
   "id": "76fc1314-1909-4b39-9440-0d6388ac33a6",
   "metadata": {},
   "outputs": [
    {
     "name": "stdout",
     "output_type": "stream",
     "text": [
      "0\n",
      "0\n",
      "0\n",
      "1\n"
     ]
    }
   ],
   "source": [
    "test_gate(AND_gate_numpy)"
   ]
  },
  {
   "cell_type": "markdown",
   "id": "f0894f7a-6493-45ce-9c8b-42b38d9af397",
   "metadata": {},
   "source": [
    "### 가중치와 편향에 대한 의미\n",
    "* 가중치 : 입력값에 대한 중요도\n",
    "  * 입력된 데이터에 대해 결과물이 1로 가거나, 0으로 갈 수 있도록 입력값을 조절하는 변수\n",
    "* 편향 : 퍼셉트론이 얼마나 **쉽게 활성화가 되는가**를 결정\n",
    "  * 활성화? 퍼셉트론의 결과물이 1이 되는것, $z$가 0을 넘어가는 것\n",
    "  * 편향이 크다면 입력 데이터나 가중치가 아무리 작아도 쉽게 활성화가 된다.\n",
    "    * 흥분도가 큰 퍼셉트론 - 민감한 퍼셉트론\n",
    "  * 편향이 작다면 입력 데이터나 가중치가 아무리 커도 쉽게 활성화가 되지 않는다.\n",
    "    * 흥분도가 낮은 퍼셉트론 - 둔감한 퍼셉트론"
   ]
  },
  {
   "cell_type": "markdown",
   "id": "85698247-0775-446f-8128-226db6d30207",
   "metadata": {},
   "source": [
    "## NAND 게이트 구현"
   ]
  },
  {
   "cell_type": "code",
   "execution_count": 23,
   "id": "c3ec2303-648b-4a7a-aa74-864ac082e965",
   "metadata": {},
   "outputs": [],
   "source": [
    "def NAND_gate(x1, x2):\n",
    "    x = np.array([x1, x2])\n",
    "    w = np.array([-0.5, -0.5])\n",
    "    b = 0.7\n",
    "\n",
    "    z = w @ x + b\n",
    "    return int(z > 0)"
   ]
  },
  {
   "cell_type": "code",
   "execution_count": 30,
   "id": "93904333-2cb0-4eef-9cd5-912a2f35b9c1",
   "metadata": {},
   "outputs": [
    {
     "name": "stdout",
     "output_type": "stream",
     "text": [
      "1\n",
      "1\n",
      "1\n",
      "0\n"
     ]
    }
   ],
   "source": [
    "test_gate(NAND_gate)"
   ]
  },
  {
   "cell_type": "markdown",
   "id": "b882a974-255c-4d02-91b3-a0d8c674b4b3",
   "metadata": {},
   "source": [
    "## OR 게이트\n",
    "* AND_gate 의 매개변수를 적절히 조절해 준다"
   ]
  },
  {
   "cell_type": "code",
   "execution_count": 36,
   "id": "eb7b6861-cd48-40d3-b3b9-6f572c01a84c",
   "metadata": {},
   "outputs": [],
   "source": [
    "def OR_gate(x1, x2):\n",
    "    x = np.array([x1, x2])\n",
    "\n",
    "    w = np.array([0.5, 0.5])\n",
    "    b = -0.3\n",
    "\n",
    "    z = w @ x + b\n",
    "    return int(z > 0)"
   ]
  },
  {
   "cell_type": "code",
   "execution_count": 37,
   "id": "f4e90686-77e2-4b57-8775-d5774a0719b2",
   "metadata": {},
   "outputs": [
    {
     "name": "stdout",
     "output_type": "stream",
     "text": [
      "0\n",
      "1\n",
      "1\n",
      "1\n"
     ]
    }
   ],
   "source": [
    "test_gate(OR_gate)"
   ]
  },
  {
   "cell_type": "markdown",
   "id": "e5119721-d8ec-45e3-8aab-c8acdc5673fc",
   "metadata": {},
   "source": [
    "## MLP\n",
    "* 단층 퍼셉트론을 여러 개 쌓아 하나의 퍼셉트론 만으로 해결 불가능한 문제를 해결"
   ]
  },
  {
   "cell_type": "code",
   "execution_count": 42,
   "id": "51e91dfc-5e09-4969-87cb-e9e6eaeb2c54",
   "metadata": {},
   "outputs": [],
   "source": [
    "def XOR_gate(x1, x2):\n",
    "    s1 = NAND_gate(x1, x2)\n",
    "    s2 = OR_gate(x1, x2)\n",
    "\n",
    "    return AND_gate(s1, s2)"
   ]
  },
  {
   "cell_type": "code",
   "execution_count": 43,
   "id": "f669ed2a-f28e-4c77-9ee4-c3d33e3af515",
   "metadata": {},
   "outputs": [
    {
     "name": "stdout",
     "output_type": "stream",
     "text": [
      "0\n",
      "1\n",
      "1\n",
      "0\n"
     ]
    }
   ],
   "source": [
    "test_gate(XOR_gate)"
   ]
  },
  {
   "cell_type": "code",
   "execution_count": null,
   "id": "b8968135-7a99-4ad9-b9da-f107441f4fb9",
   "metadata": {},
   "outputs": [],
   "source": []
  }
 ],
 "metadata": {
  "kernelspec": {
   "display_name": "Python 3 (ipykernel)",
   "language": "python",
   "name": "python3"
  },
  "language_info": {
   "codemirror_mode": {
    "name": "ipython",
    "version": 3
   },
   "file_extension": ".py",
   "mimetype": "text/x-python",
   "name": "python",
   "nbconvert_exporter": "python",
   "pygments_lexer": "ipython3",
   "version": "3.8.18"
  }
 },
 "nbformat": 4,
 "nbformat_minor": 5
}
