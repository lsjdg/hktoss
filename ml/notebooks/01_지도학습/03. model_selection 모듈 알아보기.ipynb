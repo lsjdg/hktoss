{
 "cells": [
  {
   "cell_type": "markdown",
   "metadata": {
    "id": "1H94snN88mnB"
   },
   "source": [
    "# Load Data"
   ]
  },
  {
   "cell_type": "code",
   "execution_count": 1,
   "metadata": {
    "colab": {
     "base_uri": "https://localhost:8080/"
    },
    "executionInfo": {
     "elapsed": 2333,
     "status": "ok",
     "timestamp": 1721693842125,
     "user": {
      "displayName": "소민호",
      "userId": "13788803923072454204"
     },
     "user_tz": -540
    },
    "id": "SaMbr64U8uBK",
    "outputId": "70b96dc6-10e1-4bb8-b55c-590bb289162e"
   },
   "outputs": [
    {
     "name": "stdout",
     "output_type": "stream",
     "text": [
      "[0 0 0 0 0 0 0 0 0 0 0 0 0 0 0 0 0 0 0 0 0 0 0 0 0 0 0 0 0 0 0 0 0 0 0 0 0\n",
      " 0 0 0 0 0 0 0 0 0 0 0 0 0 1 1 1 1 1 1 1 1 1 1 1 1 1 1 1 1 1 1 1 1 1 1 1 1\n",
      " 1 1 1 1 1 1 1 1 1 1 1 1 1 1 1 1 1 1 1 1 1 1 1 1 1 1 2 2 2 2 2 2 2 2 2 2 2\n",
      " 2 2 2 2 2 2 2 2 2 2 2 2 2 2 2 2 2 2 2 2 2 2 2 2 2 2 2 2 2 2 2 2 2 2 2 2 2\n",
      " 2 2]\n"
     ]
    }
   ],
   "source": [
    "from sklearn.datasets import load_iris\n",
    "\n",
    "iris = load_iris()\n",
    "\n",
    "X = iris.data\n",
    "y = iris.target\n",
    "\n",
    "print(y)"
   ]
  },
  {
   "cell_type": "markdown",
   "metadata": {
    "id": "U7rwX7tX8uzs"
   },
   "source": [
    "# 랜덤성을 부여하지 않고 잘라낸 경우\n",
    "- Shuffle 수행을 하지 않음"
   ]
  },
  {
   "cell_type": "code",
   "execution_count": 5,
   "metadata": {
    "colab": {
     "base_uri": "https://localhost:8080/"
    },
    "executionInfo": {
     "elapsed": 354,
     "status": "ok",
     "timestamp": 1721694460833,
     "user": {
      "displayName": "소민호",
      "userId": "13788803923072454204"
     },
     "user_tz": -540
    },
    "id": "NkGdehNw9cjK",
    "outputId": "b073b387-6ee2-4778-9027-18303a48e519"
   },
   "outputs": [
    {
     "name": "stdout",
     "output_type": "stream",
     "text": [
      "[0 0 0 0 0 0 0 0 0 0 0 0 0 0 0 0 0 0 0 0 0 0 0 0 0 0 0 0 0 0 0 0 0 0 0 0 0\n",
      " 0 0 0 0 0 0 0 0 0 0 0 0 0]\n"
     ]
    }
   ],
   "source": [
    "test_size = 50\n",
    "\n",
    "X_test = X[ : test_size]\n",
    "y_test = y[ : test_size]\n",
    "\n",
    "print(y_test)"
   ]
  },
  {
   "cell_type": "code",
   "execution_count": 7,
   "metadata": {
    "colab": {
     "base_uri": "https://localhost:8080/"
    },
    "executionInfo": {
     "elapsed": 332,
     "status": "ok",
     "timestamp": 1721694547763,
     "user": {
      "displayName": "소민호",
      "userId": "13788803923072454204"
     },
     "user_tz": -540
    },
    "id": "M8XEPiM49Xjh",
    "outputId": "708ee47d-88aa-4c4f-ffcf-8ed352a9d9a0"
   },
   "outputs": [
    {
     "name": "stdout",
     "output_type": "stream",
     "text": [
      "[1 1 1 1 1 1 1 1 1 1 1 1 1 1 1 1 1 1 1 1 1 1 1 1 1 1 1 1 1 1 1 1 1 1 1 1 1\n",
      " 1 1 1 1 1 1 1 1 1 1 1 1 1 2 2 2 2 2 2 2 2 2 2 2 2 2 2 2 2 2 2 2 2 2 2 2 2\n",
      " 2 2 2 2 2 2 2 2 2 2 2 2 2 2 2 2 2 2 2 2 2 2 2 2 2 2]\n"
     ]
    }
   ],
   "source": [
    "X_train = X[test_size : ]\n",
    "y_train = y[test_size : ]\n",
    "\n",
    "print(y_train)"
   ]
  },
  {
   "cell_type": "code",
   "execution_count": 8,
   "metadata": {
    "colab": {
     "base_uri": "https://localhost:8080/"
    },
    "executionInfo": {
     "elapsed": 879,
     "status": "ok",
     "timestamp": 1721694692694,
     "user": {
      "displayName": "소민호",
      "userId": "13788803923072454204"
     },
     "user_tz": -540
    },
    "id": "e8MhhM6k_Zoo",
    "outputId": "10ed7a43-0ec2-408e-ea92-e18611c649d0"
   },
   "outputs": [
    {
     "name": "stdout",
     "output_type": "stream",
     "text": [
      "예측 스코어 : 0.0000\n"
     ]
    }
   ],
   "source": [
    "from sklearn.tree import DecisionTreeClassifier\n",
    "from sklearn.metrics import accuracy_score\n",
    "\n",
    "dt_clf = DecisionTreeClassifier()\n",
    "\n",
    "dt_clf.fit(X_train, y_train)\n",
    "\n",
    "pred = dt_clf.predict(X_test)\n",
    "\n",
    "acc_result = accuracy_score(y_test, pred)\n",
    "\n",
    "print(\"예측 스코어 : {:.4f}\".format(acc_result))"
   ]
  },
  {
   "cell_type": "markdown",
   "metadata": {
    "id": "jBYomMXeACAB"
   },
   "source": [
    "# train_test_split 활용하기"
   ]
  },
  {
   "cell_type": "code",
   "execution_count": 9,
   "metadata": {
    "executionInfo": {
     "elapsed": 509,
     "status": "ok",
     "timestamp": 1721694947615,
     "user": {
      "displayName": "소민호",
      "userId": "13788803923072454204"
     },
     "user_tz": -540
    },
    "id": "wKZh5Ry9AKd6"
   },
   "outputs": [],
   "source": [
    "from sklearn.model_selection import train_test_split\n",
    "\n",
    "X_train, X_test, y_train, y_test = train_test_split(\n",
    "    X,\n",
    "    y,\n",
    "    test_size=0.3,\n",
    "    random_state=121\n",
    ")"
   ]
  },
  {
   "cell_type": "code",
   "execution_count": 11,
   "metadata": {
    "executionInfo": {
     "elapsed": 398,
     "status": "ok",
     "timestamp": 1721695044886,
     "user": {
      "displayName": "소민호",
      "userId": "13788803923072454204"
     },
     "user_tz": -540
    },
    "id": "TbWshBS0ANhe"
   },
   "outputs": [],
   "source": [
    "import matplotlib.pyplot as plt\n",
    "import seaborn as sns\n",
    "\n",
    "sns.set_theme()"
   ]
  },
  {
   "cell_type": "code",
   "execution_count": 12,
   "metadata": {
    "colab": {
     "base_uri": "https://localhost:8080/",
     "height": 434
    },
    "executionInfo": {
     "elapsed": 900,
     "status": "ok",
     "timestamp": 1721695191456,
     "user": {
      "displayName": "소민호",
      "userId": "13788803923072454204"
     },
     "user_tz": -540
    },
    "id": "o4dYY6KiAOFY",
    "outputId": "82fd52f2-56f8-4eff-9e8b-c98b84df14cb"
   },
   "outputs": [
    {
     "data": {
      "image/png": "[encoded data removed]",
      "text/plain": [
       "<Figure size 640x480 with 1 Axes>"
      ]
     },
     "metadata": {},
     "output_type": "display_data"
    }
   ],
   "source": [
    "sns.countplot(x = y_train)\n",
    "plt.show()"
   ]
  },
  {
   "cell_type": "markdown",
   "metadata": {
    "id": "R_puPWc_AOIn"
   },
   "source": [
    "## stratify 옵션 활용하기"
   ]
  },
  {
   "cell_type": "code",
   "execution_count": 13,
   "metadata": {
    "executionInfo": {
     "elapsed": 354,
     "status": "ok",
     "timestamp": 1721695448003,
     "user": {
      "displayName": "소민호",
      "userId": "13788803923072454204"
     },
     "user_tz": -540
    },
    "id": "eMYdHnx8AOLY"
   },
   "outputs": [],
   "source": [
    "from sklearn.model_selection import train_test_split\n",
    "\n",
    "X_train, X_test, y_train, y_test = train_test_split(\n",
    "    X,\n",
    "    y,\n",
    "    test_size=0.3,\n",
    "    random_state=121,\n",
    "    stratify=y # 정수, 문자열 데이터만 지정이 가능\n",
    ")"
   ]
  },
  {
   "cell_type": "code",
   "execution_count": 20,
   "metadata": {
    "colab": {
     "base_uri": "https://localhost:8080/",
     "height": 434
    },
    "executionInfo": {
     "elapsed": 1039,
     "status": "ok",
     "timestamp": 1721696389693,
     "user": {
      "displayName": "소민호",
      "userId": "13788803923072454204"
     },
     "user_tz": -540
    },
    "id": "19b0ntEUC6hu",
    "outputId": "f5bf3814-be22-42f6-d3b3-1f833fad60a7"
   },
   "outputs": [
    {
     "data": {
      "image/png": "[encoded data removed]",
      "text/plain": [
       "<Figure size 640x480 with 1 Axes>"
      ]
     },
     "metadata": {},
     "output_type": "display_data"
    }
   ],
   "source": [
    "sns.countplot(x = y_train)\n",
    "plt.show()"
   ]
  },
  {
   "cell_type": "markdown",
   "metadata": {
    "id": "Y2Z4SMIFD3Dk"
   },
   "source": [
    "# K-Fold, Stratified K-Fold"
   ]
  },
  {
   "cell_type": "code",
   "execution_count": 21,
   "metadata": {
    "executionInfo": {
     "elapsed": 356,
     "status": "ok",
     "timestamp": 1721697161221,
     "user": {
      "displayName": "소민호",
      "userId": "13788803923072454204"
     },
     "user_tz": -540
    },
    "id": "AxdRJdomJTOV"
   },
   "outputs": [],
   "source": [
    "# K-Fold\n",
    "from sklearn.model_selection import KFold\n",
    "import numpy as np"
   ]
  },
  {
   "cell_type": "code",
   "execution_count": 22,
   "metadata": {
    "colab": {
     "base_uri": "https://localhost:8080/"
    },
    "executionInfo": {
     "elapsed": 351,
     "status": "ok",
     "timestamp": 1721697246521,
     "user": {
      "displayName": "소민호",
      "userId": "13788803923072454204"
     },
     "user_tz": -540
    },
    "id": "zziUwNLzJcrV",
    "outputId": "01f9436c-73d8-435a-dacf-bbc15e9f828a"
   },
   "outputs": [
    {
     "name": "stdout",
     "output_type": "stream",
     "text": [
      "검증 세트의 인덱스 : [ 0  1  2  3  4  5  6  7  8  9 10 11 12 13 14 15 16 17 18 19 20 21 22 23\n",
      " 24 25 26 27 28 29 30 31 32 33 34 35 36 37 38 39 40 41 42 43 44 45 46 47\n",
      " 48 49]\n",
      "훈련 세트의 인덱스 : [ 50  51  52  53  54  55  56  57  58  59  60  61  62  63  64  65  66  67\n",
      "  68  69  70  71  72  73  74  75  76  77  78  79  80  81  82  83  84  85\n",
      "  86  87  88  89  90  91  92  93  94  95  96  97  98  99 100 101 102 103\n",
      " 104 105 106 107 108 109 110 111 112 113 114 115 116 117 118 119 120 121\n",
      " 122 123 124 125 126 127 128 129 130 131 132 133 134 135 136 137 138 139\n",
      " 140 141 142 143 144 145 146 147 148 149]\n",
      "\n",
      "검증 세트의 인덱스 : [50 51 52 53 54 55 56 57 58 59 60 61 62 63 64 65 66 67 68 69 70 71 72 73\n",
      " 74 75 76 77 78 79 80 81 82 83 84 85 86 87 88 89 90 91 92 93 94 95 96 97\n",
      " 98 99]\n",
      "훈련 세트의 인덱스 : [  0   1   2   3   4   5   6   7   8   9  10  11  12  13  14  15  16  17\n",
      "  18  19  20  21  22  23  24  25  26  27  28  29  30  31  32  33  34  35\n",
      "  36  37  38  39  40  41  42  43  44  45  46  47  48  49 100 101 102 103\n",
      " 104 105 106 107 108 109 110 111 112 113 114 115 116 117 118 119 120 121\n",
      " 122 123 124 125 126 127 128 129 130 131 132 133 134 135 136 137 138 139\n",
      " 140 141 142 143 144 145 146 147 148 149]\n",
      "\n",
      "검증 세트의 인덱스 : [100 101 102 103 104 105 106 107 108 109 110 111 112 113 114 115 116 117\n",
      " 118 119 120 121 122 123 124 125 126 127 128 129 130 131 132 133 134 135\n",
      " 136 137 138 139 140 141 142 143 144 145 146 147 148 149]\n",
      "훈련 세트의 인덱스 : [ 0  1  2  3  4  5  6  7  8  9 10 11 12 13 14 15 16 17 18 19 20 21 22 23\n",
      " 24 25 26 27 28 29 30 31 32 33 34 35 36 37 38 39 40 41 42 43 44 45 46 47\n",
      " 48 49 50 51 52 53 54 55 56 57 58 59 60 61 62 63 64 65 66 67 68 69 70 71\n",
      " 72 73 74 75 76 77 78 79 80 81 82 83 84 85 86 87 88 89 90 91 92 93 94 95\n",
      " 96 97 98 99]\n",
      "\n"
     ]
    }
   ],
   "source": [
    "# 3개의 폴드 세트로 분리하는 KFold 객체 생성\n",
    "kfold = KFold(n_splits=3)\n",
    "\n",
    "# KFold 객체의 split() 함수를 호출하면 폴드 별 학습용, 검증용 테스트의 인덱스를 array로 반환\n",
    "for train_indices, valid_indices in kfold.split(X):\n",
    "  print(\"검증 세트의 인덱스 : {}\".format(valid_indices))\n",
    "  print(\"훈련 세트의 인덱스 : {}\".format(train_indices))\n",
    "  print()"
   ]
  },
  {
   "cell_type": "markdown",
   "metadata": {
    "id": "yNvXbfcpJxnu"
   },
   "source": [
    "교차 검증 수행\n",
    "- 각 폴드 마다의 훈련 세트를 위한 인덱스를 활용해 훈련 데이터로 사용\n",
    "- 검증 세트를 위한 인덱스를 활용해 검증 데이터로 사용\n",
    "- 각 훈련, 검증의 결과를 저장했다가, 최종적으로 훈련이 끝나면 평균"
   ]
  },
  {
   "cell_type": "code",
   "execution_count": 23,
   "metadata": {
    "colab": {
     "base_uri": "https://localhost:8080/"
    },
    "executionInfo": {
     "elapsed": 347,
     "status": "ok",
     "timestamp": 1721697691012,
     "user": {
      "displayName": "소민호",
      "userId": "13788803923072454204"
     },
     "user_tz": -540
    },
    "id": "hzMWr7R-KXtl",
    "outputId": "ae8a09ff-7e97-4781-da9c-d02fe98365a9"
   },
   "outputs": [
    {
     "name": "stdout",
     "output_type": "stream",
     "text": [
      "1 번째 폴드에 대한 평가 결과 : 0.0000\n",
      "2 번째 폴드에 대한 평가 결과 : 0.0000\n",
      "3 번째 폴드에 대한 평가 결과 : 0.0000\n",
      "\n",
      "최종 결과 : 0.0\n"
     ]
    }
   ],
   "source": [
    "n_iter = 0\n",
    "cv_accuracy = [] # 각 폴드에서의 정확도를 담을 배열\n",
    "\n",
    "kfold = KFold(n_splits=3)\n",
    "\n",
    "for train_indices, valid_indices in kfold.split(X):\n",
    "\n",
    "  # 반환된 인덱스를 이용해 학습용, 검증용 데이터를 추출\n",
    "  X_train, X_valid = X[train_indices], X[valid_indices]\n",
    "  y_train, y_valid = y[train_indices], y[valid_indices]\n",
    "\n",
    "  # 모델 생성 및 훈련\n",
    "  dt_clf = DecisionTreeClassifier().fit(X_train, y_train) # 모델 객체 생성과 동시에 훈련\n",
    "\n",
    "  # 예측\n",
    "  pred = dt_clf.predict(X_valid)\n",
    "\n",
    "  # 평가\n",
    "  acc = accuracy_score(y_valid, pred)\n",
    "\n",
    "  # 해당 폴드의 평가 결과를 배열에 저장\n",
    "  cv_accuracy.append(acc)\n",
    "\n",
    "  n_iter += 1\n",
    "  print(\"{} 번째 폴드에 대한 평가 결과 : {:.4f}\".format(n_iter, acc))\n",
    "\n",
    "print()\n",
    "print(\"최종 결과 : {}\".format(np.mean(cv_accuracy)))"
   ]
  },
  {
   "cell_type": "code",
   "execution_count": 24,
   "metadata": {
    "colab": {
     "base_uri": "https://localhost:8080/"
    },
    "executionInfo": {
     "elapsed": 335,
     "status": "ok",
     "timestamp": 1721697792330,
     "user": {
      "displayName": "소민호",
      "userId": "13788803923072454204"
     },
     "user_tz": -540
    },
    "id": "3okGERwZLeJE",
    "outputId": "194e9433-fc4e-4d7f-e5ad-de60c1629c6f"
   },
   "outputs": [
    {
     "name": "stdout",
     "output_type": "stream",
     "text": [
      "검증 세트의 인덱스 : [  0   1   2   3   4   5   6   7   8   9  10  11  12  13  14  15  16  50\n",
      "  51  52  53  54  55  56  57  58  59  60  61  62  63  64  65  66 100 101\n",
      " 102 103 104 105 106 107 108 109 110 111 112 113 114 115]\n",
      "\n",
      "클래스 0 : 17개 / 클래스 1 : 17개 / 클래스 2 : 16개\n",
      "==================================================\n",
      "\n",
      "검증 세트의 인덱스 : [ 17  18  19  20  21  22  23  24  25  26  27  28  29  30  31  32  33  67\n",
      "  68  69  70  71  72  73  74  75  76  77  78  79  80  81  82 116 117 118\n",
      " 119 120 121 122 123 124 125 126 127 128 129 130 131 132]\n",
      "\n",
      "클래스 0 : 17개 / 클래스 1 : 16개 / 클래스 2 : 17개\n",
      "==================================================\n",
      "\n",
      "검증 세트의 인덱스 : [ 34  35  36  37  38  39  40  41  42  43  44  45  46  47  48  49  83  84\n",
      "  85  86  87  88  89  90  91  92  93  94  95  96  97  98  99 133 134 135\n",
      " 136 137 138 139 140 141 142 143 144 145 146 147 148 149]\n",
      "\n",
      "클래스 0 : 16개 / 클래스 1 : 17개 / 클래스 2 : 17개\n",
      "==================================================\n",
      "\n"
     ]
    }
   ],
   "source": [
    "# Stratified K Fold\n",
    "from sklearn.model_selection import StratifiedKFold\n",
    "\n",
    "skfold = StratifiedKFold(n_splits=3)\n",
    "\n",
    "for train_indices, valid_indices in skfold.split(X, y):\n",
    "  print(\"검증 세트의 인덱스 : {}\".format(valid_indices))\n",
    "  print()\n",
    "\n",
    "  class_, counts = np.unique(y[valid_indices], return_counts=True)\n",
    "  classes = dict(zip(class_, counts))\n",
    "  print(\"클래스 0 : {}개 / 클래스 1 : {}개 / 클래스 2 : {}개\".format(classes[0], classes[1], classes[2]))\n",
    "  print(\"=\"*50)\n",
    "  print()"
   ]
  },
  {
   "cell_type": "markdown",
   "metadata": {
    "id": "r_bNT3skL24D"
   },
   "source": [
    "Stratified K Fold 교차검증"
   ]
  },
  {
   "cell_type": "code",
   "execution_count": 25,
   "metadata": {
    "colab": {
     "base_uri": "https://localhost:8080/"
    },
    "executionInfo": {
     "elapsed": 370,
     "status": "ok",
     "timestamp": 1721697902534,
     "user": {
      "displayName": "소민호",
      "userId": "13788803923072454204"
     },
     "user_tz": -540
    },
    "id": "XQt2gNQyMMW8",
    "outputId": "9a713c7b-93bf-4e85-83af-7eb8a4c97847"
   },
   "outputs": [
    {
     "name": "stdout",
     "output_type": "stream",
     "text": [
      "1 번째 폴드에 대한 평가 결과 : 0.9800\n",
      "2 번째 폴드에 대한 평가 결과 : 0.9200\n",
      "3 번째 폴드에 대한 평가 결과 : 0.9800\n",
      "\n",
      "최종 결과 : 0.96\n"
     ]
    }
   ],
   "source": [
    "n_iter = 0\n",
    "cv_accuracy = [] # 각 폴드에서의 정확도를 담을 배열\n",
    "\n",
    "skfold = StratifiedKFold(n_splits=3)\n",
    "\n",
    "for train_indices, valid_indices in skfold.split(X, y):\n",
    "\n",
    "  # 반환된 인덱스를 이용해 학습용, 검증용 데이터를 추출\n",
    "  X_train, X_valid = X[train_indices], X[valid_indices]\n",
    "  y_train, y_valid = y[train_indices], y[valid_indices]\n",
    "\n",
    "  # 모델 생성 및 훈련\n",
    "  dt_clf = DecisionTreeClassifier().fit(X_train, y_train) # 모델 객체 생성과 동시에 훈련\n",
    "\n",
    "  # 예측\n",
    "  pred = dt_clf.predict(X_valid)\n",
    "\n",
    "  # 평가\n",
    "  acc = accuracy_score(y_valid, pred)\n",
    "\n",
    "  # 해당 폴드의 평가 결과를 배열에 저장\n",
    "  cv_accuracy.append(acc)\n",
    "\n",
    "  n_iter += 1\n",
    "  print(\"{} 번째 폴드에 대한 평가 결과 : {:.4f}\".format(n_iter, acc))\n",
    "\n",
    "print()\n",
    "print(\"최종 결과 : {}\".format(np.mean(cv_accuracy)))"
   ]
  },
  {
   "cell_type": "markdown",
   "metadata": {
    "id": "T9dOVgWZMRvT"
   },
   "source": [
    "- 회귀 모델의 경우 : KFold 사용해서 교차검증\n",
    "- 분류 모델의 경우 : Stratified K Fold를 사용해서 교차검증"
   ]
  },
  {
   "cell_type": "markdown",
   "metadata": {
    "id": "_lvBj5dXMcUK"
   },
   "source": [
    "# cross_val_score"
   ]
  },
  {
   "cell_type": "code",
   "execution_count": 26,
   "metadata": {
    "colab": {
     "base_uri": "https://localhost:8080/"
    },
    "executionInfo": {
     "elapsed": 329,
     "status": "ok",
     "timestamp": 1721698564967,
     "user": {
      "displayName": "소민호",
      "userId": "13788803923072454204"
     },
     "user_tz": -540
    },
    "id": "1mdCWQ2mN0_o",
    "outputId": "47b6b5ce-746c-4efd-9f12-7eef66d57ca5"
   },
   "outputs": [
    {
     "name": "stdout",
     "output_type": "stream",
     "text": [
      "폴드 별 정확도 확인 : [0.98 0.92 0.98]\n",
      "평균 정확도 확인 : 0.96\n"
     ]
    }
   ],
   "source": [
    "from sklearn.model_selection import cross_val_score\n",
    "\n",
    "scores = cross_val_score(\n",
    "    DecisionTreeClassifier(), # Classifier가 들어가면 자동으로 Stratifed KFold를 사용.\n",
    "    X,\n",
    "    y,\n",
    "    scoring='accuracy', # 성능 측정 방식. 여기서는 정확도를 사용\n",
    "    cv=3 # 폴드의 개수\n",
    ")\n",
    "\n",
    "print(\"폴드 별 정확도 확인 : {}\".format(scores))\n",
    "print(\"평균 정확도 확인 : {}\".format(np.mean(scores)))"
   ]
  },
  {
   "cell_type": "markdown",
   "metadata": {
    "id": "1WcbEeJDOzhA"
   },
   "source": [
    "# GridSearch CV"
   ]
  },
  {
   "cell_type": "code",
   "execution_count": 27,
   "metadata": {
    "executionInfo": {
     "elapsed": 346,
     "status": "ok",
     "timestamp": 1721699316247,
     "user": {
      "displayName": "소민호",
      "userId": "13788803923072454204"
     },
     "user_tz": -540
    },
    "id": "-EESBvPsRG9t"
   },
   "outputs": [],
   "source": [
    "# 모델에 사용할 하이퍼 파라미터 딕셔너리\n",
    "parameters = {\n",
    "    \"max_depth\": [1, 2, 3],\n",
    "    \"min_samples_split\": [2, 3]\n",
    "}"
   ]
  },
  {
   "cell_type": "code",
   "execution_count": 28,
   "metadata": {
    "executionInfo": {
     "elapsed": 329,
     "status": "ok",
     "timestamp": 1721700311786,
     "user": {
      "displayName": "소민호",
      "userId": "13788803923072454204"
     },
     "user_tz": -540
    },
    "id": "7dbSYwe3Rq7F"
   },
   "outputs": [],
   "source": [
    "from sklearn.model_selection import GridSearchCV\n",
    "\n",
    "grid_dt_clf = GridSearchCV(\n",
    "    DecisionTreeClassifier(),\n",
    "    param_grid=parameters,\n",
    "    return_train_score=True,\n",
    "    cv=3, # 각 하이퍼 파라미터 조합으로 만드는 모델에서 사용할 폴드의 개수\n",
    "    n_jobs=-1 # 사용 가능한 CPU 코어 개수 지정. -1이면 모든 cpu 사용\n",
    ")"
   ]
  },
  {
   "cell_type": "code",
   "execution_count": 29,
   "metadata": {
    "executionInfo": {
     "elapsed": 356,
     "status": "ok",
     "timestamp": 1721700387786,
     "user": {
      "displayName": "소민호",
      "userId": "13788803923072454204"
     },
     "user_tz": -540
    },
    "id": "oKtPe2hnVd-r"
   },
   "outputs": [],
   "source": [
    "X_train, X_test, y_train, y_test = train_test_split(\n",
    "    X, y,\n",
    "    test_size=0.2,\n",
    "    stratify=y,\n",
    "    random_state=121\n",
    ")"
   ]
  },
  {
   "cell_type": "code",
   "execution_count": 30,
   "metadata": {
    "colab": {
     "base_uri": "https://localhost:8080/",
     "height": 118
    },
    "executionInfo": {
     "elapsed": 3111,
     "status": "ok",
     "timestamp": 1721700482206,
     "user": {
      "displayName": "소민호",
      "userId": "13788803923072454204"
     },
     "user_tz": -540
    },
    "id": "6-cZ4xIiVwhf",
    "outputId": "b4b4214a-21e6-43a7-f83a-a2ffdcdfd232"
   },
   "outputs": [
    {
     "data": {
      "text/html": [
       "<style>#sk-container-id-1 {color: black;background-color: white;}#sk-container-id-1 pre{padding: 0;}#sk-container-id-1 div.sk-toggleable {background-color: white;}#sk-container-id-1 label.sk-toggleable__label {cursor: pointer;display: block;width: 100%;margin-bottom: 0;padding: 0.3em;box-sizing: border-box;text-align: center;}#sk-container-id-1 label.sk-toggleable__label-arrow:before {content: \"▸\";float: left;margin-right: 0.25em;color: #696969;}#sk-container-id-1 label.sk-toggleable__label-arrow:hover:before {color: black;}#sk-container-id-1 div.sk-estimator:hover label.sk-toggleable__label-arrow:before {color: black;}#sk-container-id-1 div.sk-toggleable__content {max-height: 0;max-width: 0;overflow: hidden;text-align: left;background-color: #f0f8ff;}#sk-container-id-1 div.sk-toggleable__content pre {margin: 0.2em;color: black;border-radius: 0.25em;background-color: #f0f8ff;}#sk-container-id-1 input.sk-toggleable__control:checked~div.sk-toggleable__content {max-height: 200px;max-width: 100%;overflow: auto;}#sk-container-id-1 input.sk-toggleable__control:checked~label.sk-toggleable__label-arrow:before {content: \"▾\";}#sk-container-id-1 div.sk-estimator input.sk-toggleable__control:checked~label.sk-toggleable__label {background-color: #d4ebff;}#sk-container-id-1 div.sk-label input.sk-toggleable__control:checked~label.sk-toggleable__label {background-color: #d4ebff;}#sk-container-id-1 input.sk-hidden--visually {border: 0;clip: rect(1px 1px 1px 1px);clip: rect(1px, 1px, 1px, 1px);height: 1px;margin: -1px;overflow: hidden;padding: 0;position: absolute;width: 1px;}#sk-container-id-1 div.sk-estimator {font-family: monospace;background-color: #f0f8ff;border: 1px dotted black;border-radius: 0.25em;box-sizing: border-box;margin-bottom: 0.5em;}#sk-container-id-1 div.sk-estimator:hover {background-color: #d4ebff;}#sk-container-id-1 div.sk-parallel-item::after {content: \"\";width: 100%;border-bottom: 1px solid gray;flex-grow: 1;}#sk-container-id-1 div.sk-label:hover label.sk-toggleable__label {background-color: #d4ebff;}#sk-container-id-1 div.sk-serial::before {content: \"\";position: absolute;border-left: 1px solid gray;box-sizing: border-box;top: 0;bottom: 0;left: 50%;z-index: 0;}#sk-container-id-1 div.sk-serial {display: flex;flex-direction: column;align-items: center;background-color: white;padding-right: 0.2em;padding-left: 0.2em;position: relative;}#sk-container-id-1 div.sk-item {position: relative;z-index: 1;}#sk-container-id-1 div.sk-parallel {display: flex;align-items: stretch;justify-content: center;background-color: white;position: relative;}#sk-container-id-1 div.sk-item::before, #sk-container-id-1 div.sk-parallel-item::before {content: \"\";position: absolute;border-left: 1px solid gray;box-sizing: border-box;top: 0;bottom: 0;left: 50%;z-index: -1;}#sk-container-id-1 div.sk-parallel-item {display: flex;flex-direction: column;z-index: 1;position: relative;background-color: white;}#sk-container-id-1 div.sk-parallel-item:first-child::after {align-self: flex-end;width: 50%;}#sk-container-id-1 div.sk-parallel-item:last-child::after {align-self: flex-start;width: 50%;}#sk-container-id-1 div.sk-parallel-item:only-child::after {width: 0;}#sk-container-id-1 div.sk-dashed-wrapped {border: 1px dashed gray;margin: 0 0.4em 0.5em 0.4em;box-sizing: border-box;padding-bottom: 0.4em;background-color: white;}#sk-container-id-1 div.sk-label label {font-family: monospace;font-weight: bold;display: inline-block;line-height: 1.2em;}#sk-container-id-1 div.sk-label-container {text-align: center;}#sk-container-id-1 div.sk-container {/* jupyter's `normalize.less` sets `[hidden] { display: none; }` but bootstrap.min.css set `[hidden] { display: none !important; }` so we also need the `!important` here to be able to override the default hidden behavior on the sphinx rendered scikit-learn.org. See: https://github.com/scikit-learn/scikit-learn/issues/21755 */display: inline-block !important;position: relative;}#sk-container-id-1 div.sk-text-repr-fallback {display: none;}</style><div id=\"sk-container-id-1\" class=\"sk-top-container\"><div class=\"sk-text-repr-fallback\"><pre>GridSearchCV(cv=3, estimator=DecisionTreeClassifier(), n_jobs=-1,\n",
       "             param_grid={&#x27;max_depth&#x27;: [1, 2, 3], &#x27;min_samples_split&#x27;: [2, 3]},\n",
       "             return_train_score=True)</pre><b>In a Jupyter environment, please rerun this cell to show the HTML representation or trust the notebook. <br />On GitHub, the HTML representation is unable to render, please try loading this page with nbviewer.org.</b></div><div class=\"sk-container\" hidden><div class=\"sk-item sk-dashed-wrapped\"><div class=\"sk-label-container\"><div class=\"sk-label sk-toggleable\"><input class=\"sk-toggleable__control sk-hidden--visually\" id=\"sk-estimator-id-1\" type=\"checkbox\" ><label for=\"sk-estimator-id-1\" class=\"sk-toggleable__label sk-toggleable__label-arrow\">GridSearchCV</label><div class=\"sk-toggleable__content\"><pre>GridSearchCV(cv=3, estimator=DecisionTreeClassifier(), n_jobs=-1,\n",
       "             param_grid={&#x27;max_depth&#x27;: [1, 2, 3], &#x27;min_samples_split&#x27;: [2, 3]},\n",
       "             return_train_score=True)</pre></div></div></div><div class=\"sk-parallel\"><div class=\"sk-parallel-item\"><div class=\"sk-item\"><div class=\"sk-label-container\"><div class=\"sk-label sk-toggleable\"><input class=\"sk-toggleable__control sk-hidden--visually\" id=\"sk-estimator-id-2\" type=\"checkbox\" ><label for=\"sk-estimator-id-2\" class=\"sk-toggleable__label sk-toggleable__label-arrow\">estimator: DecisionTreeClassifier</label><div class=\"sk-toggleable__content\"><pre>DecisionTreeClassifier()</pre></div></div></div><div class=\"sk-serial\"><div class=\"sk-item\"><div class=\"sk-estimator sk-toggleable\"><input class=\"sk-toggleable__control sk-hidden--visually\" id=\"sk-estimator-id-3\" type=\"checkbox\" ><label for=\"sk-estimator-id-3\" class=\"sk-toggleable__label sk-toggleable__label-arrow\">DecisionTreeClassifier</label><div class=\"sk-toggleable__content\"><pre>DecisionTreeClassifier()</pre></div></div></div></div></div></div></div></div></div></div>"
      ],
      "text/plain": [
       "GridSearchCV(cv=3, estimator=DecisionTreeClassifier(), n_jobs=-1,\n",
       "             param_grid={'max_depth': [1, 2, 3], 'min_samples_split': [2, 3]},\n",
       "             return_train_score=True)"
      ]
     },
     "execution_count": 30,
     "metadata": {},
     "output_type": "execute_result"
    }
   ],
   "source": [
    "grid_dt_clf.fit( X_train, y_train )"
   ]
  },
  {
   "cell_type": "code",
   "execution_count": 32,
   "metadata": {
    "colab": {
     "base_uri": "https://localhost:8080/",
     "height": 466
    },
    "executionInfo": {
     "elapsed": 357,
     "status": "ok",
     "timestamp": 1721700600262,
     "user": {
      "displayName": "소민호",
      "userId": "13788803923072454204"
     },
     "user_tz": -540
    },
    "id": "ygvuGbkgWG6R",
    "outputId": "50408e59-79ea-4c22-eb69-195df386a893"
   },
   "outputs": [
    {
     "data": {
      "application/vnd.google.colaboratory.intrinsic+json": {
       "summary": "{\n  \"name\": \"pd\",\n  \"rows\": 6,\n  \"fields\": [\n    {\n      \"column\": \"mean_fit_time\",\n      \"properties\": {\n        \"dtype\": \"number\",\n        \"std\": 0.0007038281064394855,\n        \"min\": 0.0010568300882975261,\n        \"max\": 0.0027119318644205728,\n        \"num_unique_values\": 6,\n        \"samples\": [\n          0.0014764467875162761,\n          0.0011110305786132812,\n          0.0027119318644205728\n        ],\n        \"semantic_type\": \"\",\n        \"description\": \"\"\n      }\n    },\n    {\n      \"column\": \"std_fit_time\",\n      \"properties\": {\n        \"dtype\": \"number\",\n        \"std\": 0.0009788794805537123,\n        \"min\": 7.800195390537537e-05,\n        \"max\": 0.002318319301364004,\n        \"num_unique_values\": 6,\n        \"samples\": [\n          0.00018868952396168596,\n          8.600424949650078e-05,\n          0.002318319301364004\n        ],\n        \"semantic_type\": \"\",\n        \"description\": \"\"\n      }\n    },\n    {\n      \"column\": \"mean_score_time\",\n      \"properties\": {\n        \"dtype\": \"number\",\n        \"std\": 0.0019966831606392653,\n        \"min\": 0.0008033116658528646,\n        \"max\": 0.006011168162027995,\n        \"num_unique_values\": 6,\n        \"samples\": [\n          0.003432591756184896,\n          0.0022994677225748696,\n          0.0008033116658528646\n        ],\n        \"semantic_type\": \"\",\n        \"description\": \"\"\n      }\n    },\n    {\n      \"column\": \"std_score_time\",\n      \"properties\": {\n        \"dtype\": \"number\",\n        \"std\": 0.0027487196606069803,\n        \"min\": 2.9825731196903277e-05,\n        \"max\": 0.007301970642962124,\n        \"num_unique_values\": 6,\n        \"samples\": [\n          0.0032692733149323823,\n          0.002157640670315061,\n          2.9825731196903277e-05\n        ],\n        \"semantic_type\": \"\",\n        \"description\": \"\"\n      }\n    },\n    {\n      \"column\": \"param_max_depth\",\n      \"properties\": {\n        \"dtype\": \"date\",\n        \"min\": 1,\n        \"max\": 3,\n        \"num_unique_values\": 3,\n        \"samples\": [\n          1,\n          2,\n          3\n        ],\n        \"semantic_type\": \"\",\n        \"description\": \"\"\n      }\n    },\n    {\n      \"column\": \"param_min_samples_split\",\n      \"properties\": {\n        \"dtype\": \"date\",\n        \"min\": 2,\n        \"max\": 3,\n        \"num_unique_values\": 2,\n        \"samples\": [\n          3,\n          2\n        ],\n        \"semantic_type\": \"\",\n        \"description\": \"\"\n      }\n    },\n    {\n      \"column\": \"params\",\n      \"properties\": {\n        \"dtype\": \"object\",\n        \"semantic_type\": \"\",\n        \"description\": \"\"\n      }\n    },\n    {\n      \"column\": \"split0_test_score\",\n      \"properties\": {\n        \"dtype\": \"number\",\n        \"std\": 0.17464249196572978,\n        \"min\": 0.65,\n        \"max\": 1.0,\n        \"num_unique_values\": 3,\n        \"samples\": [\n          0.65,\n          0.975\n        ],\n        \"semantic_type\": \"\",\n        \"description\": \"\"\n      }\n    },\n    {\n      \"column\": \"split1_test_score\",\n      \"properties\": {\n        \"dtype\": \"number\",\n        \"std\": 0.14200938936093857,\n        \"min\": 0.675,\n        \"max\": 0.95,\n        \"num_unique_values\": 2,\n        \"samples\": [\n          0.95,\n          0.675\n        ],\n        \"semantic_type\": \"\",\n        \"description\": \"\"\n      }\n    },\n    {\n      \"column\": \"split2_test_score\",\n      \"properties\": {\n        \"dtype\": \"number\",\n        \"std\": 0.10327955589886444,\n        \"min\": 0.65,\n        \"max\": 0.85,\n        \"num_unique_values\": 2,\n        \"samples\": [\n          0.85,\n          0.65\n        ],\n        \"semantic_type\": \"\",\n        \"description\": \"\"\n      }\n    },\n    {\n      \"column\": \"mean_test_score\",\n      \"properties\": {\n        \"dtype\": \"number\",\n        \"std\": 0.13990737676789622,\n        \"min\": 0.6583333333333333,\n        \"max\": 0.9333333333333332,\n        \"num_unique_values\": 3,\n        \"samples\": [\n          0.6583333333333333,\n          0.9249999999999999\n        ],\n        \"semantic_type\": \"\",\n        \"description\": \"\"\n      }\n    },\n    {\n      \"column\": \"std_test_score\",\n      \"properties\": {\n        \"dtype\": \"number\",\n        \"std\": 0.024249635642127728,\n        \"min\": 0.011785113019775804,\n        \"max\": 0.062360956446232366,\n        \"num_unique_values\": 3,\n        \"samples\": [\n          0.011785113019775804,\n          0.05400617248673217\n        ],\n        \"semantic_type\": \"\",\n        \"description\": \"\"\n      }\n    },\n    {\n      \"column\": \"rank_test_score\",\n      \"properties\": {\n        \"dtype\": \"int32\",\n        \"num_unique_values\": 3,\n        \"samples\": [\n          5,\n          3\n        ],\n        \"semantic_type\": \"\",\n        \"description\": \"\"\n      }\n    },\n    {\n      \"column\": \"split0_train_score\",\n      \"properties\": {\n        \"dtype\": \"number\",\n        \"std\": 0.1453444185374863,\n        \"min\": 0.675,\n        \"max\": 0.9625,\n        \"num_unique_values\": 3,\n        \"samples\": [\n          0.675,\n          0.95\n        ],\n        \"semantic_type\": \"\",\n        \"description\": \"\"\n      }\n    },\n    {\n      \"column\": \"split1_train_score\",\n      \"properties\": {\n        \"dtype\": \"number\",\n        \"std\": 0.16176114078067907,\n        \"min\": 0.6625,\n        \"max\": 0.9875,\n        \"num_unique_values\": 3,\n        \"samples\": [\n          0.6625,\n          0.9625\n        ],\n        \"semantic_type\": \"\",\n        \"description\": \"\"\n      }\n    },\n    {\n      \"column\": \"split2_train_score\",\n      \"properties\": {\n        \"dtype\": \"number\",\n        \"std\": 0.1613743060919757,\n        \"min\": 0.675,\n        \"max\": 0.9875,\n        \"num_unique_values\": 2,\n        \"samples\": [\n          0.9875,\n          0.675\n        ],\n        \"semantic_type\": \"\",\n        \"description\": \"\"\n      }\n    },\n    {\n      \"column\": \"mean_train_score\",\n      \"properties\": {\n        \"dtype\": \"number\",\n        \"std\": 0.15609529378152542,\n        \"min\": 0.6708333333333334,\n        \"max\": 0.9791666666666666,\n        \"num_unique_values\": 3,\n        \"samples\": [\n          0.6708333333333334,\n          0.9666666666666668\n        ],\n        \"semantic_type\": \"\",\n        \"description\": \"\"\n      }\n    },\n    {\n      \"column\": \"std_train_score\",\n      \"properties\": {\n        \"dtype\": \"number\",\n        \"std\": 0.004370297543483302,\n        \"min\": 0.005892556509887928,\n        \"max\": 0.015590239111558123,\n        \"num_unique_values\": 3,\n        \"samples\": [\n          0.005892556509887928,\n          0.015590239111558123\n        ],\n        \"semantic_type\": \"\",\n        \"description\": \"\"\n      }\n    }\n  ]\n}",
       "type": "dataframe"
      },
      "text/html": [
       "\n",
       "  <div id=\"df-41664e5e-157f-4be1-b1b0-d14185b3af46\" class=\"colab-df-container\">\n",
       "    <div>\n",
       "<style scoped>\n",
       "    .dataframe tbody tr th:only-of-type {\n",
       "        vertical-align: middle;\n",
       "    }\n",
       "\n",
       "    .dataframe tbody tr th {\n",
       "        vertical-align: top;\n",
       "    }\n",
       "\n",
       "    .dataframe thead th {\n",
       "        text-align: right;\n",
       "    }\n",
       "</style>\n",
       "<table border=\"1\" class=\"dataframe\">\n",
       "  <thead>\n",
       "    <tr style=\"text-align: right;\">\n",
       "      <th></th>\n",
       "      <th>mean_fit_time</th>\n",
       "      <th>std_fit_time</th>\n",
       "      <th>mean_score_time</th>\n",
       "      <th>std_score_time</th>\n",
       "      <th>param_max_depth</th>\n",
       "      <th>param_min_samples_split</th>\n",
       "      <th>params</th>\n",
       "      <th>split0_test_score</th>\n",
       "      <th>split1_test_score</th>\n",
       "      <th>split2_test_score</th>\n",
       "      <th>mean_test_score</th>\n",
       "      <th>std_test_score</th>\n",
       "      <th>rank_test_score</th>\n",
       "      <th>split0_train_score</th>\n",
       "      <th>split1_train_score</th>\n",
       "      <th>split2_train_score</th>\n",
       "      <th>mean_train_score</th>\n",
       "      <th>std_train_score</th>\n",
       "    </tr>\n",
       "  </thead>\n",
       "  <tbody>\n",
       "    <tr>\n",
       "      <th>0</th>\n",
       "      <td>0.001476</td>\n",
       "      <td>0.000189</td>\n",
       "      <td>0.003433</td>\n",
       "      <td>0.003269</td>\n",
       "      <td>1</td>\n",
       "      <td>2</td>\n",
       "      <td>{'max_depth': 1, 'min_samples_split': 2}</td>\n",
       "      <td>0.650</td>\n",
       "      <td>0.675</td>\n",
       "      <td>0.65</td>\n",
       "      <td>0.658333</td>\n",
       "      <td>0.011785</td>\n",
       "      <td>5</td>\n",
       "      <td>0.6750</td>\n",
       "      <td>0.6625</td>\n",
       "      <td>0.6750</td>\n",
       "      <td>0.670833</td>\n",
       "      <td>0.005893</td>\n",
       "    </tr>\n",
       "    <tr>\n",
       "      <th>1</th>\n",
       "      <td>0.001111</td>\n",
       "      <td>0.000086</td>\n",
       "      <td>0.002299</td>\n",
       "      <td>0.002158</td>\n",
       "      <td>1</td>\n",
       "      <td>3</td>\n",
       "      <td>{'max_depth': 1, 'min_samples_split': 3}</td>\n",
       "      <td>0.650</td>\n",
       "      <td>0.675</td>\n",
       "      <td>0.65</td>\n",
       "      <td>0.658333</td>\n",
       "      <td>0.011785</td>\n",
       "      <td>5</td>\n",
       "      <td>0.6750</td>\n",
       "      <td>0.6625</td>\n",
       "      <td>0.6750</td>\n",
       "      <td>0.670833</td>\n",
       "      <td>0.005893</td>\n",
       "    </tr>\n",
       "    <tr>\n",
       "      <th>2</th>\n",
       "      <td>0.001057</td>\n",
       "      <td>0.000078</td>\n",
       "      <td>0.001394</td>\n",
       "      <td>0.000861</td>\n",
       "      <td>2</td>\n",
       "      <td>2</td>\n",
       "      <td>{'max_depth': 2, 'min_samples_split': 2}</td>\n",
       "      <td>0.975</td>\n",
       "      <td>0.950</td>\n",
       "      <td>0.85</td>\n",
       "      <td>0.925000</td>\n",
       "      <td>0.054006</td>\n",
       "      <td>3</td>\n",
       "      <td>0.9500</td>\n",
       "      <td>0.9625</td>\n",
       "      <td>0.9875</td>\n",
       "      <td>0.966667</td>\n",
       "      <td>0.015590</td>\n",
       "    </tr>\n",
       "    <tr>\n",
       "      <th>3</th>\n",
       "      <td>0.001058</td>\n",
       "      <td>0.000092</td>\n",
       "      <td>0.000888</td>\n",
       "      <td>0.000161</td>\n",
       "      <td>2</td>\n",
       "      <td>3</td>\n",
       "      <td>{'max_depth': 2, 'min_samples_split': 3}</td>\n",
       "      <td>0.975</td>\n",
       "      <td>0.950</td>\n",
       "      <td>0.85</td>\n",
       "      <td>0.925000</td>\n",
       "      <td>0.054006</td>\n",
       "      <td>3</td>\n",
       "      <td>0.9500</td>\n",
       "      <td>0.9625</td>\n",
       "      <td>0.9875</td>\n",
       "      <td>0.966667</td>\n",
       "      <td>0.015590</td>\n",
       "    </tr>\n",
       "    <tr>\n",
       "      <th>4</th>\n",
       "      <td>0.002231</td>\n",
       "      <td>0.001584</td>\n",
       "      <td>0.006011</td>\n",
       "      <td>0.007302</td>\n",
       "      <td>3</td>\n",
       "      <td>2</td>\n",
       "      <td>{'max_depth': 3, 'min_samples_split': 2}</td>\n",
       "      <td>1.000</td>\n",
       "      <td>0.950</td>\n",
       "      <td>0.85</td>\n",
       "      <td>0.933333</td>\n",
       "      <td>0.062361</td>\n",
       "      <td>1</td>\n",
       "      <td>0.9625</td>\n",
       "      <td>0.9875</td>\n",
       "      <td>0.9875</td>\n",
       "      <td>0.979167</td>\n",
       "      <td>0.011785</td>\n",
       "    </tr>\n",
       "    <tr>\n",
       "      <th>5</th>\n",
       "      <td>0.002712</td>\n",
       "      <td>0.002318</td>\n",
       "      <td>0.000803</td>\n",
       "      <td>0.000030</td>\n",
       "      <td>3</td>\n",
       "      <td>3</td>\n",
       "      <td>{'max_depth': 3, 'min_samples_split': 3}</td>\n",
       "      <td>1.000</td>\n",
       "      <td>0.950</td>\n",
       "      <td>0.85</td>\n",
       "      <td>0.933333</td>\n",
       "      <td>0.062361</td>\n",
       "      <td>1</td>\n",
       "      <td>0.9625</td>\n",
       "      <td>0.9875</td>\n",
       "      <td>0.9875</td>\n",
       "      <td>0.979167</td>\n",
       "      <td>0.011785</td>\n",
       "    </tr>\n",
       "  </tbody>\n",
       "</table>\n",
       "</div>\n",
       "    <div class=\"colab-df-buttons\">\n",
       "\n",
       "  <div class=\"colab-df-container\">\n",
       "    <button class=\"colab-df-convert\" onclick=\"convertToInteractive('df-41664e5e-157f-4be1-b1b0-d14185b3af46')\"\n",
       "            title=\"Convert this dataframe to an interactive table.\"\n",
       "            style=\"display:none;\">\n",
       "\n",
       "  <svg xmlns=\"http://www.w3.org/2000/svg\" height=\"24px\" viewBox=\"0 -960 960 960\">\n",
       "    <path d=\"M120-120v-720h720v720H120Zm60-500h600v-160H180v160Zm220 220h160v-160H400v160Zm0 220h160v-160H400v160ZM180-400h160v-160H180v160Zm440 0h160v-160H620v160ZM180-180h160v-160H180v160Zm440 0h160v-160H620v160Z\"/>\n",
       "  </svg>\n",
       "    </button>\n",
       "\n",
       "  <style>\n",
       "    .colab-df-container {\n",
       "      display:flex;\n",
       "      gap: 12px;\n",
       "    }\n",
       "\n",
       "    .colab-df-convert {\n",
       "      background-color: #E8F0FE;\n",
       "      border: none;\n",
       "      border-radius: 50%;\n",
       "      cursor: pointer;\n",
       "      display: none;\n",
       "      fill: #1967D2;\n",
       "      height: 32px;\n",
       "      padding: 0 0 0 0;\n",
       "      width: 32px;\n",
       "    }\n",
       "\n",
       "    .colab-df-convert:hover {\n",
       "      background-color: #E2EBFA;\n",
       "      box-shadow: 0px 1px 2px rgba(60, 64, 67, 0.3), 0px 1px 3px 1px rgba(60, 64, 67, 0.15);\n",
       "      fill: #174EA6;\n",
       "    }\n",
       "\n",
       "    .colab-df-buttons div {\n",
       "      margin-bottom: 4px;\n",
       "    }\n",
       "\n",
       "    [theme=dark] .colab-df-convert {\n",
       "      background-color: #3B4455;\n",
       "      fill: #D2E3FC;\n",
       "    }\n",
       "\n",
       "    [theme=dark] .colab-df-convert:hover {\n",
       "      background-color: #434B5C;\n",
       "      box-shadow: 0px 1px 3px 1px rgba(0, 0, 0, 0.15);\n",
       "      filter: drop-shadow(0px 1px 2px rgba(0, 0, 0, 0.3));\n",
       "      fill: #FFFFFF;\n",
       "    }\n",
       "  </style>\n",
       "\n",
       "    <script>\n",
       "      const buttonEl =\n",
       "        document.querySelector('#df-41664e5e-157f-4be1-b1b0-d14185b3af46 button.colab-df-convert');\n",
       "      buttonEl.style.display =\n",
       "        google.colab.kernel.accessAllowed ? 'block' : 'none';\n",
       "\n",
       "      async function convertToInteractive(key) {\n",
       "        const element = document.querySelector('#df-41664e5e-157f-4be1-b1b0-d14185b3af46');\n",
       "        const dataTable =\n",
       "          await google.colab.kernel.invokeFunction('convertToInteractive',\n",
       "                                                    [key], {});\n",
       "        if (!dataTable) return;\n",
       "\n",
       "        const docLinkHtml = 'Like what you see? Visit the ' +\n",
       "          '<a target=\"_blank\" href=https://colab.research.google.com/notebooks/data_table.ipynb>data table notebook</a>'\n",
       "          + ' to learn more about interactive tables.';\n",
       "        element.innerHTML = '';\n",
       "        dataTable['output_type'] = 'display_data';\n",
       "        await google.colab.output.renderOutput(dataTable, element);\n",
       "        const docLink = document.createElement('div');\n",
       "        docLink.innerHTML = docLinkHtml;\n",
       "        element.appendChild(docLink);\n",
       "      }\n",
       "    </script>\n",
       "  </div>\n",
       "\n",
       "\n",
       "<div id=\"df-b173bb6f-0c8c-43d6-a836-8b4a22d87ae8\">\n",
       "  <button class=\"colab-df-quickchart\" onclick=\"quickchart('df-b173bb6f-0c8c-43d6-a836-8b4a22d87ae8')\"\n",
       "            title=\"Suggest charts\"\n",
       "            style=\"display:none;\">\n",
       "\n",
       "<svg xmlns=\"http://www.w3.org/2000/svg\" height=\"24px\"viewBox=\"0 0 24 24\"\n",
       "     width=\"24px\">\n",
       "    <g>\n",
       "        <path d=\"M19 3H5c-1.1 0-2 .9-2 2v14c0 1.1.9 2 2 2h14c1.1 0 2-.9 2-2V5c0-1.1-.9-2-2-2zM9 17H7v-7h2v7zm4 0h-2V7h2v10zm4 0h-2v-4h2v4z\"/>\n",
       "    </g>\n",
       "</svg>\n",
       "  </button>\n",
       "\n",
       "<style>\n",
       "  .colab-df-quickchart {\n",
       "      --bg-color: #E8F0FE;\n",
       "      --fill-color: #1967D2;\n",
       "      --hover-bg-color: #E2EBFA;\n",
       "      --hover-fill-color: #174EA6;\n",
       "      --disabled-fill-color: #AAA;\n",
       "      --disabled-bg-color: #DDD;\n",
       "  }\n",
       "\n",
       "  [theme=dark] .colab-df-quickchart {\n",
       "      --bg-color: #3B4455;\n",
       "      --fill-color: #D2E3FC;\n",
       "      --hover-bg-color: #434B5C;\n",
       "      --hover-fill-color: #FFFFFF;\n",
       "      --disabled-bg-color: #3B4455;\n",
       "      --disabled-fill-color: #666;\n",
       "  }\n",
       "\n",
       "  .colab-df-quickchart {\n",
       "    background-color: var(--bg-color);\n",
       "    border: none;\n",
       "    border-radius: 50%;\n",
       "    cursor: pointer;\n",
       "    display: none;\n",
       "    fill: var(--fill-color);\n",
       "    height: 32px;\n",
       "    padding: 0;\n",
       "    width: 32px;\n",
       "  }\n",
       "\n",
       "  .colab-df-quickchart:hover {\n",
       "    background-color: var(--hover-bg-color);\n",
       "    box-shadow: 0 1px 2px rgba(60, 64, 67, 0.3), 0 1px 3px 1px rgba(60, 64, 67, 0.15);\n",
       "    fill: var(--button-hover-fill-color);\n",
       "  }\n",
       "\n",
       "  .colab-df-quickchart-complete:disabled,\n",
       "  .colab-df-quickchart-complete:disabled:hover {\n",
       "    background-color: var(--disabled-bg-color);\n",
       "    fill: var(--disabled-fill-color);\n",
       "    box-shadow: none;\n",
       "  }\n",
       "\n",
       "  .colab-df-spinner {\n",
       "    border: 2px solid var(--fill-color);\n",
       "    border-color: transparent;\n",
       "    border-bottom-color: var(--fill-color);\n",
       "    animation:\n",
       "      spin 1s steps(1) infinite;\n",
       "  }\n",
       "\n",
       "  @keyframes spin {\n",
       "    0% {\n",
       "      border-color: transparent;\n",
       "      border-bottom-color: var(--fill-color);\n",
       "      border-left-color: var(--fill-color);\n",
       "    }\n",
       "    20% {\n",
       "      border-color: transparent;\n",
       "      border-left-color: var(--fill-color);\n",
       "      border-top-color: var(--fill-color);\n",
       "    }\n",
       "    30% {\n",
       "      border-color: transparent;\n",
       "      border-left-color: var(--fill-color);\n",
       "      border-top-color: var(--fill-color);\n",
       "      border-right-color: var(--fill-color);\n",
       "    }\n",
       "    40% {\n",
       "      border-color: transparent;\n",
       "      border-right-color: var(--fill-color);\n",
       "      border-top-color: var(--fill-color);\n",
       "    }\n",
       "    60% {\n",
       "      border-color: transparent;\n",
       "      border-right-color: var(--fill-color);\n",
       "    }\n",
       "    80% {\n",
       "      border-color: transparent;\n",
       "      border-right-color: var(--fill-color);\n",
       "      border-bottom-color: var(--fill-color);\n",
       "    }\n",
       "    90% {\n",
       "      border-color: transparent;\n",
       "      border-bottom-color: var(--fill-color);\n",
       "    }\n",
       "  }\n",
       "</style>\n",
       "\n",
       "  <script>\n",
       "    async function quickchart(key) {\n",
       "      const quickchartButtonEl =\n",
       "        document.querySelector('#' + key + ' button');\n",
       "      quickchartButtonEl.disabled = true;  // To prevent multiple clicks.\n",
       "      quickchartButtonEl.classList.add('colab-df-spinner');\n",
       "      try {\n",
       "        const charts = await google.colab.kernel.invokeFunction(\n",
       "            'suggestCharts', [key], {});\n",
       "      } catch (error) {\n",
       "        console.error('Error during call to suggestCharts:', error);\n",
       "      }\n",
       "      quickchartButtonEl.classList.remove('colab-df-spinner');\n",
       "      quickchartButtonEl.classList.add('colab-df-quickchart-complete');\n",
       "    }\n",
       "    (() => {\n",
       "      let quickchartButtonEl =\n",
       "        document.querySelector('#df-b173bb6f-0c8c-43d6-a836-8b4a22d87ae8 button');\n",
       "      quickchartButtonEl.style.display =\n",
       "        google.colab.kernel.accessAllowed ? 'block' : 'none';\n",
       "    })();\n",
       "  </script>\n",
       "</div>\n",
       "\n",
       "    </div>\n",
       "  </div>\n"
      ],
      "text/plain": [
       "   mean_fit_time  std_fit_time  mean_score_time  std_score_time  \\\n",
       "0       0.001476      0.000189         0.003433        0.003269   \n",
       "1       0.001111      0.000086         0.002299        0.002158   \n",
       "2       0.001057      0.000078         0.001394        0.000861   \n",
       "3       0.001058      0.000092         0.000888        0.000161   \n",
       "4       0.002231      0.001584         0.006011        0.007302   \n",
       "5       0.002712      0.002318         0.000803        0.000030   \n",
       "\n",
       "  param_max_depth param_min_samples_split  \\\n",
       "0               1                       2   \n",
       "1               1                       3   \n",
       "2               2                       2   \n",
       "3               2                       3   \n",
       "4               3                       2   \n",
       "5               3                       3   \n",
       "\n",
       "                                     params  split0_test_score  \\\n",
       "0  {'max_depth': 1, 'min_samples_split': 2}              0.650   \n",
       "1  {'max_depth': 1, 'min_samples_split': 3}              0.650   \n",
       "2  {'max_depth': 2, 'min_samples_split': 2}              0.975   \n",
       "3  {'max_depth': 2, 'min_samples_split': 3}              0.975   \n",
       "4  {'max_depth': 3, 'min_samples_split': 2}              1.000   \n",
       "5  {'max_depth': 3, 'min_samples_split': 3}              1.000   \n",
       "\n",
       "   split1_test_score  split2_test_score  mean_test_score  std_test_score  \\\n",
       "0              0.675               0.65         0.658333        0.011785   \n",
       "1              0.675               0.65         0.658333        0.011785   \n",
       "2              0.950               0.85         0.925000        0.054006   \n",
       "3              0.950               0.85         0.925000        0.054006   \n",
       "4              0.950               0.85         0.933333        0.062361   \n",
       "5              0.950               0.85         0.933333        0.062361   \n",
       "\n",
       "   rank_test_score  split0_train_score  split1_train_score  \\\n",
       "0                5              0.6750              0.6625   \n",
       "1                5              0.6750              0.6625   \n",
       "2                3              0.9500              0.9625   \n",
       "3                3              0.9500              0.9625   \n",
       "4                1              0.9625              0.9875   \n",
       "5                1              0.9625              0.9875   \n",
       "\n",
       "   split2_train_score  mean_train_score  std_train_score  \n",
       "0              0.6750          0.670833         0.005893  \n",
       "1              0.6750          0.670833         0.005893  \n",
       "2              0.9875          0.966667         0.015590  \n",
       "3              0.9875          0.966667         0.015590  \n",
       "4              0.9875          0.979167         0.011785  \n",
       "5              0.9875          0.979167         0.011785  "
      ]
     },
     "execution_count": 32,
     "metadata": {},
     "output_type": "execute_result"
    }
   ],
   "source": [
    "# GridSearch 결과는 cv_results_ 변수에 들어있다.\n",
    "import pandas as pd\n",
    "pd.DataFrame(grid_dt_clf.cv_results_)"
   ]
  },
  {
   "cell_type": "code",
   "execution_count": 33,
   "metadata": {
    "colab": {
     "base_uri": "https://localhost:8080/"
    },
    "executionInfo": {
     "elapsed": 364,
     "status": "ok",
     "timestamp": 1721700882076,
     "user": {
      "displayName": "소민호",
      "userId": "13788803923072454204"
     },
     "user_tz": -540
    },
    "id": "LLtVyxMRXkKm",
    "outputId": "345b8977-155f-4f7f-9b66-265fb1fb13ea"
   },
   "outputs": [
    {
     "name": "stdout",
     "output_type": "stream",
     "text": [
      "GridSearchCV 최적 하이퍼 파라미터 : {'max_depth': 3, 'min_samples_split': 2}\n",
      "GridSearchCV 최고 정확도 : 0.9333\n"
     ]
    }
   ],
   "source": [
    "print(\"GridSearchCV 최적 하이퍼 파라미터 : {}\".format(grid_dt_clf.best_params_))\n",
    "print(\"GridSearchCV 최고 정확도 : {:.4f}\".format(grid_dt_clf.best_score_)) # valid 세트에서의 최고 정확도"
   ]
  },
  {
   "cell_type": "code",
   "execution_count": 34,
   "metadata": {
    "colab": {
     "base_uri": "https://localhost:8080/"
    },
    "executionInfo": {
     "elapsed": 390,
     "status": "ok",
     "timestamp": 1721701006980,
     "user": {
      "displayName": "소민호",
      "userId": "13788803923072454204"
     },
     "user_tz": -540
    },
    "id": "Cynx6wVBXpLu",
    "outputId": "53dd6d3b-e656-4ba8-c587-83a3c88b6a9f"
   },
   "outputs": [
    {
     "name": "stdout",
     "output_type": "stream",
     "text": [
      "테스트 세트의 정확도 : 0.9667\n"
     ]
    }
   ],
   "source": [
    "# 최고의 결과를 냈었던 추정기(Estimator)로 예측\n",
    "pred = grid_dt_clf.predict(X_test)\n",
    "\n",
    "print(\"테스트 세트의 정확도 : {:.4f}\".format(accuracy_score(y_test, pred)))"
   ]
  },
  {
   "cell_type": "code",
   "execution_count": 35,
   "metadata": {
    "colab": {
     "base_uri": "https://localhost:8080/",
     "height": 75
    },
    "executionInfo": {
     "elapsed": 361,
     "status": "ok",
     "timestamp": 1721701080129,
     "user": {
      "displayName": "소민호",
      "userId": "13788803923072454204"
     },
     "user_tz": -540
    },
    "id": "qNmTGM9iYHhg",
    "outputId": "b54a4bf3-d474-4eae-f479-94b407910460"
   },
   "outputs": [
    {
     "data": {
      "text/html": [
       "<style>#sk-container-id-2 {color: black;background-color: white;}#sk-container-id-2 pre{padding: 0;}#sk-container-id-2 div.sk-toggleable {background-color: white;}#sk-container-id-2 label.sk-toggleable__label {cursor: pointer;display: block;width: 100%;margin-bottom: 0;padding: 0.3em;box-sizing: border-box;text-align: center;}#sk-container-id-2 label.sk-toggleable__label-arrow:before {content: \"▸\";float: left;margin-right: 0.25em;color: #696969;}#sk-container-id-2 label.sk-toggleable__label-arrow:hover:before {color: black;}#sk-container-id-2 div.sk-estimator:hover label.sk-toggleable__label-arrow:before {color: black;}#sk-container-id-2 div.sk-toggleable__content {max-height: 0;max-width: 0;overflow: hidden;text-align: left;background-color: #f0f8ff;}#sk-container-id-2 div.sk-toggleable__content pre {margin: 0.2em;color: black;border-radius: 0.25em;background-color: #f0f8ff;}#sk-container-id-2 input.sk-toggleable__control:checked~div.sk-toggleable__content {max-height: 200px;max-width: 100%;overflow: auto;}#sk-container-id-2 input.sk-toggleable__control:checked~label.sk-toggleable__label-arrow:before {content: \"▾\";}#sk-container-id-2 div.sk-estimator input.sk-toggleable__control:checked~label.sk-toggleable__label {background-color: #d4ebff;}#sk-container-id-2 div.sk-label input.sk-toggleable__control:checked~label.sk-toggleable__label {background-color: #d4ebff;}#sk-container-id-2 input.sk-hidden--visually {border: 0;clip: rect(1px 1px 1px 1px);clip: rect(1px, 1px, 1px, 1px);height: 1px;margin: -1px;overflow: hidden;padding: 0;position: absolute;width: 1px;}#sk-container-id-2 div.sk-estimator {font-family: monospace;background-color: #f0f8ff;border: 1px dotted black;border-radius: 0.25em;box-sizing: border-box;margin-bottom: 0.5em;}#sk-container-id-2 div.sk-estimator:hover {background-color: #d4ebff;}#sk-container-id-2 div.sk-parallel-item::after {content: \"\";width: 100%;border-bottom: 1px solid gray;flex-grow: 1;}#sk-container-id-2 div.sk-label:hover label.sk-toggleable__label {background-color: #d4ebff;}#sk-container-id-2 div.sk-serial::before {content: \"\";position: absolute;border-left: 1px solid gray;box-sizing: border-box;top: 0;bottom: 0;left: 50%;z-index: 0;}#sk-container-id-2 div.sk-serial {display: flex;flex-direction: column;align-items: center;background-color: white;padding-right: 0.2em;padding-left: 0.2em;position: relative;}#sk-container-id-2 div.sk-item {position: relative;z-index: 1;}#sk-container-id-2 div.sk-parallel {display: flex;align-items: stretch;justify-content: center;background-color: white;position: relative;}#sk-container-id-2 div.sk-item::before, #sk-container-id-2 div.sk-parallel-item::before {content: \"\";position: absolute;border-left: 1px solid gray;box-sizing: border-box;top: 0;bottom: 0;left: 50%;z-index: -1;}#sk-container-id-2 div.sk-parallel-item {display: flex;flex-direction: column;z-index: 1;position: relative;background-color: white;}#sk-container-id-2 div.sk-parallel-item:first-child::after {align-self: flex-end;width: 50%;}#sk-container-id-2 div.sk-parallel-item:last-child::after {align-self: flex-start;width: 50%;}#sk-container-id-2 div.sk-parallel-item:only-child::after {width: 0;}#sk-container-id-2 div.sk-dashed-wrapped {border: 1px dashed gray;margin: 0 0.4em 0.5em 0.4em;box-sizing: border-box;padding-bottom: 0.4em;background-color: white;}#sk-container-id-2 div.sk-label label {font-family: monospace;font-weight: bold;display: inline-block;line-height: 1.2em;}#sk-container-id-2 div.sk-label-container {text-align: center;}#sk-container-id-2 div.sk-container {/* jupyter's `normalize.less` sets `[hidden] { display: none; }` but bootstrap.min.css set `[hidden] { display: none !important; }` so we also need the `!important` here to be able to override the default hidden behavior on the sphinx rendered scikit-learn.org. See: https://github.com/scikit-learn/scikit-learn/issues/21755 */display: inline-block !important;position: relative;}#sk-container-id-2 div.sk-text-repr-fallback {display: none;}</style><div id=\"sk-container-id-2\" class=\"sk-top-container\"><div class=\"sk-text-repr-fallback\"><pre>DecisionTreeClassifier(max_depth=3)</pre><b>In a Jupyter environment, please rerun this cell to show the HTML representation or trust the notebook. <br />On GitHub, the HTML representation is unable to render, please try loading this page with nbviewer.org.</b></div><div class=\"sk-container\" hidden><div class=\"sk-item\"><div class=\"sk-estimator sk-toggleable\"><input class=\"sk-toggleable__control sk-hidden--visually\" id=\"sk-estimator-id-4\" type=\"checkbox\" checked><label for=\"sk-estimator-id-4\" class=\"sk-toggleable__label sk-toggleable__label-arrow\">DecisionTreeClassifier</label><div class=\"sk-toggleable__content\"><pre>DecisionTreeClassifier(max_depth=3)</pre></div></div></div></div></div>"
      ],
      "text/plain": [
       "DecisionTreeClassifier(max_depth=3)"
      ]
     },
     "execution_count": 35,
     "metadata": {},
     "output_type": "execute_result"
    }
   ],
   "source": [
    "# 학습이 완료된 최고 성능의 모델 객체 얻어내기\n",
    "best_dt_clf = grid_dt_clf.best_estimator_\n",
    "best_dt_clf"
   ]
  },
  {
   "cell_type": "code",
   "execution_count": 36,
   "metadata": {
    "colab": {
     "base_uri": "https://localhost:8080/"
    },
    "executionInfo": {
     "elapsed": 348,
     "status": "ok",
     "timestamp": 1721701136887,
     "user": {
      "displayName": "소민호",
      "userId": "13788803923072454204"
     },
     "user_tz": -540
    },
    "id": "m3d7jkGOYZY9",
    "outputId": "b98c87b8-8fd0-4068-bb28-3470d2c0f76f"
   },
   "outputs": [
    {
     "name": "stdout",
     "output_type": "stream",
     "text": [
      "테스트 세트의 정확도 : 0.9667\n"
     ]
    }
   ],
   "source": [
    "pred = best_dt_clf.predict(X_test)\n",
    "print(\"테스트 세트의 정확도 : {:.4f}\".format(accuracy_score(y_test, pred)))"
   ]
  },
  {
   "cell_type": "code",
   "execution_count": null,
   "metadata": {
    "id": "VUD_RPdjYnaO"
   },
   "outputs": [],
   "source": []
  }
 ],
 "metadata": {
  "colab": {
   "authorship_tag": "ABX9TyPZRLH2LMPPX20gNw9lsNJZ",
   "provenance": []
  },
  "kernelspec": {
   "display_name": "Python 3 (ipykernel)",
   "language": "python",
   "name": "python3"
  },
  "language_info": {
   "codemirror_mode": {
    "name": "ipython",
    "version": 3
   },
   "file_extension": ".py",
   "mimetype": "text/x-python",
   "name": "python",
   "nbconvert_exporter": "python",
   "pygments_lexer": "ipython3",
   "version": "3.11.5"
  }
 },
 "nbformat": 4,
 "nbformat_minor": 1
}
