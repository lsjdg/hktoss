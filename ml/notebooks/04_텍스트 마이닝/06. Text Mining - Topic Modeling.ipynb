{
 "cells": [
  {
   "cell_type": "code",
   "execution_count": null,
   "id": "cf6bcfee-4562-4a96-9cf8-bbab7b465aa7",
   "metadata": {},
   "outputs": [],
   "source": [
    "from sklearn.datasets import fetch_20newsgroups\n",
    "from sklearn.feature_extraction.text import CountVectorizer\n",
    "from sklearn.decomposition import LatentDirichletAllocation\n",
    "\n",
    "# 컴퓨터 그래픽스, 기독교, 야구\n",
    "cats = ['comp.graphics', 'soc.religion.christian','rec.sport.baseball']\n",
    "\n",
    "news_df = fetch_20newsgroups(\n",
    "    subset='all',\n",
    "    remove=('headers', 'footers', 'quotes'),\n",
    "    categories=cats,\n",
    "    random_state=42\n",
    ")\n",
    "\n",
    "# 코퍼스\n",
    "news_df"
   ]
  },
  {
   "cell_type": "code",
   "execution_count": 25,
   "id": "c822bd71-2fad-410f-ace8-f6386cf190d8",
   "metadata": {},
   "outputs": [],
   "source": [
    "# 텍스트 전처리 (lemmatize, stopwords, 특수기호 제거 등) 필요하다 => 추가로 따로 해주기"
   ]
  },
  {
   "cell_type": "markdown",
   "id": "52b4f4e9-1c00-4c39-9798-41950c3c258a",
   "metadata": {},
   "source": [
    "topic modeling 은 DTM 사용\n",
    "* 확률을 구해야 하기 때문에 빈도수가 중요\n",
    "* TF-IDF를 사용하면 제대로 된 토픽 모델링이 안될 가능성이 커진다\n",
    "* **확률을 구할때는 빈도수**"
   ]
  },
  {
   "cell_type": "code",
   "execution_count": 26,
   "id": "ab722252-412b-46f6-b0de-8aee48aa4afe",
   "metadata": {},
   "outputs": [
    {
     "data": {
      "text/plain": [
       "(2964, 1000)"
      ]
     },
     "execution_count": 26,
     "metadata": {},
     "output_type": "execute_result"
    }
   ],
   "source": [
    "count_vectorizer = CountVectorizer(\n",
    "    max_df=0.95,\n",
    "    min_df=2,\n",
    "    max_features=1000, # 단어를 최대 몇 개 사용할 것인지\n",
    "    stop_words='english',\n",
    "    ngram_range=(1,2)\n",
    ")\n",
    "\n",
    "dtm_vector = count_vectorizer.fit_transform(news_df['data'])\n",
    "dtm_vector.shape"
   ]
  },
  {
   "cell_type": "code",
   "execution_count": null,
   "id": "6d9049f4-b6b2-478f-9005-037ce94d2601",
   "metadata": {},
   "outputs": [],
   "source": [
    "count_vectorizer.get_feature_names_out()"
   ]
  },
  {
   "cell_type": "markdown",
   "id": "0f37f382-1a85-4521-8ee0-53dedfb5d177",
   "metadata": {},
   "source": [
    "## LDA 적용"
   ]
  },
  {
   "cell_type": "code",
   "execution_count": 28,
   "id": "8429b7dd-d15b-4d5e-ad7a-c237e70e047d",
   "metadata": {},
   "outputs": [
    {
     "data": {
      "text/html": [
       "<style>#sk-container-id-3 {color: black;}#sk-container-id-3 pre{padding: 0;}#sk-container-id-3 div.sk-toggleable {background-color: white;}#sk-container-id-3 label.sk-toggleable__label {cursor: pointer;display: block;width: 100%;margin-bottom: 0;padding: 0.3em;box-sizing: border-box;text-align: center;}#sk-container-id-3 label.sk-toggleable__label-arrow:before {content: \"▸\";float: left;margin-right: 0.25em;color: #696969;}#sk-container-id-3 label.sk-toggleable__label-arrow:hover:before {color: black;}#sk-container-id-3 div.sk-estimator:hover label.sk-toggleable__label-arrow:before {color: black;}#sk-container-id-3 div.sk-toggleable__content {max-height: 0;max-width: 0;overflow: hidden;text-align: left;background-color: #f0f8ff;}#sk-container-id-3 div.sk-toggleable__content pre {margin: 0.2em;color: black;border-radius: 0.25em;background-color: #f0f8ff;}#sk-container-id-3 input.sk-toggleable__control:checked~div.sk-toggleable__content {max-height: 200px;max-width: 100%;overflow: auto;}#sk-container-id-3 input.sk-toggleable__control:checked~label.sk-toggleable__label-arrow:before {content: \"▾\";}#sk-container-id-3 div.sk-estimator input.sk-toggleable__control:checked~label.sk-toggleable__label {background-color: #d4ebff;}#sk-container-id-3 div.sk-label input.sk-toggleable__control:checked~label.sk-toggleable__label {background-color: #d4ebff;}#sk-container-id-3 input.sk-hidden--visually {border: 0;clip: rect(1px 1px 1px 1px);clip: rect(1px, 1px, 1px, 1px);height: 1px;margin: -1px;overflow: hidden;padding: 0;position: absolute;width: 1px;}#sk-container-id-3 div.sk-estimator {font-family: monospace;background-color: #f0f8ff;border: 1px dotted black;border-radius: 0.25em;box-sizing: border-box;margin-bottom: 0.5em;}#sk-container-id-3 div.sk-estimator:hover {background-color: #d4ebff;}#sk-container-id-3 div.sk-parallel-item::after {content: \"\";width: 100%;border-bottom: 1px solid gray;flex-grow: 1;}#sk-container-id-3 div.sk-label:hover label.sk-toggleable__label {background-color: #d4ebff;}#sk-container-id-3 div.sk-serial::before {content: \"\";position: absolute;border-left: 1px solid gray;box-sizing: border-box;top: 0;bottom: 0;left: 50%;z-index: 0;}#sk-container-id-3 div.sk-serial {display: flex;flex-direction: column;align-items: center;background-color: white;padding-right: 0.2em;padding-left: 0.2em;position: relative;}#sk-container-id-3 div.sk-item {position: relative;z-index: 1;}#sk-container-id-3 div.sk-parallel {display: flex;align-items: stretch;justify-content: center;background-color: white;position: relative;}#sk-container-id-3 div.sk-item::before, #sk-container-id-3 div.sk-parallel-item::before {content: \"\";position: absolute;border-left: 1px solid gray;box-sizing: border-box;top: 0;bottom: 0;left: 50%;z-index: -1;}#sk-container-id-3 div.sk-parallel-item {display: flex;flex-direction: column;z-index: 1;position: relative;background-color: white;}#sk-container-id-3 div.sk-parallel-item:first-child::after {align-self: flex-end;width: 50%;}#sk-container-id-3 div.sk-parallel-item:last-child::after {align-self: flex-start;width: 50%;}#sk-container-id-3 div.sk-parallel-item:only-child::after {width: 0;}#sk-container-id-3 div.sk-dashed-wrapped {border: 1px dashed gray;margin: 0 0.4em 0.5em 0.4em;box-sizing: border-box;padding-bottom: 0.4em;background-color: white;}#sk-container-id-3 div.sk-label label {font-family: monospace;font-weight: bold;display: inline-block;line-height: 1.2em;}#sk-container-id-3 div.sk-label-container {text-align: center;}#sk-container-id-3 div.sk-container {/* jupyter's `normalize.less` sets `[hidden] { display: none; }` but bootstrap.min.css set `[hidden] { display: none !important; }` so we also need the `!important` here to be able to override the default hidden behavior on the sphinx rendered scikit-learn.org. See: https://github.com/scikit-learn/scikit-learn/issues/21755 */display: inline-block !important;position: relative;}#sk-container-id-3 div.sk-text-repr-fallback {display: none;}</style><div id=\"sk-container-id-3\" class=\"sk-top-container\"><div class=\"sk-text-repr-fallback\"><pre>LatentDirichletAllocation(n_components=3, random_state=42)</pre><b>In a Jupyter environment, please rerun this cell to show the HTML representation or trust the notebook. <br />On GitHub, the HTML representation is unable to render, please try loading this page with nbviewer.org.</b></div><div class=\"sk-container\" hidden><div class=\"sk-item\"><div class=\"sk-estimator sk-toggleable\"><input class=\"sk-toggleable__control sk-hidden--visually\" id=\"sk-estimator-id-3\" type=\"checkbox\" checked><label for=\"sk-estimator-id-3\" class=\"sk-toggleable__label sk-toggleable__label-arrow\">LatentDirichletAllocation</label><div class=\"sk-toggleable__content\"><pre>LatentDirichletAllocation(n_components=3, random_state=42)</pre></div></div></div></div></div>"
      ],
      "text/plain": [
       "LatentDirichletAllocation(n_components=3, random_state=42)"
      ]
     },
     "execution_count": 28,
     "metadata": {},
     "output_type": "execute_result"
    }
   ],
   "source": [
    "lda = LatentDirichletAllocation(\n",
    "    n_components=len(cats), # 사용할 토픽의 갯수 지정\n",
    "    random_state=42\n",
    ")\n",
    "\n",
    "lda.fit(dtm_vector)"
   ]
  },
  {
   "cell_type": "markdown",
   "id": "a9ebc669-4cf5-4c61-b971-be29849d432e",
   "metadata": {},
   "source": [
    "## 주제별 단어 연관도 확인\n",
    "* 토픽에 포함되는 단어의 연관도\n",
    "  "
   ]
  },
  {
   "cell_type": "code",
   "execution_count": 29,
   "id": "6caa9152-bcda-4216-9681-ff5c2c6d952d",
   "metadata": {},
   "outputs": [
    {
     "data": {
      "text/plain": [
       "array([[ 63.63332482,   0.34963495,  17.44704079, ...,  16.61505824,\n",
       "          2.5384632 , 122.4210569 ],\n",
       "       [208.02174752,  68.31556307,  90.89958785, ...,  80.29277085,\n",
       "         54.27731685,   3.2448167 ],\n",
       "       [  0.34492766,   0.33480198,   0.65337136, ...,   2.09217091,\n",
       "         49.18421995,   0.3341264 ]])"
      ]
     },
     "execution_count": 29,
     "metadata": {},
     "output_type": "execute_result"
    }
   ],
   "source": [
    "lda.components_\n",
    "# 각 토픽에 대해 1000개 단어의 연관도"
   ]
  },
  {
   "cell_type": "code",
   "execution_count": 30,
   "id": "1c8d317e-319b-4d1f-aad5-a89e04d92d17",
   "metadata": {},
   "outputs": [
    {
     "name": "stdout",
     "output_type": "stream",
     "text": [
      "Topic : 0\n",
      "['image', 'graphics', 'jpeg', 'edu', 'file', 'images', 'data', 'available', 'software', 'use']\n",
      "\n",
      "Topic : 1\n",
      "['year', 'game', 'don', 'think', 'good', 'team', 'time', 'games', 'just', 'like']\n",
      "\n",
      "Topic : 2\n",
      "['god', 'people', 'jesus', 'church', 'think', 'know', 'does', 'just', 'christ', 'don']\n",
      "\n"
     ]
    }
   ],
   "source": [
    "# 각 토픽 별 중심 단어(점수가 높은 단어) 확인\n",
    "for topic_index, topic_score in enumerate(lda.components_): # enumerate : 인덱스와 해당 요소를 동시에 얻을 수 있음\n",
    "    print(\"Topic : {}\".format(topic_index))\n",
    "    # 단어의 인덱스 구하기\n",
    "    topic_word_index = topic_score.argsort()[::-1] # argsort : 배열을 정렬했을 때 원본 배열의 인덱스를 반환\n",
    "    top_index = topic_word_index[:10]\n",
    "\n",
    "    words = count_vectorizer.get_feature_names_out()\n",
    "    top_words = [ words[i] for i in top_index ]\n",
    "\n",
    "    print(top_words)\n",
    "    print()"
   ]
  },
  {
   "cell_type": "markdown",
   "id": "cb1420f5-214a-481f-98f0-f75fba4ca44f",
   "metadata": {},
   "source": [
    "## 각 문서 별 토픽 분포 확인"
   ]
  },
  {
   "cell_type": "code",
   "execution_count": 38,
   "id": "bdc68f2e-5495-4a7e-9fdd-5d3994dcf1c8",
   "metadata": {},
   "outputs": [
    {
     "data": {
      "text/plain": [
       "array([[0.85839148, 0.12070316, 0.02090536],\n",
       "       [0.90436513, 0.05643273, 0.03920214],\n",
       "       [0.22961015, 0.5236614 , 0.24672845],\n",
       "       ...,\n",
       "       [0.00392839, 0.00412269, 0.99194892],\n",
       "       [0.92202287, 0.03668682, 0.04129031],\n",
       "       [0.00184472, 0.00167317, 0.99648212]])"
      ]
     },
     "execution_count": 38,
     "metadata": {},
     "output_type": "execute_result"
    }
   ],
   "source": [
    "doc_topic = lda.transform(dtm_vector)\n",
    "doc_topic"
   ]
  },
  {
   "cell_type": "code",
   "execution_count": 32,
   "id": "e0e1a90f-167d-45d7-a184-ee799dc3a3ab",
   "metadata": {},
   "outputs": [
    {
     "name": "stdout",
     "output_type": "stream",
     "text": [
      "filename 개수: 2964 filename list 10개만: ['rec.sport.baseball.105154', 'comp.graphics.38805', 'rec.sport.baseball.104616', 'comp.graphics.37928', 'rec.sport.baseball.104823', 'comp.graphics.38908', 'comp.graphics.38659', 'comp.graphics.38691', 'comp.graphics.38876', 'comp.graphics.38700']\n"
     ]
    }
   ],
   "source": [
    "def get_filename_list(newsdata):\n",
    "    filename_list=[]\n",
    "\n",
    "    for file in newsdata.filenames:\n",
    "            #print(file)\n",
    "            filename_temp = file.split('\\\\')[-2:]\n",
    "            filename = '.'.join(filename_temp)\n",
    "            filename_list.append('/'.join(filename.split('/')[-2:]))\n",
    "\n",
    "    return filename_list\n",
    "\n",
    "filename_list = get_filename_list(news_df)\n",
    "print(\"filename 개수:\",len(filename_list), \"filename list 10개만:\",filename_list[:10])"
   ]
  },
  {
   "cell_type": "code",
   "execution_count": 33,
   "id": "26211b44-935c-423a-8bd5-0e18994234b3",
   "metadata": {},
   "outputs": [
    {
     "data": {
      "text/html": [
       "<div>\n",
       "<style scoped>\n",
       "    .dataframe tbody tr th:only-of-type {\n",
       "        vertical-align: middle;\n",
       "    }\n",
       "\n",
       "    .dataframe tbody tr th {\n",
       "        vertical-align: top;\n",
       "    }\n",
       "\n",
       "    .dataframe thead th {\n",
       "        text-align: right;\n",
       "    }\n",
       "</style>\n",
       "<table border=\"1\" class=\"dataframe\">\n",
       "  <thead>\n",
       "    <tr style=\"text-align: right;\">\n",
       "      <th></th>\n",
       "      <th>topic # 0</th>\n",
       "      <th>topic # 1</th>\n",
       "      <th>topic # 2</th>\n",
       "    </tr>\n",
       "  </thead>\n",
       "  <tbody>\n",
       "    <tr>\n",
       "      <th>rec.sport.baseball.105154</th>\n",
       "      <td>0.858391</td>\n",
       "      <td>0.120703</td>\n",
       "      <td>0.020905</td>\n",
       "    </tr>\n",
       "    <tr>\n",
       "      <th>comp.graphics.38805</th>\n",
       "      <td>0.904365</td>\n",
       "      <td>0.056433</td>\n",
       "      <td>0.039202</td>\n",
       "    </tr>\n",
       "    <tr>\n",
       "      <th>rec.sport.baseball.104616</th>\n",
       "      <td>0.229610</td>\n",
       "      <td>0.523661</td>\n",
       "      <td>0.246728</td>\n",
       "    </tr>\n",
       "    <tr>\n",
       "      <th>comp.graphics.37928</th>\n",
       "      <td>0.333333</td>\n",
       "      <td>0.333333</td>\n",
       "      <td>0.333333</td>\n",
       "    </tr>\n",
       "    <tr>\n",
       "      <th>rec.sport.baseball.104823</th>\n",
       "      <td>0.028380</td>\n",
       "      <td>0.940660</td>\n",
       "      <td>0.030959</td>\n",
       "    </tr>\n",
       "    <tr>\n",
       "      <th>...</th>\n",
       "      <td>...</td>\n",
       "      <td>...</td>\n",
       "      <td>...</td>\n",
       "    </tr>\n",
       "    <tr>\n",
       "      <th>comp.graphics.38311</th>\n",
       "      <td>0.424100</td>\n",
       "      <td>0.416729</td>\n",
       "      <td>0.159172</td>\n",
       "    </tr>\n",
       "    <tr>\n",
       "      <th>comp.graphics.38435</th>\n",
       "      <td>0.333333</td>\n",
       "      <td>0.333333</td>\n",
       "      <td>0.333333</td>\n",
       "    </tr>\n",
       "    <tr>\n",
       "      <th>soc.religion.christian.20894</th>\n",
       "      <td>0.003928</td>\n",
       "      <td>0.004123</td>\n",
       "      <td>0.991949</td>\n",
       "    </tr>\n",
       "    <tr>\n",
       "      <th>comp.graphics.38275</th>\n",
       "      <td>0.922023</td>\n",
       "      <td>0.036687</td>\n",
       "      <td>0.041290</td>\n",
       "    </tr>\n",
       "    <tr>\n",
       "      <th>soc.religion.christian.20928</th>\n",
       "      <td>0.001845</td>\n",
       "      <td>0.001673</td>\n",
       "      <td>0.996482</td>\n",
       "    </tr>\n",
       "  </tbody>\n",
       "</table>\n",
       "<p>2964 rows × 3 columns</p>\n",
       "</div>"
      ],
      "text/plain": [
       "                              topic # 0  topic # 1  topic # 2\n",
       "rec.sport.baseball.105154      0.858391   0.120703   0.020905\n",
       "comp.graphics.38805            0.904365   0.056433   0.039202\n",
       "rec.sport.baseball.104616      0.229610   0.523661   0.246728\n",
       "comp.graphics.37928            0.333333   0.333333   0.333333\n",
       "rec.sport.baseball.104823      0.028380   0.940660   0.030959\n",
       "...                                 ...        ...        ...\n",
       "comp.graphics.38311            0.424100   0.416729   0.159172\n",
       "comp.graphics.38435            0.333333   0.333333   0.333333\n",
       "soc.religion.christian.20894   0.003928   0.004123   0.991949\n",
       "comp.graphics.38275            0.922023   0.036687   0.041290\n",
       "soc.religion.christian.20928   0.001845   0.001673   0.996482\n",
       "\n",
       "[2964 rows x 3 columns]"
      ]
     },
     "execution_count": 33,
     "metadata": {},
     "output_type": "execute_result"
    }
   ],
   "source": [
    "import pandas as pd\n",
    "\n",
    "topic_names = [\"topic # {}\".format(i) for i in range(0, len(cats))]\n",
    "\n",
    "topic_df = pd.DataFrame(doc_topic, columns=topic_names, index=filename_list)\n",
    "topic_df"
   ]
  },
  {
   "cell_type": "markdown",
   "id": "f9b66ed7-ffbc-4668-9828-71a4594bbe42",
   "metadata": {},
   "source": [
    "* 단어를 많이 쓰지도 않았고, 기사의 길이가 짧을 수 있어 정확한 값은 아니다"
   ]
  },
  {
   "cell_type": "code",
   "execution_count": 34,
   "id": "522eae44-f5a2-46a5-b809-7f8015216669",
   "metadata": {},
   "outputs": [],
   "source": [
    "test = \"I prayed to God to win this game. God answered, and we could win this game.\"\n",
    "# 기독교와 야구에 관한 단어들 포함"
   ]
  },
  {
   "cell_type": "code",
   "execution_count": 35,
   "id": "56161c59-461b-471d-b398-24760939013d",
   "metadata": {},
   "outputs": [
    {
     "data": {
      "text/plain": [
       "array([[0.04767431, 0.61900264, 0.33332305]])"
      ]
     },
     "execution_count": 35,
     "metadata": {},
     "output_type": "execute_result"
    }
   ],
   "source": [
    "test_vector = count_vectorizer.transform([test]) # 2차원 벡터로 삽입해야 한다\n",
    "lda.transform(test_vector)"
   ]
  }
 ],
 "metadata": {
  "kernelspec": {
   "display_name": "Python 3 (ipykernel)",
   "language": "python",
   "name": "python3"
  },
  "language_info": {
   "codemirror_mode": {
    "name": "ipython",
    "version": 3
   },
   "file_extension": ".py",
   "mimetype": "text/x-python",
   "name": "python",
   "nbconvert_exporter": "python",
   "pygments_lexer": "ipython3",
   "version": "3.8.18"
  }
 },
 "nbformat": 4,
 "nbformat_minor": 5
}
