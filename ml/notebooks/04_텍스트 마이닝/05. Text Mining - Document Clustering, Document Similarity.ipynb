{
 "cells": [
  {
   "cell_type": "code",
   "execution_count": 1,
   "id": "aa0dda62-4e35-448c-a786-b1337afc67e3",
   "metadata": {},
   "outputs": [],
   "source": [
    "DATA_PATH = '../../data/text mining/topics'"
   ]
  },
  {
   "cell_type": "code",
   "execution_count": 2,
   "id": "d162a87b-41ab-4cf3-86ca-ba9907558bb8",
   "metadata": {},
   "outputs": [],
   "source": [
    "import pandas as pd\n",
    "import glob, os\n",
    "import warnings\n",
    "warnings.filterwarnings('ignore')\n",
    "\n",
    "pd.set_option('display.max_colwidth', 700)"
   ]
  },
  {
   "cell_type": "code",
   "execution_count": 3,
   "id": "288f5f5e-f14a-420d-9d99-212af0942528",
   "metadata": {},
   "outputs": [
    {
     "data": {
      "text/html": [
       "<div>\n",
       "<style scoped>\n",
       "    .dataframe tbody tr th:only-of-type {\n",
       "        vertical-align: middle;\n",
       "    }\n",
       "\n",
       "    .dataframe tbody tr th {\n",
       "        vertical-align: top;\n",
       "    }\n",
       "\n",
       "    .dataframe thead th {\n",
       "        text-align: right;\n",
       "    }\n",
       "</style>\n",
       "<table border=\"1\" class=\"dataframe\">\n",
       "  <thead>\n",
       "    <tr style=\"text-align: right;\">\n",
       "      <th></th>\n",
       "      <th>filename</th>\n",
       "      <th>content</th>\n",
       "    </tr>\n",
       "  </thead>\n",
       "  <tbody>\n",
       "    <tr>\n",
       "      <th>0</th>\n",
       "      <td>topics\\accuracy_garmin_nuvi_255W_gps</td>\n",
       "      <td>, and is very, very accurate .\\n0                                                                                                                                                                           but for the most part, we find that the Garmin software provides accurate directions, whereever we intend to go .\\n1                                                                                                              This functi...</td>\n",
       "    </tr>\n",
       "    <tr>\n",
       "      <th>1</th>\n",
       "      <td>topics\\bathroom_bestwestern_hotel_sfo</td>\n",
       "      <td>The room was not overly big, but clean and very comfortable beds, a great shower and very clean bathrooms .\\n0                                                                                                                                                                                                                          The second room was smaller, with a very inconvenient bathroom layout, but at least it was quieter and we were able to sleep .\\n1 ...</td>\n",
       "    </tr>\n",
       "    <tr>\n",
       "      <th>2</th>\n",
       "      <td>topics\\battery-life_amazon_kindle</td>\n",
       "      <td>After I plugged it in to my USB hub on my computer to charge the battery the charging cord design is very clever !\\n0                                                                                                                                     After you have paged tru a 500, page book one, page, at, a, time to get from Chapter 2 to Chapter 15, see how excited you are about a low battery and all the time it took to get there !\\n1                                                     ...</td>\n",
       "    </tr>\n",
       "    <tr>\n",
       "      <th>3</th>\n",
       "      <td>topics\\battery-life_ipod_nano_8gb</td>\n",
       "      <td>short battery life  I moved up from an 8gb .\\n0                                                                                                                                                                                                                                                                                            I love this ipod except for the battery life .\\n1                             ...</td>\n",
       "    </tr>\n",
       "    <tr>\n",
       "      <th>4</th>\n",
       "      <td>topics\\battery-life_netbook_1005ha</td>\n",
       "      <td>6GHz 533FSB cpu, glossy display, 3, Cell 23Wh Li, ion Battery  , and a 1 .\\n0                                                                                                                                                                                                                                                                                              Not to mention that as of now...</td>\n",
       "    </tr>\n",
       "  </tbody>\n",
       "</table>\n",
       "</div>"
      ],
      "text/plain": [
       "                                filename  \\\n",
       "0   topics\\accuracy_garmin_nuvi_255W_gps   \n",
       "1  topics\\bathroom_bestwestern_hotel_sfo   \n",
       "2      topics\\battery-life_amazon_kindle   \n",
       "3      topics\\battery-life_ipod_nano_8gb   \n",
       "4     topics\\battery-life_netbook_1005ha   \n",
       "\n",
       "                                                                                                                                                                                                                                                                                                                                                                                                                                                                                                                                                                                                                                                                                                                       content  \n",
       "0                                                                                                                                                                                                                                                                 , and is very, very accurate .\\n0                                                                                                                                                                           but for the most part, we find that the Garmin software provides accurate directions, whereever we intend to go .\\n1                                                                                                              This functi...  \n",
       "1                                                                                                                                                                                                                                                The room was not overly big, but clean and very comfortable beds, a great shower and very clean bathrooms .\\n0                                                                                                                                                                                                                          The second room was smaller, with a very inconvenient bathroom layout, but at least it was quieter and we were able to sleep .\\n1 ...  \n",
       "2                                                                                                                                                                                                               After I plugged it in to my USB hub on my computer to charge the battery the charging cord design is very clever !\\n0                                                                                                                                     After you have paged tru a 500, page book one, page, at, a, time to get from Chapter 2 to Chapter 15, see how excited you are about a low battery and all the time it took to get there !\\n1                                                     ...  \n",
       "3                                                                                                                                                                                                                                                                                                 short battery life  I moved up from an 8gb .\\n0                                                                                                                                                                                                                                                                                            I love this ipod except for the battery life .\\n1                             ...  \n",
       "4                                                                                                                                                                                                                                                                                                                  6GHz 533FSB cpu, glossy display, 3, Cell 23Wh Li, ion Battery  , and a 1 .\\n0                                                                                                                                                                                                                                                                                              Not to mention that as of now...  "
      ]
     },
     "execution_count": 3,
     "metadata": {},
     "output_type": "execute_result"
    }
   ],
   "source": [
    "# glob을 활용해 데이터 디렉토리 내에 있는 .data 파일 불러오기\n",
    "all_files = glob.glob(os.path.join(DATA_PATH, \"*.data\"))\n",
    "\n",
    "# 파일 이름\n",
    "file_names = []\n",
    "\n",
    "# 내용\n",
    "contents = []\n",
    "\n",
    "for data_file in all_files:\n",
    "\n",
    "  temp_df = pd.read_table(data_file, index_col=None, header=0, encoding='latin1')\n",
    "\n",
    "  # 파일명 가져오기\n",
    "  file_name = data_file.split(\"/\")[-1]\n",
    "  file_name = file_name.split(\".\")[0]\n",
    "\n",
    "  # 파일명 리스트와 내용 리스트에 각각 내용을 저장\n",
    "  file_names.append(file_name)\n",
    "  contents.append(temp_df.to_string())\n",
    "\n",
    "doc_df = pd.DataFrame({\"filename\" : file_names, \"content\": contents})\n",
    "doc_df.head()"
   ]
  },
  {
   "cell_type": "markdown",
   "id": "a55a992b-9a87-439d-a319-51431bcd781a",
   "metadata": {},
   "source": [
    "문서의 주제\n",
    "- 호텔\n",
    "- 자동차\n",
    "- IT기기"
   ]
  },
  {
   "cell_type": "markdown",
   "id": "5ba37b6d-1d75-4c71-af64-dbc5d024fe5d",
   "metadata": {},
   "source": [
    "## 전처리"
   ]
  },
  {
   "cell_type": "code",
   "execution_count": 5,
   "id": "7831bb4a-2912-475c-8ad2-d31b333ff1e4",
   "metadata": {},
   "outputs": [],
   "source": [
    "import spacy\n",
    "\n",
    "nlp = spacy.load(\"en_core_web_sm\")"
   ]
  },
  {
   "cell_type": "code",
   "execution_count": 7,
   "id": "1790f1c5-da2d-4308-ba8c-fc692c192b2f",
   "metadata": {},
   "outputs": [],
   "source": [
    "# 사용자 지정 tokenizer 정의\n",
    "# 문장 하나에 대한 토큰화 처리 로직\n",
    "def my_tokenizer(text):\n",
    "    doc = nlp(text)\n",
    "    return [token.lemma_ for token in doc if not token.is_punct and not token.is_stop]"
   ]
  },
  {
   "cell_type": "markdown",
   "id": "f64523d7-8572-4243-9405-9a5f0b29003c",
   "metadata": {},
   "source": [
    "## TfidfVectorizer"
   ]
  },
  {
   "cell_type": "code",
   "execution_count": 9,
   "id": "21e7369b-8cab-423b-9e09-2136059c8aeb",
   "metadata": {},
   "outputs": [
    {
     "data": {
      "text/plain": [
       "<51x5475 sparse matrix of type '<class 'numpy.float64'>'\n",
       "\twith 40076 stored elements in Compressed Sparse Row format>"
      ]
     },
     "execution_count": 9,
     "metadata": {},
     "output_type": "execute_result"
    }
   ],
   "source": [
    "from sklearn.feature_extraction.text import TfidfVectorizer\n",
    "\n",
    "tfidf_vectorizer = TfidfVectorizer(\n",
    "    tokenizer=my_tokenizer, # tfidf 에게 커스텀 토크나이저를 사용하도록 설정\n",
    "    ngram_range=(1,2),\n",
    "    min_df=0.05, # 단어의 등장 빈도에 대한 필터링\n",
    "    max_df=0.95\n",
    ")\n",
    "\n",
    "feature_vector = tfidf_vectorizer.fit_transform(doc_df['content'])\n",
    "feature_vector"
   ]
  },
  {
   "cell_type": "code",
   "execution_count": 10,
   "id": "0b30a68c-e044-401c-b8e2-ddaa1ebaa7f4",
   "metadata": {},
   "outputs": [
    {
     "data": {
      "text/html": [
       "<style>#sk-container-id-1 {color: black;}#sk-container-id-1 pre{padding: 0;}#sk-container-id-1 div.sk-toggleable {background-color: white;}#sk-container-id-1 label.sk-toggleable__label {cursor: pointer;display: block;width: 100%;margin-bottom: 0;padding: 0.3em;box-sizing: border-box;text-align: center;}#sk-container-id-1 label.sk-toggleable__label-arrow:before {content: \"▸\";float: left;margin-right: 0.25em;color: #696969;}#sk-container-id-1 label.sk-toggleable__label-arrow:hover:before {color: black;}#sk-container-id-1 div.sk-estimator:hover label.sk-toggleable__label-arrow:before {color: black;}#sk-container-id-1 div.sk-toggleable__content {max-height: 0;max-width: 0;overflow: hidden;text-align: left;background-color: #f0f8ff;}#sk-container-id-1 div.sk-toggleable__content pre {margin: 0.2em;color: black;border-radius: 0.25em;background-color: #f0f8ff;}#sk-container-id-1 input.sk-toggleable__control:checked~div.sk-toggleable__content {max-height: 200px;max-width: 100%;overflow: auto;}#sk-container-id-1 input.sk-toggleable__control:checked~label.sk-toggleable__label-arrow:before {content: \"▾\";}#sk-container-id-1 div.sk-estimator input.sk-toggleable__control:checked~label.sk-toggleable__label {background-color: #d4ebff;}#sk-container-id-1 div.sk-label input.sk-toggleable__control:checked~label.sk-toggleable__label {background-color: #d4ebff;}#sk-container-id-1 input.sk-hidden--visually {border: 0;clip: rect(1px 1px 1px 1px);clip: rect(1px, 1px, 1px, 1px);height: 1px;margin: -1px;overflow: hidden;padding: 0;position: absolute;width: 1px;}#sk-container-id-1 div.sk-estimator {font-family: monospace;background-color: #f0f8ff;border: 1px dotted black;border-radius: 0.25em;box-sizing: border-box;margin-bottom: 0.5em;}#sk-container-id-1 div.sk-estimator:hover {background-color: #d4ebff;}#sk-container-id-1 div.sk-parallel-item::after {content: \"\";width: 100%;border-bottom: 1px solid gray;flex-grow: 1;}#sk-container-id-1 div.sk-label:hover label.sk-toggleable__label {background-color: #d4ebff;}#sk-container-id-1 div.sk-serial::before {content: \"\";position: absolute;border-left: 1px solid gray;box-sizing: border-box;top: 0;bottom: 0;left: 50%;z-index: 0;}#sk-container-id-1 div.sk-serial {display: flex;flex-direction: column;align-items: center;background-color: white;padding-right: 0.2em;padding-left: 0.2em;position: relative;}#sk-container-id-1 div.sk-item {position: relative;z-index: 1;}#sk-container-id-1 div.sk-parallel {display: flex;align-items: stretch;justify-content: center;background-color: white;position: relative;}#sk-container-id-1 div.sk-item::before, #sk-container-id-1 div.sk-parallel-item::before {content: \"\";position: absolute;border-left: 1px solid gray;box-sizing: border-box;top: 0;bottom: 0;left: 50%;z-index: -1;}#sk-container-id-1 div.sk-parallel-item {display: flex;flex-direction: column;z-index: 1;position: relative;background-color: white;}#sk-container-id-1 div.sk-parallel-item:first-child::after {align-self: flex-end;width: 50%;}#sk-container-id-1 div.sk-parallel-item:last-child::after {align-self: flex-start;width: 50%;}#sk-container-id-1 div.sk-parallel-item:only-child::after {width: 0;}#sk-container-id-1 div.sk-dashed-wrapped {border: 1px dashed gray;margin: 0 0.4em 0.5em 0.4em;box-sizing: border-box;padding-bottom: 0.4em;background-color: white;}#sk-container-id-1 div.sk-label label {font-family: monospace;font-weight: bold;display: inline-block;line-height: 1.2em;}#sk-container-id-1 div.sk-label-container {text-align: center;}#sk-container-id-1 div.sk-container {/* jupyter's `normalize.less` sets `[hidden] { display: none; }` but bootstrap.min.css set `[hidden] { display: none !important; }` so we also need the `!important` here to be able to override the default hidden behavior on the sphinx rendered scikit-learn.org. See: https://github.com/scikit-learn/scikit-learn/issues/21755 */display: inline-block !important;position: relative;}#sk-container-id-1 div.sk-text-repr-fallback {display: none;}</style><div id=\"sk-container-id-1\" class=\"sk-top-container\"><div class=\"sk-text-repr-fallback\"><pre>KMeans(max_iter=10000, n_clusters=3, random_state=42)</pre><b>In a Jupyter environment, please rerun this cell to show the HTML representation or trust the notebook. <br />On GitHub, the HTML representation is unable to render, please try loading this page with nbviewer.org.</b></div><div class=\"sk-container\" hidden><div class=\"sk-item\"><div class=\"sk-estimator sk-toggleable\"><input class=\"sk-toggleable__control sk-hidden--visually\" id=\"sk-estimator-id-1\" type=\"checkbox\" checked><label for=\"sk-estimator-id-1\" class=\"sk-toggleable__label sk-toggleable__label-arrow\">KMeans</label><div class=\"sk-toggleable__content\"><pre>KMeans(max_iter=10000, n_clusters=3, random_state=42)</pre></div></div></div></div></div>"
      ],
      "text/plain": [
       "KMeans(max_iter=10000, n_clusters=3, random_state=42)"
      ]
     },
     "execution_count": 10,
     "metadata": {},
     "output_type": "execute_result"
    }
   ],
   "source": [
    "from sklearn.cluster import KMeans\n",
    "\n",
    "# 3개의 군집 생성 (주제가 3개인 것을 알고 있기 때문에)\n",
    "km_cluster = KMeans(n_clusters=3, max_iter=10000, random_state=42)\n",
    "km_cluster.fit(feature_vector)"
   ]
  },
  {
   "cell_type": "code",
   "execution_count": 11,
   "id": "0003ee82-110b-4aaa-bcf9-35acaa47d019",
   "metadata": {},
   "outputs": [
    {
     "data": {
      "text/plain": [
       "array([0, 2, 0, 0, 0, 0, 1, 1, 0, 0, 0, 0, 0, 2, 2, 2, 1, 1, 1, 0, 2, 2,\n",
       "       1, 0, 2, 1, 0, 2, 2, 1, 2, 2, 2, 0, 0, 0, 0, 1, 2, 2, 2, 0, 0, 0,\n",
       "       0, 2, 2, 1, 0, 0, 0])"
      ]
     },
     "execution_count": 11,
     "metadata": {},
     "output_type": "execute_result"
    }
   ],
   "source": [
    "# cluster 레이블 확인\n",
    "cluster_labels = km_cluster.labels_\n",
    "cluster_labels"
   ]
  },
  {
   "cell_type": "code",
   "execution_count": 12,
   "id": "2a7a2f6a-9b20-4f65-b575-55449cc3a694",
   "metadata": {},
   "outputs": [
    {
     "data": {
      "text/plain": [
       "array([[0.00122224, 0.00122224, 0.00122224, ..., 0.        , 0.00044467,\n",
       "        0.        ],\n",
       "       [0.00287498, 0.00287498, 0.00287498, ..., 0.        , 0.        ,\n",
       "        0.        ],\n",
       "       [0.0026872 , 0.0026872 , 0.0026872 , ..., 0.00168753, 0.00697576,\n",
       "        0.00135381]])"
      ]
     },
     "execution_count": 12,
     "metadata": {},
     "output_type": "execute_result"
    }
   ],
   "source": [
    "# centroid 확인\n",
    "# \"군집의 무게중심\" : 군집을 대표할 수 있는 지점\n",
    "cluster_centroids = km_cluster.cluster_centers_\n",
    "cluster_centroids # centroid 에서의 단어 중요도"
   ]
  },
  {
   "cell_type": "code",
   "execution_count": 13,
   "id": "83cc1666-4f1f-412c-b2e3-1c565d956999",
   "metadata": {},
   "outputs": [
    {
     "data": {
      "text/html": [
       "<div>\n",
       "<style scoped>\n",
       "    .dataframe tbody tr th:only-of-type {\n",
       "        vertical-align: middle;\n",
       "    }\n",
       "\n",
       "    .dataframe tbody tr th {\n",
       "        vertical-align: top;\n",
       "    }\n",
       "\n",
       "    .dataframe thead th {\n",
       "        text-align: right;\n",
       "    }\n",
       "</style>\n",
       "<table border=\"1\" class=\"dataframe\">\n",
       "  <thead>\n",
       "    <tr style=\"text-align: right;\">\n",
       "      <th></th>\n",
       "      <th>filename</th>\n",
       "      <th>content</th>\n",
       "      <th>cluster_label</th>\n",
       "    </tr>\n",
       "  </thead>\n",
       "  <tbody>\n",
       "    <tr>\n",
       "      <th>0</th>\n",
       "      <td>topics\\accuracy_garmin_nuvi_255W_gps</td>\n",
       "      <td>, and is very, very accurate .\\n0                                                                                                                                                                           but for the most part, we find that the Garmin software provides accurate directions, whereever we intend to go .\\n1                                                                                                              This functi...</td>\n",
       "      <td>0</td>\n",
       "    </tr>\n",
       "    <tr>\n",
       "      <th>48</th>\n",
       "      <td>topics\\updates_garmin_nuvi_255W_gps</td>\n",
       "      <td>Another thing to consider was that I paid $50 less for the 750 and it came with the FM transmitter cable and a USB cord to connect it to your computer for updates and downloads .\\n0                                                                                                                                                                                                update and reroute much _more_ quickly than my other GPS   .\\n1                                                                                                       UPDATE ON THIS ,  It finally turned out that to see the elevation contours at lowe...</td>\n",
       "      <td>0</td>\n",
       "    </tr>\n",
       "    <tr>\n",
       "      <th>44</th>\n",
       "      <td>topics\\speed_windows7</td>\n",
       "      <td>Windows 7 is quite simply faster, more stable, boots faster, goes to sleep faster, comes back from sleep faster, manages your files better and on top of that it's beautiful to look at and easy to use .\\n0                                                                                                                                                                                                                                           , faster about 20% to 30% faster at running applications than my Vista ,  seriously\\n1                                                     ...</td>\n",
       "      <td>0</td>\n",
       "    </tr>\n",
       "    <tr>\n",
       "      <th>43</th>\n",
       "      <td>topics\\speed_garmin_nuvi_255W_gps</td>\n",
       "      <td>Another feature on the 255w is a display of the posted speed limit on the road which you are currently on right above your current displayed speed .\\n0                                                                                                                                                                   I found myself not even looking at my car speedometer as I could easily see my current speed and the speed limit of my route at a glance .\\n1                                                                                       ...</td>\n",
       "      <td>0</td>\n",
       "    </tr>\n",
       "    <tr>\n",
       "      <th>42</th>\n",
       "      <td>topics\\sound_ipod_nano_8gb</td>\n",
       "      <td>headphone jack i got a clear case for it and it  i got a clear case for it and it like prvents me from being able to put the jack all the way in so the sound can b messsed up or i can get it in there and its playing well them go to move or something and it slides out .\\n0                                                                                                                                                                                                                 Picture and sound quality are excellent for this typ of devic .\\n1                                                                                                                                                 ...</td>\n",
       "      <td>0</td>\n",
       "    </tr>\n",
       "    <tr>\n",
       "      <th>41</th>\n",
       "      <td>topics\\size_asus_netbook_1005ha</td>\n",
       "      <td>A few other things I'd like to point out is that you must push the micro, sized right angle end of the ac adapter until it snaps in place or the battery may not charge .\\n0                                                                                                                                                                                                                                                                                                           The full size right shift k...</td>\n",
       "      <td>0</td>\n",
       "    </tr>\n",
       "    <tr>\n",
       "      <th>36</th>\n",
       "      <td>topics\\screen_netbook_1005ha</td>\n",
       "      <td>Keep in mind that once you get in a room full of light or step outdoors screen reflections could become annoying .\\n0                                                                                                                                                                                                                                                                                                       I've used mine outsi...</td>\n",
       "      <td>0</td>\n",
       "    </tr>\n",
       "    <tr>\n",
       "      <th>35</th>\n",
       "      <td>topics\\screen_ipod_nano_8gb</td>\n",
       "      <td>As always, the video screen is sharp and bright .\\n0                                                                                                                                                                                                        2, inch screen   and a glossy, polished aluminum finish that one CNET editor described as looking like a Christmas tree ornament .\\n1                             ...</td>\n",
       "      <td>0</td>\n",
       "    </tr>\n",
       "    <tr>\n",
       "      <th>34</th>\n",
       "      <td>topics\\screen_garmin_nuvi_255W_gps</td>\n",
       "      <td>It is easy to read and when touching the screen it works great !\\n0                                                                                                                                                                    and zoom out   buttons on the 255w to the same side of the screen which makes it a bit easier .\\n1                                                                                                                                                                           ...</td>\n",
       "      <td>0</td>\n",
       "    </tr>\n",
       "    <tr>\n",
       "      <th>33</th>\n",
       "      <td>topics\\satellite_garmin_nuvi_255W_gps</td>\n",
       "      <td>It's fast to acquire satellites .\\n0    If you've ever had a  Brand X  GPS take you on some strange route that adds 20 minutes to your trip, has you turn the wrong way down a one way road, tell you to turn AFTER you've passed the street, frequently loses the satellite signal, or has old maps missing streets, you know how important this stuff is .\\n1                                                                 ...</td>\n",
       "      <td>0</td>\n",
       "    </tr>\n",
       "    <tr>\n",
       "      <th>26</th>\n",
       "      <td>topics\\performance_netbook_1005ha</td>\n",
       "      <td>The Eee Super Hybrid Engine utility lets users overclock or underclock their Eee PC's to boost performance or provide better battery life depending on their immediate requirements .\\n0                                                                                                                                                                                                                  In Super Performance mode CPU, Z shows the bus speed to increase up to 169 .\\n1                                                                                                                  One...</td>\n",
       "      <td>0</td>\n",
       "    </tr>\n",
       "    <tr>\n",
       "      <th>49</th>\n",
       "      <td>topics\\video_ipod_nano_8gb</td>\n",
       "      <td>I bought the 8, gig Ipod Nano that has the built, in video camera .\\n0                                                                                                                                                                                                                      Itunes has an on, line store, where you may purchase and download music and videos which will install onto the ipod .\\n1                           ...</td>\n",
       "      <td>0</td>\n",
       "    </tr>\n",
       "    <tr>\n",
       "      <th>23</th>\n",
       "      <td>topics\\navigation_amazon_kindle</td>\n",
       "      <td>In fact, the entire navigation structure has been completely revised ,  I'm still getting used to it but it's a huge step forward .\\n0                                                                                                                                                                                                                                                                 ...</td>\n",
       "      <td>0</td>\n",
       "    </tr>\n",
       "    <tr>\n",
       "      <th>19</th>\n",
       "      <td>topics\\keyboard_netbook_1005ha</td>\n",
       "      <td>,  I think the new keyboard rivals the great hp mini keyboards .\\n0                                                                                                                                 Since the battery life difference is minimum, the only reason to upgrade would be to get the better keyboard .\\n1                                                                                                                                                                                   The keyboard is now as good as t...</td>\n",
       "      <td>0</td>\n",
       "    </tr>\n",
       "    <tr>\n",
       "      <th>50</th>\n",
       "      <td>topics\\voice_garmin_nuvi_255W_gps</td>\n",
       "      <td>The voice prompts and maps are wonderful especially when driving after dark .\\n0                                                                                                                                                                               I also thought the the voice prompts of the 750 where more pleasant sounding than the 255w's .\\n1                                                                                                                                                       ...</td>\n",
       "      <td>0</td>\n",
       "    </tr>\n",
       "    <tr>\n",
       "      <th>10</th>\n",
       "      <td>topics\\eyesight-issues_amazon_kindle</td>\n",
       "      <td>It feels as easy to read as the K1 but doesn't seem any crisper to my eyes   .\\n0                                                                                                                                                            the white is really GREY, and to avoid considerable eye, strain I had to refresh pages   every other page .\\n1                                    The dream has always been a portable electronic device that could hold a ton of reading material, automate subscriptions and fa...</td>\n",
       "      <td>0</td>\n",
       "    </tr>\n",
       "    <tr>\n",
       "      <th>8</th>\n",
       "      <td>topics\\directions_garmin_nuvi_255W_gps</td>\n",
       "      <td>You also get upscale features like spoken directions including street names and programmable POIs .\\n0                                                                                                                                                                                                                                                                                                I used to hesitate to go out of my directions but no...</td>\n",
       "      <td>0</td>\n",
       "    </tr>\n",
       "    <tr>\n",
       "      <th>9</th>\n",
       "      <td>topics\\display_garmin_nuvi_255W_gps</td>\n",
       "      <td>3 quot  widescreen display was a bonus .\\n0                                                                                                                                           This made for smoother graphics on the 255w of the vehicle moving along displayed roads, where the 750's display was more of a  jerky  movement .\\n1                                                                                                                         ...</td>\n",
       "      <td>0</td>\n",
       "    </tr>\n",
       "    <tr>\n",
       "      <th>5</th>\n",
       "      <td>topics\\buttons_amazon_kindle</td>\n",
       "      <td>I thought it would be fitting to christen my Kindle with the Stephen King novella UR, so went to the Amazon site on my computer and clicked on the button to buy it .\\n0                                                                                                                                                                                                            As soon as I'd clicked the button to confirm my order it appeared on my Kindle almost immediately !\\n1                                                                                   ...</td>\n",
       "      <td>0</td>\n",
       "    </tr>\n",
       "    <tr>\n",
       "      <th>4</th>\n",
       "      <td>topics\\battery-life_netbook_1005ha</td>\n",
       "      <td>6GHz 533FSB cpu, glossy display, 3, Cell 23Wh Li, ion Battery  , and a 1 .\\n0                                                                                                                                                                                                                                                                                              Not to mention that as of now...</td>\n",
       "      <td>0</td>\n",
       "    </tr>\n",
       "    <tr>\n",
       "      <th>12</th>\n",
       "      <td>topics\\fonts_amazon_kindle</td>\n",
       "      <td>Being able to change the font sizes is awesome !\\n0                                                                                                                                                                                                                                                                        For whatever reason, Amazon decided to make the Font on the Home Screen   ...</td>\n",
       "      <td>0</td>\n",
       "    </tr>\n",
       "    <tr>\n",
       "      <th>3</th>\n",
       "      <td>topics\\battery-life_ipod_nano_8gb</td>\n",
       "      <td>short battery life  I moved up from an 8gb .\\n0                                                                                                                                                                                                                                                                                            I love this ipod except for the battery life .\\n1                             ...</td>\n",
       "      <td>0</td>\n",
       "    </tr>\n",
       "    <tr>\n",
       "      <th>11</th>\n",
       "      <td>topics\\features_windows7</td>\n",
       "      <td>I had to uninstall anti, virus and selected other programs, some of which did not have listings in the  Programs and Features  Control Panel section .\\n0                                                                                                                                                                                                                           This review briefly touches upon some of the key features and enhancements of Microsoft's latest OS .\\n1                                                 ...</td>\n",
       "      <td>0</td>\n",
       "    </tr>\n",
       "    <tr>\n",
       "      <th>2</th>\n",
       "      <td>topics\\battery-life_amazon_kindle</td>\n",
       "      <td>After I plugged it in to my USB hub on my computer to charge the battery the charging cord design is very clever !\\n0                                                                                                                                     After you have paged tru a 500, page book one, page, at, a, time to get from Chapter 2 to Chapter 15, see how excited you are about a low battery and all the time it took to get there !\\n1                                                     ...</td>\n",
       "      <td>0</td>\n",
       "    </tr>\n",
       "    <tr>\n",
       "      <th>6</th>\n",
       "      <td>topics\\comfort_honda_accord_2008</td>\n",
       "      <td>Drivers seat not comfortable, the car itself compared to other models of similar class .\\n0                                                                                                                                                                                                                               ...</td>\n",
       "      <td>1</td>\n",
       "    </tr>\n",
       "    <tr>\n",
       "      <th>7</th>\n",
       "      <td>topics\\comfort_toyota_camry_2007</td>\n",
       "      <td>Ride seems comfortable and gas mileage fairly good averaging 26 city and 30 open road .\\n0                                                                                                        Seats are fine, in fact of all the smaller sedans this is the most comfortable I found for the price as I am 6', 2  and 250# .\\n1                                                                                                                                                                                     Great gas mileage and comfortable on long trips ...</td>\n",
       "      <td>1</td>\n",
       "    </tr>\n",
       "    <tr>\n",
       "      <th>29</th>\n",
       "      <td>topics\\quality_toyota_camry_2007</td>\n",
       "      <td>I previously owned a Toyota 4Runner which had incredible build quality and reliability .\\n0                                                                                                                                                                                                                                                                                               I bought the Camry because of Toyota reliability and qua...</td>\n",
       "      <td>1</td>\n",
       "    </tr>\n",
       "    <tr>\n",
       "      <th>25</th>\n",
       "      <td>topics\\performance_honda_accord_2008</td>\n",
       "      <td>Very happy with my 08 Accord, performance is quite adequate it has nice looks and is a great long,  distance cruiser .\\n0                                                                                                                                 6, 4, 3 eco engine has poor performance and gas mileage of 22 highway .\\n1                                                                                                                                                 Overall performance is good but comfort level is poor .\\n2                                                                                      ...</td>\n",
       "      <td>1</td>\n",
       "    </tr>\n",
       "    <tr>\n",
       "      <th>22</th>\n",
       "      <td>topics\\mileage_honda_accord_2008</td>\n",
       "      <td>It's quiet, get good gas mileage and looks clean inside and out .\\n0                                                                                                                                                                     The mileage is great, and I've had to get used to stopping less for gas .\\n1                                                                                                                                                                                                         Thought gas ...</td>\n",
       "      <td>1</td>\n",
       "    </tr>\n",
       "    <tr>\n",
       "      <th>47</th>\n",
       "      <td>topics\\transmission_toyota_camry_2007</td>\n",
       "      <td>After slowing down, transmission has to be  kicked  to speed up .\\n0                                                                                                                                                                                                                                                                       ...</td>\n",
       "      <td>1</td>\n",
       "    </tr>\n",
       "    <tr>\n",
       "      <th>18</th>\n",
       "      <td>topics\\interior_toyota_camry_2007</td>\n",
       "      <td>First of all, the interior has way too many cheap plastic parts like the cheap plastic center piece that houses the clock .\\n0                                                                                                                                                                       3 blown struts at 30,000 miles, interior trim coming loose and rattling squeaking, stains on paint, and bug splats taking paint off, premature uneven brake wear, on 3rd windsh...</td>\n",
       "      <td>1</td>\n",
       "    </tr>\n",
       "    <tr>\n",
       "      <th>17</th>\n",
       "      <td>topics\\interior_honda_accord_2008</td>\n",
       "      <td>I love the new body style and the interior is a simple pleasure except for the center dash .\\n0                                                                                                                                              ...</td>\n",
       "      <td>1</td>\n",
       "    </tr>\n",
       "    <tr>\n",
       "      <th>16</th>\n",
       "      <td>topics\\gas_mileage_toyota_camry_2007</td>\n",
       "      <td>Ride seems comfortable and gas mileage fairly good averaging 26 city and 30 open road .\\n0                                                                                                                                                                                                                                                  ...</td>\n",
       "      <td>1</td>\n",
       "    </tr>\n",
       "    <tr>\n",
       "      <th>37</th>\n",
       "      <td>topics\\seats_honda_accord_2008</td>\n",
       "      <td>Front seats are very uncomfortable .\\n0                                                                                                                                                                                                                                  No memory seats, no trip computer, can only display outside temp with trip odometer .\\n1                                                                   ...</td>\n",
       "      <td>1</td>\n",
       "    </tr>\n",
       "    <tr>\n",
       "      <th>45</th>\n",
       "      <td>topics\\staff_bestwestern_hotel_sfo</td>\n",
       "      <td>Staff are friendl...</td>\n",
       "      <td>2</td>\n",
       "    </tr>\n",
       "    <tr>\n",
       "      <th>46</th>\n",
       "      <td>topics\\staff_swissotel_chicago</td>\n",
       "      <td>The staff at Swissotel were not particularly nice .\\n0                                                                                                                                                               Each time I waited at the counter for staff   for several minutes and then was waved to the desk upon my turn with no hello or anything, or apology for waiting in line .\\n1                                 ...</td>\n",
       "      <td>2</td>\n",
       "    </tr>\n",
       "    <tr>\n",
       "      <th>40</th>\n",
       "      <td>topics\\service_swissotel_hotel_chicago</td>\n",
       "      <td>Mediocre room and service for a very extravagant price .\\n0                                                                                                                                                                                                                                                                                                             ...</td>\n",
       "      <td>2</td>\n",
       "    </tr>\n",
       "    <tr>\n",
       "      <th>1</th>\n",
       "      <td>topics\\bathroom_bestwestern_hotel_sfo</td>\n",
       "      <td>The room was not overly big, but clean and very comfortable beds, a great shower and very clean bathrooms .\\n0                                                                                                                                                                                                                          The second room was smaller, with a very inconvenient bathroom layout, but at least it was quieter and we were able to sleep .\\n1 ...</td>\n",
       "      <td>2</td>\n",
       "    </tr>\n",
       "    <tr>\n",
       "      <th>39</th>\n",
       "      <td>topics\\service_holiday_inn_london</td>\n",
       "      <td>not customer, oriented hotelvery low service levelboor reception\\n0                                                                                                                                                                                                                                                                    The room was quiet, clean, the bed and pillows were comfortable, and the serv...</td>\n",
       "      <td>2</td>\n",
       "    </tr>\n",
       "    <tr>\n",
       "      <th>15</th>\n",
       "      <td>topics\\free_bestwestern_hotel_sfo</td>\n",
       "      <td>The wine reception is a great idea as it is nice to meet other travellers and great having access to the free Internet access in our room .\\n0                                                                                      They also have a computer available with free internet which is a nice bonus but I didn't find that out till the day before we left but was still able to get on there to check our flight to Vegas the next day .\\n1                                                                                                 ...</td>\n",
       "      <td>2</td>\n",
       "    </tr>\n",
       "    <tr>\n",
       "      <th>14</th>\n",
       "      <td>topics\\food_swissotel_chicago</td>\n",
       "      <td>The food for our event was delicious .\\n0                                                                                                                                                                                                                                                                                                              ...</td>\n",
       "      <td>2</td>\n",
       "    </tr>\n",
       "    <tr>\n",
       "      <th>31</th>\n",
       "      <td>topics\\rooms_swissotel_chicago</td>\n",
       "      <td>The Swissotel is one of our favorite hotels in Chicago and the corner rooms have the most fantastic views in the city .\\n0                                                                                                                                   The rooms look like they were just remodled and upgraded, there was an HD TV and a nice iHome docking station to put my iPod so I could set the alarm to wake up with my music instead of the radio .\\n1                                 ...</td>\n",
       "      <td>2</td>\n",
       "    </tr>\n",
       "    <tr>\n",
       "      <th>30</th>\n",
       "      <td>topics\\rooms_bestwestern_hotel_sfo</td>\n",
       "      <td>Great Location ,  Nice   Rooms ,  H...</td>\n",
       "      <td>2</td>\n",
       "    </tr>\n",
       "    <tr>\n",
       "      <th>28</th>\n",
       "      <td>topics\\price_holiday_inn_london</td>\n",
       "      <td>All in all, a normal chain hotel on a nice location  , I will be back if I do not find anthing closer to Picadilly for a better price .\\n0                                                                                                                                                                                                                 ...</td>\n",
       "      <td>2</td>\n",
       "    </tr>\n",
       "    <tr>\n",
       "      <th>27</th>\n",
       "      <td>topics\\price_amazon_kindle</td>\n",
       "      <td>If a case was included, as with the Kindle 1, that would have been reflected in a higher price .\\n0                                                                                                                                                                                                                                                                                lower overall price, with nice leather cover .\\n1                                                     ...</td>\n",
       "      <td>2</td>\n",
       "    </tr>\n",
       "    <tr>\n",
       "      <th>24</th>\n",
       "      <td>topics\\parking_bestwestern_hotel_sfo</td>\n",
       "      <td>Parking was expensive but I think this is common for San Fran .\\n0                                                                                                                                                                                        there is a fee for parking but well worth it seeing no where to park if you do have a car .\\n1                                                                                                                                           ...</td>\n",
       "      <td>2</td>\n",
       "    </tr>\n",
       "    <tr>\n",
       "      <th>21</th>\n",
       "      <td>topics\\location_holiday_inn_london</td>\n",
       "      <td>Great location for tube and we crammed in a fair amount of sightseeing in a short time .\\n0                                                                                                                                                                                                                                                                All in all, a normal chain hotel on a nice lo...</td>\n",
       "      <td>2</td>\n",
       "    </tr>\n",
       "    <tr>\n",
       "      <th>20</th>\n",
       "      <td>topics\\location_bestwestern_hotel_sfo</td>\n",
       "      <td>Good Value good location ,  ideal choice .\\n0                                                                                                                                                                                                                                                                                          Great Location ,  Nice   Rooms ,  Helpless Concierge\\n1                     ...</td>\n",
       "      <td>2</td>\n",
       "    </tr>\n",
       "    <tr>\n",
       "      <th>13</th>\n",
       "      <td>topics\\food_holiday_inn_london</td>\n",
       "      <td>The room was packed to capacity with queues at the food buffets .\\n0                                                                                                                                                   The over zealous   staff cleared our unfinished drinks while we were collecting cooked food and movement around the room with plates was difficult in the crowded circumstances .\\n1                                         ...</td>\n",
       "      <td>2</td>\n",
       "    </tr>\n",
       "    <tr>\n",
       "      <th>38</th>\n",
       "      <td>topics\\service_bestwestern_hotel_sfo</td>\n",
       "      <td>Both of us having worked in tourism for over 14 years were very disappointed at the level of service provided by this gentleman .\\n0                                                                                                                                                                                              The service was good, very friendly staff and we loved the free wine reception each night .\\n1                                                                                                                               ...</td>\n",
       "      <td>2</td>\n",
       "    </tr>\n",
       "    <tr>\n",
       "      <th>32</th>\n",
       "      <td>topics\\room_holiday_inn_london</td>\n",
       "      <td>We arrived at 23,30 hours and they could not recommend a restaurant so we decided to go to Tesco, with very limited choices but when you are hingry you do not careNext day they rang the bell at 8,00 hours to clean the room, not being very nice being waken up so earlyEvery day they gave u...</td>\n",
       "      <td>2</td>\n",
       "    </tr>\n",
       "  </tbody>\n",
       "</table>\n",
       "</div>"
      ],
      "text/plain": [
       "                                  filename  \\\n",
       "0     topics\\accuracy_garmin_nuvi_255W_gps   \n",
       "48     topics\\updates_garmin_nuvi_255W_gps   \n",
       "44                   topics\\speed_windows7   \n",
       "43       topics\\speed_garmin_nuvi_255W_gps   \n",
       "42              topics\\sound_ipod_nano_8gb   \n",
       "41         topics\\size_asus_netbook_1005ha   \n",
       "36            topics\\screen_netbook_1005ha   \n",
       "35             topics\\screen_ipod_nano_8gb   \n",
       "34      topics\\screen_garmin_nuvi_255W_gps   \n",
       "33   topics\\satellite_garmin_nuvi_255W_gps   \n",
       "26       topics\\performance_netbook_1005ha   \n",
       "49              topics\\video_ipod_nano_8gb   \n",
       "23         topics\\navigation_amazon_kindle   \n",
       "19          topics\\keyboard_netbook_1005ha   \n",
       "50       topics\\voice_garmin_nuvi_255W_gps   \n",
       "10    topics\\eyesight-issues_amazon_kindle   \n",
       "8   topics\\directions_garmin_nuvi_255W_gps   \n",
       "9      topics\\display_garmin_nuvi_255W_gps   \n",
       "5             topics\\buttons_amazon_kindle   \n",
       "4       topics\\battery-life_netbook_1005ha   \n",
       "12              topics\\fonts_amazon_kindle   \n",
       "3        topics\\battery-life_ipod_nano_8gb   \n",
       "11                topics\\features_windows7   \n",
       "2        topics\\battery-life_amazon_kindle   \n",
       "6         topics\\comfort_honda_accord_2008   \n",
       "7         topics\\comfort_toyota_camry_2007   \n",
       "29        topics\\quality_toyota_camry_2007   \n",
       "25    topics\\performance_honda_accord_2008   \n",
       "22        topics\\mileage_honda_accord_2008   \n",
       "47   topics\\transmission_toyota_camry_2007   \n",
       "18       topics\\interior_toyota_camry_2007   \n",
       "17       topics\\interior_honda_accord_2008   \n",
       "16    topics\\gas_mileage_toyota_camry_2007   \n",
       "37          topics\\seats_honda_accord_2008   \n",
       "45      topics\\staff_bestwestern_hotel_sfo   \n",
       "46          topics\\staff_swissotel_chicago   \n",
       "40  topics\\service_swissotel_hotel_chicago   \n",
       "1    topics\\bathroom_bestwestern_hotel_sfo   \n",
       "39       topics\\service_holiday_inn_london   \n",
       "15       topics\\free_bestwestern_hotel_sfo   \n",
       "14           topics\\food_swissotel_chicago   \n",
       "31          topics\\rooms_swissotel_chicago   \n",
       "30      topics\\rooms_bestwestern_hotel_sfo   \n",
       "28         topics\\price_holiday_inn_london   \n",
       "27              topics\\price_amazon_kindle   \n",
       "24    topics\\parking_bestwestern_hotel_sfo   \n",
       "21      topics\\location_holiday_inn_london   \n",
       "20   topics\\location_bestwestern_hotel_sfo   \n",
       "13          topics\\food_holiday_inn_london   \n",
       "38    topics\\service_bestwestern_hotel_sfo   \n",
       "32          topics\\room_holiday_inn_london   \n",
       "\n",
       "                                                                                                                                                                                                                                                                                                                                                                                                                                                                                                                                                                                                                                                                                                                        content  \\\n",
       "0                                                                                                                                                                                                                                                                  , and is very, very accurate .\\n0                                                                                                                                                                           but for the most part, we find that the Garmin software provides accurate directions, whereever we intend to go .\\n1                                                                                                              This functi...   \n",
       "48                                                                             Another thing to consider was that I paid $50 less for the 750 and it came with the FM transmitter cable and a USB cord to connect it to your computer for updates and downloads .\\n0                                                                                                                                                                                                update and reroute much _more_ quickly than my other GPS   .\\n1                                                                                                       UPDATE ON THIS ,  It finally turned out that to see the elevation contours at lowe...   \n",
       "44                                                                                                                        Windows 7 is quite simply faster, more stable, boots faster, goes to sleep faster, comes back from sleep faster, manages your files better and on top of that it's beautiful to look at and easy to use .\\n0                                                                                                                                                                                                                                           , faster about 20% to 30% faster at running applications than my Vista ,  seriously\\n1                                                     ...   \n",
       "43                                                                                                                                                            Another feature on the 255w is a display of the posted speed limit on the road which you are currently on right above your current displayed speed .\\n0                                                                                                                                                                   I found myself not even looking at my car speedometer as I could easily see my current speed and the speed limit of my route at a glance .\\n1                                                                                       ...   \n",
       "42      headphone jack i got a clear case for it and it  i got a clear case for it and it like prvents me from being able to put the jack all the way in so the sound can b messsed up or i can get it in there and its playing well them go to move or something and it slides out .\\n0                                                                                                                                                                                                                 Picture and sound quality are excellent for this typ of devic .\\n1                                                                                                                                                 ...   \n",
       "41                                                                                                                                                                                                        A few other things I'd like to point out is that you must push the micro, sized right angle end of the ac adapter until it snaps in place or the battery may not charge .\\n0                                                                                                                                                                                                                                                                                                           The full size right shift k...   \n",
       "36                                                                                                                                                                                                                                                                          Keep in mind that once you get in a room full of light or step outdoors screen reflections could become annoying .\\n0                                                                                                                                                                                                                                                                                                       I've used mine outsi...   \n",
       "35                                                                                                                                                                                                                                                                                            As always, the video screen is sharp and bright .\\n0                                                                                                                                                                                                        2, inch screen   and a glossy, polished aluminum finish that one CNET editor described as looking like a Christmas tree ornament .\\n1                             ...   \n",
       "34                                                                                                                                                                                                      It is easy to read and when touching the screen it works great !\\n0                                                                                                                                                                    and zoom out   buttons on the 255w to the same side of the screen which makes it a bit easier .\\n1                                                                                                                                                                           ...   \n",
       "33                                                                                                                                                                                                                                                                                          It's fast to acquire satellites .\\n0    If you've ever had a  Brand X  GPS take you on some strange route that adds 20 minutes to your trip, has you turn the wrong way down a one way road, tell you to turn AFTER you've passed the street, frequently loses the satellite signal, or has old maps missing streets, you know how important this stuff is .\\n1                                                                 ...   \n",
       "26                                                                                                            The Eee Super Hybrid Engine utility lets users overclock or underclock their Eee PC's to boost performance or provide better battery life depending on their immediate requirements .\\n0                                                                                                                                                                                                                  In Super Performance mode CPU, Z shows the bus speed to increase up to 169 .\\n1                                                                                                                  One...   \n",
       "49                                                                                                                                                                                                                                                                           I bought the 8, gig Ipod Nano that has the built, in video camera .\\n0                                                                                                                                                                                                                      Itunes has an on, line store, where you may purchase and download music and videos which will install onto the ipod .\\n1                           ...   \n",
       "23                                                                                                                                                                                                                                                                                                                   In fact, the entire navigation structure has been completely revised ,  I'm still getting used to it but it's a huge step forward .\\n0                                                                                                                                                                                                                                                                 ...   \n",
       "19                                                                                                                                                                                  ,  I think the new keyboard rivals the great hp mini keyboards .\\n0                                                                                                                                 Since the battery life difference is minimum, the only reason to upgrade would be to get the better keyboard .\\n1                                                                                                                                                                                   The keyboard is now as good as t...   \n",
       "50                                                                                                                                                                                                   The voice prompts and maps are wonderful especially when driving after dark .\\n0                                                                                                                                                                               I also thought the the voice prompts of the 750 where more pleasant sounding than the 255w's .\\n1                                                                                                                                                       ...   \n",
       "10                                                                                                                                                                                            It feels as easy to read as the K1 but doesn't seem any crisper to my eyes   .\\n0                                                                                                                                                            the white is really GREY, and to avoid considerable eye, strain I had to refresh pages   every other page .\\n1                                    The dream has always been a portable electronic device that could hold a ton of reading material, automate subscriptions and fa...   \n",
       "8                                                                                                                                                                                                                                                                 You also get upscale features like spoken directions including street names and programmable POIs .\\n0                                                                                                                                                                                                                                                                                                I used to hesitate to go out of my directions but no...   \n",
       "9                                                                                                                                                                                                                                                        3 quot  widescreen display was a bonus .\\n0                                                                                                                                           This made for smoother graphics on the 255w of the vehicle moving along displayed roads, where the 750's display was more of a  jerky  movement .\\n1                                                                                                                         ...   \n",
       "5                                                                                                                                              I thought it would be fitting to christen my Kindle with the Stephen King novella UR, so went to the Amazon site on my computer and clicked on the button to buy it .\\n0                                                                                                                                                                                                            As soon as I'd clicked the button to confirm my order it appeared on my Kindle almost immediately !\\n1                                                                                   ...   \n",
       "4                                                                                                                                                                                                                                                                                                                   6GHz 533FSB cpu, glossy display, 3, Cell 23Wh Li, ion Battery  , and a 1 .\\n0                                                                                                                                                                                                                                                                                              Not to mention that as of now...   \n",
       "12                                                                                                                                                                                                                                                                                                                     Being able to change the font sizes is awesome !\\n0                                                                                                                                                                                                                                                                        For whatever reason, Amazon decided to make the Font on the Home Screen   ...   \n",
       "3                                                                                                                                                                                                                                                                                                  short battery life  I moved up from an 8gb .\\n0                                                                                                                                                                                                                                                                                            I love this ipod except for the battery life .\\n1                             ...   \n",
       "11                                                                                                                                                                             I had to uninstall anti, virus and selected other programs, some of which did not have listings in the  Programs and Features  Control Panel section .\\n0                                                                                                                                                                                                                           This review briefly touches upon some of the key features and enhancements of Microsoft's latest OS .\\n1                                                 ...   \n",
       "2                                                                                                                                                                                                                After I plugged it in to my USB hub on my computer to charge the battery the charging cord design is very clever !\\n0                                                                                                                                     After you have paged tru a 500, page book one, page, at, a, time to get from Chapter 2 to Chapter 15, see how excited you are about a low battery and all the time it took to get there !\\n1                                                     ...   \n",
       "6                                                                                                                                                                                                                                                                                                                                                                                                 Drivers seat not comfortable, the car itself compared to other models of similar class .\\n0                                                                                                                                                                                                                               ...   \n",
       "7                                                                                                                                                   Ride seems comfortable and gas mileage fairly good averaging 26 city and 30 open road .\\n0                                                                                                        Seats are fine, in fact of all the smaller sedans this is the most comfortable I found for the price as I am 6', 2  and 250# .\\n1                                                                                                                                                                                     Great gas mileage and comfortable on long trips ...   \n",
       "29                                                                                                                                                                                                                                                                        I previously owned a Toyota 4Runner which had incredible build quality and reliability .\\n0                                                                                                                                                                                                                                                                                               I bought the Camry because of Toyota reliability and qua...   \n",
       "25                                                                                     Very happy with my 08 Accord, performance is quite adequate it has nice looks and is a great long,  distance cruiser .\\n0                                                                                                                                 6, 4, 3 eco engine has poor performance and gas mileage of 22 highway .\\n1                                                                                                                                                 Overall performance is good but comfort level is poor .\\n2                                                                                      ...   \n",
       "22                                                                                                                                                                                It's quiet, get good gas mileage and looks clean inside and out .\\n0                                                                                                                                                                     The mileage is great, and I've had to get used to stopping less for gas .\\n1                                                                                                                                                                                                         Thought gas ...   \n",
       "47                                                                                                                                                                                                                                                                                                                                                                               After slowing down, transmission has to be  kicked  to speed up .\\n0                                                                                                                                                                                                                                                                       ...   \n",
       "18                                                                                                                                                                                                                                      First of all, the interior has way too many cheap plastic parts like the cheap plastic center piece that houses the clock .\\n0                                                                                                                                                                       3 blown struts at 30,000 miles, interior trim coming loose and rattling squeaking, stains on paint, and bug splats taking paint off, premature uneven brake wear, on 3rd windsh...   \n",
       "17                                                                                                                                                                                                                                                                                                                                                                                                                                                                             I love the new body style and the interior is a simple pleasure except for the center dash .\\n0                                                                                                                                              ...   \n",
       "16                                                                                                                                                                                                                                                                                                                                                                              Ride seems comfortable and gas mileage fairly good averaging 26 city and 30 open road .\\n0                                                                                                                                                                                                                                                  ...   \n",
       "37                                                                                                                                                                                                                                                                                      Front seats are very uncomfortable .\\n0                                                                                                                                                                                                                                  No memory seats, no trip computer, can only display outside temp with trip odometer .\\n1                                                                   ...   \n",
       "45                                                                                                                                                                                                                                                                                                                                                                                                                                                                                                                                                                                                                                                                                                         Staff are friendl...   \n",
       "46                                                                                                                                                                                                                                                                                        The staff at Swissotel were not particularly nice .\\n0                                                                                                                                                               Each time I waited at the counter for staff   for several minutes and then was waved to the desk upon my turn with no hello or anything, or apology for waiting in line .\\n1                                 ...   \n",
       "40                                                                                                                                                                                                                                                                                                                                                  Mediocre room and service for a very extravagant price .\\n0                                                                                                                                                                                                                                                                                                             ...   \n",
       "1                                                                                                                                                                                                                                                 The room was not overly big, but clean and very comfortable beds, a great shower and very clean bathrooms .\\n0                                                                                                                                                                                                                          The second room was smaller, with a very inconvenient bathroom layout, but at least it was quieter and we were able to sleep .\\n1 ...   \n",
       "39                                                                                                                                                                                                                                                                                                      not customer, oriented hotelvery low service levelboor reception\\n0                                                                                                                                                                                                                                                                    The room was quiet, clean, the bed and pillows were comfortable, and the serv...   \n",
       "15                                                                                                                                                                The wine reception is a great idea as it is nice to meet other travellers and great having access to the free Internet access in our room .\\n0                                                                                      They also have a computer available with free internet which is a nice bonus but I didn't find that out till the day before we left but was still able to get on there to check our flight to Vegas the next day .\\n1                                                                                                 ...   \n",
       "14                                                                                                                                                                                                                                                                                                                                                                   The food for our event was delicious .\\n0                                                                                                                                                                                                                                                                                                              ...   \n",
       "31                                                                                                                                                                                                                    The Swissotel is one of our favorite hotels in Chicago and the corner rooms have the most fantastic views in the city .\\n0                                                                                                                                   The rooms look like they were just remodled and upgraded, there was an HD TV and a nice iHome docking station to put my iPod so I could set the alarm to wake up with my music instead of the radio .\\n1                                 ...   \n",
       "30                                                                                                                                                                                                                                                                                                                                                                                                                                                                                                                                                                                                                                                                                       Great Location ,  Nice   Rooms ,  H...   \n",
       "28                                                                                                                                                                                                                                                                                                                                                               All in all, a normal chain hotel on a nice location  , I will be back if I do not find anthing closer to Picadilly for a better price .\\n0                                                                                                                                                                                                                 ...   \n",
       "27                                                                                                                                                                                                                                 If a case was included, as with the Kindle 1, that would have been reflected in a higher price .\\n0                                                                                                                                                                                                                                                                                lower overall price, with nice leather cover .\\n1                                                     ...   \n",
       "24                                                                                                                                                                                                                       Parking was expensive but I think this is common for San Fran .\\n0                                                                                                                                                                                        there is a fee for parking but well worth it seeing no where to park if you do have a car .\\n1                                                                                                                                           ...   \n",
       "21                                                                                                                                                                                                                                                                                                                  Great location for tube and we crammed in a fair amount of sightseeing in a short time .\\n0                                                                                                                                                                                                                                                                All in all, a normal chain hotel on a nice lo...   \n",
       "20                                                                                                                                                                                                                                                                                                       Good Value good location ,  ideal choice .\\n0                                                                                                                                                                                                                                                                                          Great Location ,  Nice   Rooms ,  Helpless Concierge\\n1                     ...   \n",
       "13                                                                                                                                                                                                                                                                      The room was packed to capacity with queues at the food buffets .\\n0                                                                                                                                                   The over zealous   staff cleared our unfinished drinks while we were collecting cooked food and movement around the room with plates was difficult in the crowded circumstances .\\n1                                         ...   \n",
       "38                                                                                                                                                           Both of us having worked in tourism for over 14 years were very disappointed at the level of service provided by this gentleman .\\n0                                                                                                                                                                                              The service was good, very friendly staff and we loved the free wine reception each night .\\n1                                                                                                                               ...   \n",
       "32                                                                                                                                                                                                                                                                                                                                                                                                                          We arrived at 23,30 hours and they could not recommend a restaurant so we decided to go to Tesco, with very limited choices but when you are hingry you do not careNext day they rang the bell at 8,00 hours to clean the room, not being very nice being waken up so earlyEvery day they gave u...   \n",
       "\n",
       "    cluster_label  \n",
       "0               0  \n",
       "48              0  \n",
       "44              0  \n",
       "43              0  \n",
       "42              0  \n",
       "41              0  \n",
       "36              0  \n",
       "35              0  \n",
       "34              0  \n",
       "33              0  \n",
       "26              0  \n",
       "49              0  \n",
       "23              0  \n",
       "19              0  \n",
       "50              0  \n",
       "10              0  \n",
       "8               0  \n",
       "9               0  \n",
       "5               0  \n",
       "4               0  \n",
       "12              0  \n",
       "3               0  \n",
       "11              0  \n",
       "2               0  \n",
       "6               1  \n",
       "7               1  \n",
       "29              1  \n",
       "25              1  \n",
       "22              1  \n",
       "47              1  \n",
       "18              1  \n",
       "17              1  \n",
       "16              1  \n",
       "37              1  \n",
       "45              2  \n",
       "46              2  \n",
       "40              2  \n",
       "1               2  \n",
       "39              2  \n",
       "15              2  \n",
       "14              2  \n",
       "31              2  \n",
       "30              2  \n",
       "28              2  \n",
       "27              2  \n",
       "24              2  \n",
       "21              2  \n",
       "20              2  \n",
       "13              2  \n",
       "38              2  \n",
       "32              2  "
      ]
     },
     "execution_count": 13,
     "metadata": {},
     "output_type": "execute_result"
    }
   ],
   "source": [
    "doc_df['cluster_label'] = cluster_labels\n",
    "doc_df.sort_values(by='cluster_label')"
   ]
  },
  {
   "cell_type": "markdown",
   "id": "be6068b9-ff83-4246-ba22-9772fbd04534",
   "metadata": {},
   "source": [
    "* 군집 별로 대체적으로 같은 주제들이 모였다"
   ]
  },
  {
   "cell_type": "markdown",
   "id": "af609352-e86f-4224-b0e4-69af9a942ccf",
   "metadata": {},
   "source": [
    "## 군집 별 핵심 단어 추출\n",
    "* cluster 의 centroid 에서 tf-idf 가 가장 높은 단어 추출\n",
    "* **행렬이 어떻게 변화하는지 생각**"
   ]
  },
  {
   "cell_type": "code",
   "execution_count": 17,
   "id": "b9285843-fa6c-4523-b1ae-d3deed22c675",
   "metadata": {},
   "outputs": [],
   "source": [
    "# cluster_model : 군집 모델\n",
    "# cluster_data : 데이터 프레임\n",
    "# feature_names : 단어 목록\n",
    "# cluster_num : 클러스터 개수\n",
    "# top_n_features : 대표 단어 몇 개를 볼 것인지 결정\n",
    "\n",
    "def get_cluster_details(cluster_model, cluster_data, feature_names, cluster_num, top_n_features=10):\n",
    "    # top N feature, 파일 이름. feature tf-idf 값\n",
    "    cluster_details = {}\n",
    "\n",
    "    # cluster 의 centroid 좌표 추출\n",
    "    cluster_centroid = cluster_model.cluster_centers_\n",
    "\n",
    "    # centroid 좌표의 가장 큰 값이 그 군집의 핵심 단어가 된다고 볼 수 있다\n",
    "    # argsort : 배열의 요소를 정렬한 후, 정렬된 배열의 원래 인덱스를 반환\n",
    "    center_features = cluster_centroid.argsort()[:, ::-1] # axis=1 방향에서 모두 가져오되, 내림차순 정렬로 reverse\n",
    "\n",
    "    # 각 군집별 순환을 통해 핵심 단어와 feature 값 (tf-idf 값), 각 군집에 속한 파일 이름 추출\n",
    "    for c_num in range(cluster_num):\n",
    "        # 군집 별 데이터를 담을 준비\n",
    "        cluster_details[c_num] = {}\n",
    "        cluster_details[c_num]['cluster'] = c_num # 클러스터 번호 담기\n",
    "        # 핵심 단어 목록 담기 (top n개)\n",
    "        top_n_feature_indexes = center_features[c_num, :top_n_features]\n",
    "        top_features = [feature_names[idx] for idx in top_n_feature_indexes]\n",
    "        cluster_details[c_num]['top_features'] = top_features\n",
    "        # 핵심이 되는 단어들의 tf-idf 값\n",
    "        top_n_feature_values = cluster_centroid[c_num, top_n_feature_indexes].tolist()\n",
    "        cluster_details[c_num]['top_feature_value'] = top_n_feature_values\n",
    "        # 군집에 포함된 파일명 담기\n",
    "        file_names = cluster_data[cluster_data['cluster_label'] == c_num]['filename']\n",
    "        file_names = file_names.tolist()\n",
    "\n",
    "        cluster_details[c_num]['filenames'] = file_names\n",
    "\n",
    "    return cluster_details"
   ]
  },
  {
   "cell_type": "code",
   "execution_count": 18,
   "id": "f68b1949-c8ba-4745-a5eb-0cdf1195f0be",
   "metadata": {},
   "outputs": [
    {
     "data": {
      "text/html": [
       "<div>\n",
       "<style scoped>\n",
       "    .dataframe tbody tr th:only-of-type {\n",
       "        vertical-align: middle;\n",
       "    }\n",
       "\n",
       "    .dataframe tbody tr th {\n",
       "        vertical-align: top;\n",
       "    }\n",
       "\n",
       "    .dataframe thead th {\n",
       "        text-align: right;\n",
       "    }\n",
       "</style>\n",
       "<table border=\"1\" class=\"dataframe\">\n",
       "  <thead>\n",
       "    <tr style=\"text-align: right;\">\n",
       "      <th></th>\n",
       "      <th>0</th>\n",
       "      <th>1</th>\n",
       "      <th>2</th>\n",
       "    </tr>\n",
       "  </thead>\n",
       "  <tbody>\n",
       "    <tr>\n",
       "      <th>cluster</th>\n",
       "      <td>0</td>\n",
       "      <td>1</td>\n",
       "      <td>2</td>\n",
       "    </tr>\n",
       "    <tr>\n",
       "      <th>top_features</th>\n",
       "      <td>[screen, battery, keyboard, battery life, life, video, direction, voice, feature, size]</td>\n",
       "      <td>[interior, seat, mileage, comfortable, gas, gas mileage, transmission, car, performance, quality]</td>\n",
       "      <td>[room, hotel, service, staff, food, location, price, bathroom, clean, parking]</td>\n",
       "    </tr>\n",
       "    <tr>\n",
       "      <th>top_feature_value</th>\n",
       "      <td>[0.13713039713248437, 0.12096096822171234, 0.06438043116983094, 0.06435256843586211, 0.05955147197759063, 0.055034469999818564, 0.05392569077083271, 0.05211831664179642, 0.05187770412723844, 0.05142358835940106]</td>\n",
       "      <td>[0.2230524658543701, 0.188970542996851, 0.17193138205939273, 0.12209698558076137, 0.11878932687600377, 0.11290839434599483, 0.1024927264248041, 0.09762331306326875, 0.09295950080989268, 0.08915442463334126]</td>\n",
       "      <td>[0.24572395694776825, 0.18595610748774377, 0.16546429395541795, 0.14034079774435512, 0.11830615104727037, 0.11612356944986658, 0.09545910090919835, 0.06901128555078548, 0.06564246179885792, 0.05234324152708872]</td>\n",
       "    </tr>\n",
       "    <tr>\n",
       "      <th>filenames</th>\n",
       "      <td>[topics\\accuracy_garmin_nuvi_255W_gps, topics\\battery-life_amazon_kindle, topics\\battery-life_ipod_nano_8gb, topics\\battery-life_netbook_1005ha, topics\\buttons_amazon_kindle, topics\\directions_garmin_nuvi_255W_gps, topics\\display_garmin_nuvi_255W_gps, topics\\eyesight-issues_amazon_kindle, topics\\features_windows7, topics\\fonts_amazon_kindle, topics\\keyboard_netbook_1005ha, topics\\navigation_amazon_kindle, topics\\performance_netbook_1005ha, topics\\satellite_garmin_nuvi_255W_gps, topics\\screen_garmin_nuvi_255W_gps, topics\\screen_ipod_nano_8gb, topics\\screen_netbook_1005ha, topics\\size_asus_netbook_1005ha, topics\\sound_ipod_nano_8gb, topics\\speed_garmin_nuvi_255W_gps, topics\\speed_windows7,...</td>\n",
       "      <td>[topics\\comfort_honda_accord_2008, topics\\comfort_toyota_camry_2007, topics\\gas_mileage_toyota_camry_2007, topics\\interior_honda_accord_2008, topics\\interior_toyota_camry_2007, topics\\mileage_honda_accord_2008, topics\\performance_honda_accord_2008, topics\\quality_toyota_camry_2007, topics\\seats_honda_accord_2008, topics\\transmission_toyota_camry_2007]</td>\n",
       "      <td>[topics\\bathroom_bestwestern_hotel_sfo, topics\\food_holiday_inn_london, topics\\food_swissotel_chicago, topics\\free_bestwestern_hotel_sfo, topics\\location_bestwestern_hotel_sfo, topics\\location_holiday_inn_london, topics\\parking_bestwestern_hotel_sfo, topics\\price_amazon_kindle, topics\\price_holiday_inn_london, topics\\rooms_bestwestern_hotel_sfo, topics\\rooms_swissotel_chicago, topics\\room_holiday_inn_london, topics\\service_bestwestern_hotel_sfo, topics\\service_holiday_inn_london, topics\\service_swissotel_hotel_chicago, topics\\staff_bestwestern_hotel_sfo, topics\\staff_swissotel_chicago]</td>\n",
       "    </tr>\n",
       "  </tbody>\n",
       "</table>\n",
       "</div>"
      ],
      "text/plain": [
       "                                                                                                                                                                                                                                                                                                                                                                                                                                                                                                                                                                                                                                                                                                                                             0  \\\n",
       "cluster                                                                                                                                                                                                                                                                                                                                                                                                                                                                                                                                                                                                                                                                                                                                      0   \n",
       "top_features                                                                                                                                                                                                                                                                                                                                                                                                                                                                                                                                                                                                                                           [screen, battery, keyboard, battery life, life, video, direction, voice, feature, size]   \n",
       "top_feature_value                                                                                                                                                                                                                                                                                                                                                                                                                                                                                                          [0.13713039713248437, 0.12096096822171234, 0.06438043116983094, 0.06435256843586211, 0.05955147197759063, 0.055034469999818564, 0.05392569077083271, 0.05211831664179642, 0.05187770412723844, 0.05142358835940106]   \n",
       "filenames          [topics\\accuracy_garmin_nuvi_255W_gps, topics\\battery-life_amazon_kindle, topics\\battery-life_ipod_nano_8gb, topics\\battery-life_netbook_1005ha, topics\\buttons_amazon_kindle, topics\\directions_garmin_nuvi_255W_gps, topics\\display_garmin_nuvi_255W_gps, topics\\eyesight-issues_amazon_kindle, topics\\features_windows7, topics\\fonts_amazon_kindle, topics\\keyboard_netbook_1005ha, topics\\navigation_amazon_kindle, topics\\performance_netbook_1005ha, topics\\satellite_garmin_nuvi_255W_gps, topics\\screen_garmin_nuvi_255W_gps, topics\\screen_ipod_nano_8gb, topics\\screen_netbook_1005ha, topics\\size_asus_netbook_1005ha, topics\\sound_ipod_nano_8gb, topics\\speed_garmin_nuvi_255W_gps, topics\\speed_windows7,...   \n",
       "\n",
       "                                                                                                                                                                                                                                                                                                                                                                                   1  \\\n",
       "cluster                                                                                                                                                                                                                                                                                                                                                                            1   \n",
       "top_features                                                                                                                                                                                                                                                                       [interior, seat, mileage, comfortable, gas, gas mileage, transmission, car, performance, quality]   \n",
       "top_feature_value                                                                                                                                                     [0.2230524658543701, 0.188970542996851, 0.17193138205939273, 0.12209698558076137, 0.11878932687600377, 0.11290839434599483, 0.1024927264248041, 0.09762331306326875, 0.09295950080989268, 0.08915442463334126]   \n",
       "filenames          [topics\\comfort_honda_accord_2008, topics\\comfort_toyota_camry_2007, topics\\gas_mileage_toyota_camry_2007, topics\\interior_honda_accord_2008, topics\\interior_toyota_camry_2007, topics\\mileage_honda_accord_2008, topics\\performance_honda_accord_2008, topics\\quality_toyota_camry_2007, topics\\seats_honda_accord_2008, topics\\transmission_toyota_camry_2007]   \n",
       "\n",
       "                                                                                                                                                                                                                                                                                                                                                                                                                                                                                                                                                                                                                                  2  \n",
       "cluster                                                                                                                                                                                                                                                                                                                                                                                                                                                                                                                                                                                                                           2  \n",
       "top_features                                                                                                                                                                                                                                                                                                                                                                                                                                                                                                                                         [room, hotel, service, staff, food, location, price, bathroom, clean, parking]  \n",
       "top_feature_value                                                                                                                                                                                                                                                                                                                                                                                                [0.24572395694776825, 0.18595610748774377, 0.16546429395541795, 0.14034079774435512, 0.11830615104727037, 0.11612356944986658, 0.09545910090919835, 0.06901128555078548, 0.06564246179885792, 0.05234324152708872]  \n",
       "filenames          [topics\\bathroom_bestwestern_hotel_sfo, topics\\food_holiday_inn_london, topics\\food_swissotel_chicago, topics\\free_bestwestern_hotel_sfo, topics\\location_bestwestern_hotel_sfo, topics\\location_holiday_inn_london, topics\\parking_bestwestern_hotel_sfo, topics\\price_amazon_kindle, topics\\price_holiday_inn_london, topics\\rooms_bestwestern_hotel_sfo, topics\\rooms_swissotel_chicago, topics\\room_holiday_inn_london, topics\\service_bestwestern_hotel_sfo, topics\\service_holiday_inn_london, topics\\service_swissotel_hotel_chicago, topics\\staff_bestwestern_hotel_sfo, topics\\staff_swissotel_chicago]  "
      ]
     },
     "execution_count": 18,
     "metadata": {},
     "output_type": "execute_result"
    }
   ],
   "source": [
    "cluster_detail_info = get_cluster_details(\n",
    "    cluster_model = km_cluster,\n",
    "    cluster_data = doc_df,\n",
    "    feature_names = tfidf_vectorizer.get_feature_names_out(), # get_feature_names_out : tfidf 의 단어 목록\n",
    "    cluster_num=3\n",
    ")\n",
    "\n",
    "pd.DataFrame(cluster_detail_info)"
   ]
  },
  {
   "cell_type": "markdown",
   "id": "ae9e1688-7b28-465f-af67-1e06694872fb",
   "metadata": {},
   "source": [
    "## 문서 유사도\n",
    "* 대부분 코사인 유사도 활용"
   ]
  },
  {
   "cell_type": "code",
   "execution_count": 26,
   "id": "8437902a-3ba1-4f38-8283-e4638975dea4",
   "metadata": {},
   "outputs": [],
   "source": [
    "doc_list = ['맛있는 사과 사과 사과 바나나',\n",
    "            '사과 사과 바나나 오렌지 멜론 사과',\n",
    "            '이게 제가 할 일이에요? 사과']\n",
    "# 1, 2번 문장 간의 유사도가 높을 것이라고 예상"
   ]
  },
  {
   "cell_type": "code",
   "execution_count": 27,
   "id": "53c653be-1f91-40f7-af5d-e4c7a72d124e",
   "metadata": {},
   "outputs": [
    {
     "data": {
      "text/plain": [
       "<3x8 sparse matrix of type '<class 'numpy.float64'>'\n",
       "\twith 11 stored elements in Compressed Sparse Row format>"
      ]
     },
     "execution_count": 27,
     "metadata": {},
     "output_type": "execute_result"
    }
   ],
   "source": [
    "# text vectorization\n",
    "tfidf_vect_simple = TfidfVectorizer()\n",
    "feature_vect_simple = tfidf_vect_simple.fit_transform(doc_list)\n",
    "feature_vect_simple"
   ]
  },
  {
   "cell_type": "code",
   "execution_count": 29,
   "id": "0ffb02ec-673c-4e30-a362-5f524d02bc4f",
   "metadata": {},
   "outputs": [
    {
     "data": {
      "text/html": [
       "<div>\n",
       "<style scoped>\n",
       "    .dataframe tbody tr th:only-of-type {\n",
       "        vertical-align: middle;\n",
       "    }\n",
       "\n",
       "    .dataframe tbody tr th {\n",
       "        vertical-align: top;\n",
       "    }\n",
       "\n",
       "    .dataframe thead th {\n",
       "        text-align: right;\n",
       "    }\n",
       "</style>\n",
       "<table border=\"1\" class=\"dataframe\">\n",
       "  <thead>\n",
       "    <tr style=\"text-align: right;\">\n",
       "      <th></th>\n",
       "      <th>맛있는</th>\n",
       "      <th>멜론</th>\n",
       "      <th>바나나</th>\n",
       "      <th>사과</th>\n",
       "      <th>오렌지</th>\n",
       "      <th>이게</th>\n",
       "      <th>일이에요</th>\n",
       "      <th>제가</th>\n",
       "    </tr>\n",
       "  </thead>\n",
       "  <tbody>\n",
       "    <tr>\n",
       "      <th>0</th>\n",
       "      <td>0.460392</td>\n",
       "      <td>0.0000</td>\n",
       "      <td>0.350140</td>\n",
       "      <td>0.815745</td>\n",
       "      <td>0.0000</td>\n",
       "      <td>0.000000</td>\n",
       "      <td>0.000000</td>\n",
       "      <td>0.000000</td>\n",
       "    </tr>\n",
       "    <tr>\n",
       "      <th>1</th>\n",
       "      <td>0.000000</td>\n",
       "      <td>0.4182</td>\n",
       "      <td>0.318052</td>\n",
       "      <td>0.740987</td>\n",
       "      <td>0.4182</td>\n",
       "      <td>0.000000</td>\n",
       "      <td>0.000000</td>\n",
       "      <td>0.000000</td>\n",
       "    </tr>\n",
       "    <tr>\n",
       "      <th>2</th>\n",
       "      <td>0.000000</td>\n",
       "      <td>0.0000</td>\n",
       "      <td>0.000000</td>\n",
       "      <td>0.322745</td>\n",
       "      <td>0.0000</td>\n",
       "      <td>0.546454</td>\n",
       "      <td>0.546454</td>\n",
       "      <td>0.546454</td>\n",
       "    </tr>\n",
       "  </tbody>\n",
       "</table>\n",
       "</div>"
      ],
      "text/plain": [
       "        맛있는      멜론       바나나        사과     오렌지        이게      일이에요        제가\n",
       "0  0.460392  0.0000  0.350140  0.815745  0.0000  0.000000  0.000000  0.000000\n",
       "1  0.000000  0.4182  0.318052  0.740987  0.4182  0.000000  0.000000  0.000000\n",
       "2  0.000000  0.0000  0.000000  0.322745  0.0000  0.546454  0.546454  0.546454"
      ]
     },
     "execution_count": 29,
     "metadata": {},
     "output_type": "execute_result"
    }
   ],
   "source": [
    "# tf-idf 값 확인\n",
    "pd.DataFrame(\n",
    "    feature_vect_simple.toarray(), \n",
    "    columns=tfidf_vect_simple.get_feature_names_out()\n",
    ")"
   ]
  },
  {
   "cell_type": "code",
   "execution_count": 31,
   "id": "5c072095-569d-472b-b65e-a4a8e07cc8a5",
   "metadata": {},
   "outputs": [
    {
     "data": {
      "text/plain": [
       "array([[1.        , 0.71581911, 0.26327739],\n",
       "       [0.71581911, 1.        , 0.23914936],\n",
       "       [0.26327739, 0.23914936, 1.        ]])"
      ]
     },
     "execution_count": 31,
     "metadata": {},
     "output_type": "execute_result"
    }
   ],
   "source": [
    "# 문장 끼리의 유사도 확인\n",
    "# R^(3*8) 과 R^(8*3) 의 내적 => R^(3*3)\n",
    "from sklearn.metrics.pairwise import cosine_similarity\n",
    "\n",
    "similarity_pair = cosine_similarity(feature_vect_simple, feature_vect_simple)\n",
    "similarity_pair"
   ]
  },
  {
   "cell_type": "markdown",
   "id": "da9d8629-bb2a-4437-bde6-0e534af02a0a",
   "metadata": {},
   "source": [
    "2번 클러스터와 비슷한 문서를 찾기"
   ]
  },
  {
   "cell_type": "code",
   "execution_count": 33,
   "id": "a878d0a0-29b6-49d3-b612-0c46efdd5c7b",
   "metadata": {},
   "outputs": [
    {
     "data": {
      "text/plain": [
       "Index([1, 13, 14, 15, 20, 21, 24, 27, 28, 30, 31, 32, 38, 39, 40, 45, 46], dtype='int64')"
      ]
     },
     "execution_count": 33,
     "metadata": {},
     "output_type": "execute_result"
    }
   ],
   "source": [
    "# 2번 클러스터의 문서들의 인덱스 추출\n",
    "cluster_2_indexes = doc_df.loc[doc_df['cluster_label'] == 2].index\n",
    "cluster_2_indexes"
   ]
  },
  {
   "cell_type": "code",
   "execution_count": 34,
   "id": "54610b14-4f26-41db-82c5-7a9cc7f5f9f7",
   "metadata": {},
   "outputs": [
    {
     "data": {
      "text/plain": [
       "'topics\\\\bathroom_bestwestern_hotel_sfo'"
      ]
     },
     "execution_count": 34,
     "metadata": {},
     "output_type": "execute_result"
    }
   ],
   "source": [
    "compare_docname = doc_df.iloc[cluster_2_indexes[0]]['filename']\n",
    "compare_docname"
   ]
  },
  {
   "cell_type": "code",
   "execution_count": 36,
   "id": "a15a12e7-20a1-4c91-a56b-76da489fec6b",
   "metadata": {},
   "outputs": [
    {
     "name": "stdout",
     "output_type": "stream",
     "text": [
      "[[1.         0.04657922 0.05671051 0.06642252 0.06475482 0.06601589\n",
      "  0.03864491 0.02765399 0.11557308 0.39248719 0.34104818 0.48403281\n",
      "  0.11959416 0.1418975  0.14373762 0.09521268 0.07867912]]\n"
     ]
    }
   ],
   "source": [
    "similarity_pair = cosine_similarity(\n",
    "    feature_vector[cluster_2_indexes[0]], # 기준으로 삼을 2번 클러스터의 문서의 벡터 \n",
    "    feature_vector[cluster_2_indexes] # 2번 클러스터의 모든 문서의 벡터들\n",
    ")\n",
    "print(similarity_pair)"
   ]
  },
  {
   "cell_type": "code",
   "execution_count": 39,
   "id": "21c72bea-e794-4175-97dc-2f8183de555e",
   "metadata": {},
   "outputs": [
    {
     "data": {
      "text/plain": [
       "array([[11,  9, 10, 14, 13, 12,  8, 15, 16,  3,  5,  4,  2,  1,  6,  7]],\n",
       "      dtype=int64)"
      ]
     },
     "execution_count": 39,
     "metadata": {},
     "output_type": "execute_result"
    }
   ],
   "source": [
    "import seaborn as sns\n",
    "import numpy as np\n",
    "import matplotlib.pyplot as plt\n",
    "\n",
    "sorted_index = similarity_pair.argsort()[:, ::-1]\n",
    "sorted_index = sorted_index[:, 1:] # 자기 자신 제외\n",
    "sorted_index"
   ]
  },
  {
   "cell_type": "code",
   "execution_count": 40,
   "id": "cb400c98-e7a6-4721-9351-1eb9ab156513",
   "metadata": {},
   "outputs": [
    {
     "data": {
      "text/plain": [
       "Index([32, 30, 31, 40, 39, 38, 28, 45, 46, 15, 21, 20, 14, 13, 24, 27], dtype='int64')"
      ]
     },
     "execution_count": 40,
     "metadata": {},
     "output_type": "execute_result"
    }
   ],
   "source": [
    "# 유사도가 큰 순으로 cluster_2_indexes 추출하여 재정렬\n",
    "cluster2_sorted_indexes = cluster_2_indexes[sorted_index.reshape(-1)]\n",
    "cluster2_sorted_indexes"
   ]
  },
  {
   "cell_type": "code",
   "execution_count": 41,
   "id": "37c45bc5-f6d0-41a0-ab48-f8c9d9977067",
   "metadata": {},
   "outputs": [
    {
     "data": {
      "text/plain": [
       "array([0.48403281, 0.39248719, 0.34104818, 0.14373762, 0.1418975 ,\n",
       "       0.11959416, 0.11557308, 0.09521268, 0.07867912, 0.06642252,\n",
       "       0.06601589, 0.06475482, 0.05671051, 0.04657922, 0.03864491,\n",
       "       0.02765399])"
      ]
     },
     "execution_count": 41,
     "metadata": {},
     "output_type": "execute_result"
    }
   ],
   "source": [
    "# 실제 유사도 정렬\n",
    "cluster2_sim_value = np.sort(similarity_pair.reshape(-1))[::-1]\n",
    "cluster2_sim_value = cluster2_sim_value[1:]\n",
    "cluster2_sim_value"
   ]
  },
  {
   "cell_type": "code",
   "execution_count": 43,
   "id": "b19095a2-5aa2-4361-961d-7e1c6127236a",
   "metadata": {},
   "outputs": [
    {
     "name": "stdout",
     "output_type": "stream",
     "text": [
      "클러스터 2번의 0번 문서와 가장 유사한 파일 이름 및 유사도: \n",
      "filename      topics\\room_holiday_inn_london\n",
      "similarity                          0.484033\n",
      "Name: 32, dtype: object\n"
     ]
    }
   ],
   "source": [
    "cluster2_sim_df = pd.DataFrame()\n",
    "cluster2_sim_df['filename'] = doc_df.iloc[cluster2_sorted_indexes]['filename']\n",
    "cluster2_sim_df['similarity'] = cluster2_sim_value\n",
    "\n",
    "print(\"클러스터 2번의 0번 문서와 가장 유사한 파일 이름 및 유사도: \\n{}\".format(cluster2_sim_df.iloc[0, :]))"
   ]
  },
  {
   "cell_type": "code",
   "execution_count": 44,
   "id": "0fc1bf35-aed5-4b62-bcd5-87892afed692",
   "metadata": {},
   "outputs": [
    {
     "data": {
      "image/png": "[encoded data removed]",
      "text/plain": [
       "<Figure size 640x480 with 1 Axes>"
      ]
     },
     "metadata": {},
     "output_type": "display_data"
    }
   ],
   "source": [
    "sns.barplot(x='similarity', y='filename', data=cluster2_sim_df)\n",
    "plt.title(compare_docname)\n",
    "plt.show()"
   ]
  },
  {
   "cell_type": "code",
   "execution_count": null,
   "id": "b9254aaa-5cb3-4dd0-9830-e0dfc6a2856f",
   "metadata": {},
   "outputs": [],
   "source": []
  }
 ],
 "metadata": {
  "kernelspec": {
   "display_name": "Python 3 (ipykernel)",
   "language": "python",
   "name": "python3"
  },
  "language_info": {
   "codemirror_mode": {
    "name": "ipython",
    "version": 3
   },
   "file_extension": ".py",
   "mimetype": "text/x-python",
   "name": "python",
   "nbconvert_exporter": "python",
   "pygments_lexer": "ipython3",
   "version": "3.8.18"
  }
 },
 "nbformat": 4,
 "nbformat_minor": 5
}
