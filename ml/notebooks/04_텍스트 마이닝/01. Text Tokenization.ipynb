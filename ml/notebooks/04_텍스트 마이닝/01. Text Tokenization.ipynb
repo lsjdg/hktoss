{
 "cells": [
  {
   "cell_type": "markdown",
   "metadata": {
    "id": "OoSLdl6fccG9"
   },
   "source": [
    "# Do not run this file on Windows\n"
   ]
  },
  {
   "cell_type": "markdown",
   "metadata": {
    "id": "reYHx3I2KDg5"
   },
   "source": [
    "# Tokenization 개념\n",
    "주어진 텍스트에서 토큰이라고 불리는 단위로 나누는 작업. 토큰화(Tokenization)이라고 한다.\n",
    "\n",
    "토큰의 단위는 상황에 따라 다르지만, 거의 보통 단어(word) 또는 서브워드(subword)단위로 나누게 됩니다."
   ]
  },
  {
   "cell_type": "markdown",
   "metadata": {
    "id": "JKEIuNuBLOlX"
   },
   "source": [
    "# Word Tokenization"
   ]
  },
  {
   "cell_type": "markdown",
   "metadata": {
    "id": "m7y7WmnJL3vF"
   },
   "source": [
    "## 영어 : Word Tokenization\n",
    "- 영어 관련된 토큰화를 수행할 때는 nltk를 많이 사용\n",
    "- Spacy도 활용을 많이 함\n"
   ]
  },
  {
   "cell_type": "code",
   "execution_count": 1,
   "metadata": {
    "colab": {
     "base_uri": "https://localhost:8080/"
    },
    "executionInfo": {
     "elapsed": 5711,
     "status": "ok",
     "timestamp": 1722993542332,
     "user": {
      "displayName": "이승준",
      "userId": "16390288933545134017"
     },
     "user_tz": -540
    },
    "id": "9noML2SXL3yV",
    "outputId": "f160f425-e915-459d-8ece-21ba36bca701"
   },
   "outputs": [
    {
     "name": "stderr",
     "output_type": "stream",
     "text": [
      "[nltk_data] Downloading package punkt to /root/nltk_data...\n",
      "[nltk_data]   Unzipping tokenizers/punkt.zip.\n"
     ]
    },
    {
     "data": {
      "text/plain": [
       "True"
      ]
     },
     "execution_count": 1,
     "metadata": {},
     "output_type": "execute_result"
    }
   ],
   "source": [
    "import nltk\n",
    "\n",
    "# 미국에서 사용하는 표준 토크나이저.\n",
    "nltk.download('punkt')"
   ]
  },
  {
   "cell_type": "code",
   "execution_count": 2,
   "metadata": {
    "executionInfo": {
     "elapsed": 7,
     "status": "ok",
     "timestamp": 1722993542332,
     "user": {
      "displayName": "이승준",
      "userId": "16390288933545134017"
     },
     "user_tz": -540
    },
    "id": "awjJTUONL309"
   },
   "outputs": [],
   "source": [
    "sentence = \"Don't be fooled by the dark sounding name, Mr. Jone's Orphanage is as cheery as cheery goes for a pastry shop.\""
   ]
  },
  {
   "cell_type": "code",
   "execution_count": 3,
   "metadata": {
    "colab": {
     "base_uri": "https://localhost:8080/"
    },
    "executionInfo": {
     "elapsed": 5,
     "status": "ok",
     "timestamp": 1722993542332,
     "user": {
      "displayName": "이승준",
      "userId": "16390288933545134017"
     },
     "user_tz": -540
    },
    "id": "BHPcaTkzL33X",
    "outputId": "be16f30b-5a35-431a-96d2-2f266eed4ca3"
   },
   "outputs": [
    {
     "data": {
      "text/plain": [
       "['Do',\n",
       " \"n't\",\n",
       " 'be',\n",
       " 'fooled',\n",
       " 'by',\n",
       " 'the',\n",
       " 'dark',\n",
       " 'sounding',\n",
       " 'name',\n",
       " ',',\n",
       " 'Mr.',\n",
       " 'Jone',\n",
       " \"'s\",\n",
       " 'Orphanage',\n",
       " 'is',\n",
       " 'as',\n",
       " 'cheery',\n",
       " 'as',\n",
       " 'cheery',\n",
       " 'goes',\n",
       " 'for',\n",
       " 'a',\n",
       " 'pastry',\n",
       " 'shop',\n",
       " '.']"
      ]
     },
     "execution_count": 3,
     "metadata": {},
     "output_type": "execute_result"
    }
   ],
   "source": [
    "# 기본 word_tokenizer를 사용하여 단어 토큰 추출\n",
    "from nltk.tokenize import word_tokenize\n",
    "word_tokenize(sentence)"
   ]
  },
  {
   "cell_type": "markdown",
   "metadata": {
    "id": "CalBh014L350"
   },
   "source": [
    "Don't를 Do와 n't로 분리하였으며, Jone's는 Jone과 's로 분리"
   ]
  },
  {
   "cell_type": "code",
   "execution_count": 4,
   "metadata": {
    "colab": {
     "base_uri": "https://localhost:8080/"
    },
    "executionInfo": {
     "elapsed": 4,
     "status": "ok",
     "timestamp": 1722993542332,
     "user": {
      "displayName": "이승준",
      "userId": "16390288933545134017"
     },
     "user_tz": -540
    },
    "id": "QPwcnkvwL38k",
    "outputId": "8eca5760-3f98-418f-e871-2211de27f037"
   },
   "outputs": [
    {
     "data": {
      "text/plain": [
       "['Don',\n",
       " \"'\",\n",
       " 't',\n",
       " 'be',\n",
       " 'fooled',\n",
       " 'by',\n",
       " 'the',\n",
       " 'dark',\n",
       " 'sounding',\n",
       " 'name',\n",
       " ',',\n",
       " 'Mr',\n",
       " '.',\n",
       " 'Jone',\n",
       " \"'\",\n",
       " 's',\n",
       " 'Orphanage',\n",
       " 'is',\n",
       " 'as',\n",
       " 'cheery',\n",
       " 'as',\n",
       " 'cheery',\n",
       " 'goes',\n",
       " 'for',\n",
       " 'a',\n",
       " 'pastry',\n",
       " 'shop',\n",
       " '.']"
      ]
     },
     "execution_count": 4,
     "metadata": {},
     "output_type": "execute_result"
    }
   ],
   "source": [
    "# WordPunctTokenizer\n",
    "from nltk.tokenize import WordPunctTokenizer\n",
    "\n",
    "tokenizer = WordPunctTokenizer()\n",
    "tokenizer.tokenize(sentence)"
   ]
  },
  {
   "cell_type": "markdown",
   "metadata": {
    "id": "SnhuNPZOL3-2"
   },
   "source": [
    "Don't를 Don과 '와 t로 분리하였으며, Jone's를 Jone과 '와 s로 분리"
   ]
  },
  {
   "cell_type": "code",
   "execution_count": 5,
   "metadata": {
    "colab": {
     "base_uri": "https://localhost:8080/"
    },
    "executionInfo": {
     "elapsed": 3,
     "status": "ok",
     "timestamp": 1722993542332,
     "user": {
      "displayName": "이승준",
      "userId": "16390288933545134017"
     },
     "user_tz": -540
    },
    "id": "yP7vP1EnL4Bn",
    "outputId": "4eea029f-3992-4450-c7e1-5aa13817eb86"
   },
   "outputs": [
    {
     "data": {
      "text/plain": [
       "['Do',\n",
       " \"n't\",\n",
       " 'be',\n",
       " 'fooled',\n",
       " 'by',\n",
       " 'the',\n",
       " 'dark',\n",
       " 'sounding',\n",
       " 'name',\n",
       " ',',\n",
       " 'Mr.',\n",
       " 'Jone',\n",
       " \"'s\",\n",
       " 'Orphanage',\n",
       " 'is',\n",
       " 'as',\n",
       " 'cheery',\n",
       " 'as',\n",
       " 'cheery',\n",
       " 'goes',\n",
       " 'for',\n",
       " 'a',\n",
       " 'pastry',\n",
       " 'shop',\n",
       " '.']"
      ]
     },
     "execution_count": 5,
     "metadata": {},
     "output_type": "execute_result"
    }
   ],
   "source": [
    "# TreebankWordTokenizer\n",
    "#  - Penn Treebank Tokenizer 규칙\n",
    "# 하이푼으로 구성된 단어는 하나로 유지한다.\n",
    "# doesn't와 같이 어포스트로피로 접어가 함께하는 단어는 분리해준다.\n",
    "from nltk.tokenize import TreebankWordTokenizer\n",
    "\n",
    "tokenizer = TreebankWordTokenizer()\n",
    "tokenizer.tokenize(sentence)"
   ]
  },
  {
   "cell_type": "markdown",
   "metadata": {
    "id": "9bIQobo4L4Ed"
   },
   "source": [
    "# 한국어 : WordTokenization(Konlpy)"
   ]
  },
  {
   "cell_type": "code",
   "execution_count": null,
   "metadata": {
    "colab": {
     "base_uri": "https://localhost:8080/"
    },
    "executionInfo": {
     "elapsed": 10681,
     "status": "ok",
     "timestamp": 1722993553011,
     "user": {
      "displayName": "이승준",
      "userId": "16390288933545134017"
     },
     "user_tz": -540
    },
    "id": "osky-QYoL4HF",
    "outputId": "a7efeb18-a9cb-4759-bc3e-45a701ffd0ff"
   },
   "outputs": [],
   "source": [
    "!pip install konlpy"
   ]
  },
  {
   "cell_type": "code",
   "execution_count": null,
   "metadata": {
    "colab": {
     "base_uri": "https://localhost:8080/"
    },
    "executionInfo": {
     "elapsed": 164901,
     "status": "ok",
     "timestamp": 1722993717910,
     "user": {
      "displayName": "이승준",
      "userId": "16390288933545134017"
     },
     "user_tz": -540
    },
    "id": "YdreSVJNL4Jl",
    "outputId": "4599fdf4-c052-4789-bd22-6d7181dd1f39"
   },
   "outputs": [],
   "source": [
    "!pip install mecab-python\n",
    "!bash <(curl -s https://raw.githubusercontent.com/konlpy/konlpy/master/scripts/mecab.sh)"
   ]
  },
  {
   "cell_type": "code",
   "execution_count": 8,
   "metadata": {
    "executionInfo": {
     "elapsed": 11743,
     "status": "ok",
     "timestamp": 1722993729644,
     "user": {
      "displayName": "이승준",
      "userId": "16390288933545134017"
     },
     "user_tz": -540
    },
    "id": "q2uq7yvQL4L1"
   },
   "outputs": [],
   "source": [
    "from konlpy.tag import Hannanum, Kkma, Komoran, Okt, Mecab\n",
    "\n",
    "hannanum = Hannanum()\n",
    "kkma = Kkma()\n",
    "komoran = Komoran()\n",
    "okt = Okt()\n",
    "mecab = Mecab()"
   ]
  },
  {
   "cell_type": "markdown",
   "metadata": {
    "id": "5hhDS5ByRX7n"
   },
   "source": [
    "한국어 형태소 분석기는 공통함수를 갖는다.\n",
    "- nouns : 명사만 추출\n",
    "- morphs : 형태소 추출\n",
    "- pos : 형태소 추출 및 품사 부착"
   ]
  },
  {
   "cell_type": "markdown",
   "metadata": {
    "id": "egwiUOC1RYUZ"
   },
   "source": [
    "## Okt(Open Korean Tag)"
   ]
  },
  {
   "cell_type": "code",
   "execution_count": 9,
   "metadata": {
    "colab": {
     "base_uri": "https://localhost:8080/"
    },
    "executionInfo": {
     "elapsed": 13669,
     "status": "ok",
     "timestamp": 1722993743311,
     "user": {
      "displayName": "이승준",
      "userId": "16390288933545134017"
     },
     "user_tz": -540
    },
    "id": "hJejtQRiRYXX",
    "outputId": "e6ca9a9a-e03d-48be-95d5-6664a170b709"
   },
   "outputs": [
    {
     "name": "stdout",
     "output_type": "stream",
     "text": [
      "['올해', '여름', '휴가', '어디']\n",
      "['올해', '여름', '휴가', '는', '어디', '에도', '못', '가서', '슬퍼요']\n",
      "[('올해', 'Noun'), ('여름', 'Noun'), ('휴가', 'Noun'), ('는', 'Josa'), ('어디', 'Noun'), ('에도', 'Josa'), ('못', 'VerbPrefix'), ('가서', 'Verb'), ('슬퍼요', 'Adjective')]\n"
     ]
    }
   ],
   "source": [
    "sentence = \"올해 여름 휴가는 어디에도 못가서 슬퍼요\"\n",
    "\n",
    "print(okt.nouns(sentence))\n",
    "print(okt.morphs(sentence))\n",
    "print(okt.pos(sentence))"
   ]
  },
  {
   "cell_type": "code",
   "execution_count": 10,
   "metadata": {
    "colab": {
     "base_uri": "https://localhost:8080/"
    },
    "executionInfo": {
     "elapsed": 2,
     "status": "ok",
     "timestamp": 1722993743311,
     "user": {
      "displayName": "이승준",
      "userId": "16390288933545134017"
     },
     "user_tz": -540
    },
    "id": "8OHgFJ1gRYZ4",
    "outputId": "aac90b37-1ff5-48e6-df20-048df6e31b89"
   },
   "outputs": [
    {
     "name": "stdout",
     "output_type": "stream",
     "text": [
      "['오늘', '강남역', '에서', '약속', '이', '취소', '됐다', 'ㅋㅋㅋ']\n",
      "['올해', '여름', '휴가', '는', '어디', '에도', '못', '가다', '슬프다']\n",
      "['오늘', '강남역', '에서', '약속', '이', '취소', '돼다', 'ㅋㅋㅋ']\n"
     ]
    }
   ],
   "source": [
    "## okt의 정규화, 어간 추출\n",
    "## 정규화 : 오늘 강남역에서 약속이 취소됐닼ㅋㅋㅋ -> 취소됐다ㅋㅋㅋ\n",
    "print(okt.morphs(\"오늘 강남역에서 약속이 취소됐닼ㅋㅋㅋ\", norm=True))\n",
    "\n",
    "## 어간 추출(Lemma) : 올해 여름 휴가는 어디에도 못가서 슬퍼요 -> 못 가다, 슬프다\n",
    "print(okt.morphs(sentence, stem=True))\n",
    "\n",
    "print(okt.morphs(\"오늘 강남역에서 약속이 취소됐닼ㅋㅋㅋ\", norm=True, stem=True))"
   ]
  },
  {
   "cell_type": "markdown",
   "metadata": {
    "id": "jMOAGwUrRYcg"
   },
   "source": [
    "## Kkma(꼬꼬마)"
   ]
  },
  {
   "cell_type": "code",
   "execution_count": 11,
   "metadata": {
    "colab": {
     "base_uri": "https://localhost:8080/"
    },
    "executionInfo": {
     "elapsed": 23905,
     "status": "ok",
     "timestamp": 1722993767215,
     "user": {
      "displayName": "이승준",
      "userId": "16390288933545134017"
     },
     "user_tz": -540
    },
    "id": "WWyuk87sRYfH",
    "outputId": "afb72bb9-9424-4afd-a95f-3d56d347025c"
   },
   "outputs": [
    {
     "name": "stdout",
     "output_type": "stream",
     "text": [
      "['올해', '여름', '휴가', '어디']\n",
      "['올해', '여름', '휴가', '는', '어디', '에', '도', '못', '가', '아서', '슬프', '어요']\n",
      "[('올해', 'NNG'), ('여름', 'NNG'), ('휴가', 'NNG'), ('는', 'JX'), ('어디', 'NP'), ('에', 'JKM'), ('도', 'JX'), ('못', 'MAG'), ('가', 'VV'), ('아서', 'ECD'), ('슬프', 'VA'), ('어요', 'EFN')]\n"
     ]
    }
   ],
   "source": [
    "print(kkma.nouns(sentence))\n",
    "print(kkma.morphs(sentence))\n",
    "print(kkma.pos(sentence))"
   ]
  },
  {
   "cell_type": "markdown",
   "metadata": {
    "id": "e_KEuayHL4RE"
   },
   "source": [
    "## 코모란"
   ]
  },
  {
   "cell_type": "code",
   "execution_count": 12,
   "metadata": {
    "colab": {
     "base_uri": "https://localhost:8080/"
    },
    "executionInfo": {
     "elapsed": 2,
     "status": "ok",
     "timestamp": 1722993767215,
     "user": {
      "displayName": "이승준",
      "userId": "16390288933545134017"
     },
     "user_tz": -540
    },
    "id": "5agm-yRkWk_D",
    "outputId": "919c0054-4029-4424-8087-784b8ab745c7"
   },
   "outputs": [
    {
     "name": "stdout",
     "output_type": "stream",
     "text": [
      "['올해', '여름', '휴가']\n",
      "['올해', '여름', '휴가', '는', '어디', '에', '도', '못', '가', '아서', '슬프', '어요']\n",
      "[('올해', 'NNG'), ('여름', 'NNG'), ('휴가', 'NNP'), ('는', 'JX'), ('어디', 'NP'), ('에', 'JKB'), ('도', 'JX'), ('못', 'MAG'), ('가', 'VV'), ('아서', 'EC'), ('슬프', 'VA'), ('어요', 'EC')]\n"
     ]
    }
   ],
   "source": [
    "print(komoran.nouns(sentence))\n",
    "print(komoran.morphs(sentence))\n",
    "print(komoran.pos(sentence))"
   ]
  },
  {
   "cell_type": "markdown",
   "metadata": {
    "id": "DfzyYGO3WlBr"
   },
   "source": [
    "## 한나눔"
   ]
  },
  {
   "cell_type": "code",
   "execution_count": 13,
   "metadata": {
    "colab": {
     "base_uri": "https://localhost:8080/"
    },
    "executionInfo": {
     "elapsed": 2144,
     "status": "ok",
     "timestamp": 1722993769358,
     "user": {
      "displayName": "이승준",
      "userId": "16390288933545134017"
     },
     "user_tz": -540
    },
    "id": "EkiB56piWlEF",
    "outputId": "4e0c1108-11e1-47a9-ae8c-1b4e5e67e980"
   },
   "outputs": [
    {
     "name": "stdout",
     "output_type": "stream",
     "text": [
      "['올해', '여름', '휴가', '어디', '못가']\n",
      "['올해', '여름', '휴가', '는', '어디', '에도', '못가', '서', '슬프', '어요']\n",
      "[('올해', 'N'), ('여름', 'N'), ('휴가', 'N'), ('는', 'J'), ('어디', 'N'), ('에도', 'J'), ('못가', 'N'), ('서', 'J'), ('슬프', 'P'), ('어요', 'E')]\n"
     ]
    }
   ],
   "source": [
    "print(hannanum.nouns(sentence))\n",
    "print(hannanum.morphs(sentence))\n",
    "print(hannanum.pos(sentence))"
   ]
  },
  {
   "cell_type": "markdown",
   "metadata": {
    "id": "YXLmbNBYWlGT"
   },
   "source": [
    "## Mecab\n",
    "- 실무에서도 가장 많이 사용되는 형태소 분석기 중 하나\n",
    "- Khaii 도 많이 쓴다.\n",
    "- 리눅스 기반에서만 작동이 가능!"
   ]
  },
  {
   "cell_type": "code",
   "execution_count": 14,
   "metadata": {
    "colab": {
     "base_uri": "https://localhost:8080/"
    },
    "executionInfo": {
     "elapsed": 5,
     "status": "ok",
     "timestamp": 1722993769358,
     "user": {
      "displayName": "이승준",
      "userId": "16390288933545134017"
     },
     "user_tz": -540
    },
    "id": "7sY67QRDXkGr",
    "outputId": "59d73029-a507-4955-ee56-adb44d349851"
   },
   "outputs": [
    {
     "name": "stdout",
     "output_type": "stream",
     "text": [
      "['올해', '여름', '휴가', '어디']\n",
      "['올해', '여름', '휴가', '는', '어디', '에', '도', '못', '가', '서', '슬퍼요']\n",
      "[('올해', 'NNG'), ('여름', 'NNG'), ('휴가', 'NNG'), ('는', 'JX'), ('어디', 'NP'), ('에', 'JKB'), ('도', 'JX'), ('못', 'MAG'), ('가', 'VV'), ('서', 'EC'), ('슬퍼요', 'VA+EC')]\n"
     ]
    }
   ],
   "source": [
    "print(mecab.nouns(sentence))\n",
    "print(mecab.morphs(sentence))\n",
    "print(mecab.pos(sentence))"
   ]
  },
  {
   "cell_type": "markdown",
   "metadata": {
    "id": "EmRE6js_X7zJ"
   },
   "source": [
    "**각 형태소 분석기는 성능과 결과가 다르게 나오기 때문에**, 형태소 분석기의 선택은 사용하고자 하는 필요 용도에 어떤 형태소 분석기가 가장 적절한지를 판단하고 사용하면 됩니다. 예를 들어서 속도를 중시한다면 메캅을 사용할 수 있습니다.\n",
    "\n"
   ]
  },
  {
   "cell_type": "markdown",
   "metadata": {
    "id": "p0Em-YVaLYym"
   },
   "source": [
    "# Sentence Tokenization\n",
    "- 단어 토큰화 보다 사용 빈도가 낮다.\n",
    "- 예를 들어 어떤 웹 페이지를 크롤링 하거나, PDF나, 문서 등에서 텍스트를 추출한 경우 문장 말뭉치(corpus)를 구성해야 할 때 보통 사용"
   ]
  },
  {
   "cell_type": "markdown",
   "metadata": {
    "id": "7hKUk-VHaUrH"
   },
   "source": [
    "## 영어 : sent_tokenize"
   ]
  },
  {
   "cell_type": "code",
   "execution_count": 15,
   "metadata": {
    "executionInfo": {
     "elapsed": 5,
     "status": "ok",
     "timestamp": 1722993769358,
     "user": {
      "displayName": "이승준",
      "userId": "16390288933545134017"
     },
     "user_tz": -540
    },
    "id": "lettanBjYDYp"
   },
   "outputs": [],
   "source": [
    "sentences = \"\"\"Simone Biles tells CNN competing in Paris “meant the world” after her struggles at Tokyo 2020.\n",
    "The US Women’s Soccer Team advances to its first Olympic final since 2012 London after defeating Germany 1-0 in extra time on Tuesday.\n",
    "LeBron James and Team USA rolled over Brazil, 122-87, on their to the semifinals of the men’s basketball tournament.\n",
    "\"\"\""
   ]
  },
  {
   "cell_type": "markdown",
   "metadata": {
    "id": "OrrRHtmnYDby"
   },
   "source": [
    "문장을 세그멘테이션 할 때 온점 ( . )만을 사용하는게 맞을까?\n",
    "- 위험한 생각! IP 주소, Mr. Miss. Mrs. Ph.\n",
    "- 물음표(?)나 느낌표(!) 같은 경우는 확실하게 문장이 끝났음을 의미하는 경우가 많다"
   ]
  },
  {
   "cell_type": "code",
   "execution_count": 16,
   "metadata": {
    "colab": {
     "base_uri": "https://localhost:8080/"
    },
    "executionInfo": {
     "elapsed": 5,
     "status": "ok",
     "timestamp": 1722993769359,
     "user": {
      "displayName": "이승준",
      "userId": "16390288933545134017"
     },
     "user_tz": -540
    },
    "id": "Euppx2vtYDeZ",
    "outputId": "63443528-849d-4da1-9c59-09bc5cffe632"
   },
   "outputs": [
    {
     "name": "stdout",
     "output_type": "stream",
     "text": [
      "['Simone Biles tells CNN competing in Paris “meant the world” after her struggles at Tokyo 2020.', 'The US Women’s Soccer Team advances to its first Olympic final since 2012 London after defeating Germany 1-0 in extra time on Tuesday.', 'LeBron James and Team USA rolled over Brazil, 122-87, on their to the semifinals of the men’s basketball tournament.']\n"
     ]
    }
   ],
   "source": [
    "from nltk.tokenize import sent_tokenize\n",
    "\n",
    "print(sent_tokenize(sentences))"
   ]
  },
  {
   "cell_type": "code",
   "execution_count": 17,
   "metadata": {
    "colab": {
     "base_uri": "https://localhost:8080/"
    },
    "executionInfo": {
     "elapsed": 4,
     "status": "ok",
     "timestamp": 1722993769359,
     "user": {
      "displayName": "이승준",
      "userId": "16390288933545134017"
     },
     "user_tz": -540
    },
    "id": "YLY2yJ5hYDhC",
    "outputId": "f6cbd205-71c3-4687-a76a-5e7a8699c026"
   },
   "outputs": [
    {
     "name": "stdout",
     "output_type": "stream",
     "text": [
      "Simone Biles tells CNN competing in Paris “meant the world” after her struggles at Tokyo 2020.\n",
      "The US Women’s Soccer Team advances to its first Olympic final since 2012 London after defeating Germany 1-0 in extra time on Tuesday.\n",
      "LeBron James and Team USA rolled over Brazil, 122-87, on their to the semifinals of the men’s basketball tournament.\n"
     ]
    }
   ],
   "source": [
    "for sent in sent_tokenize(sentences):\n",
    "  print(sent)"
   ]
  },
  {
   "cell_type": "code",
   "execution_count": 18,
   "metadata": {
    "colab": {
     "base_uri": "https://localhost:8080/"
    },
    "executionInfo": {
     "elapsed": 4,
     "status": "ok",
     "timestamp": 1722993769359,
     "user": {
      "displayName": "이승준",
      "userId": "16390288933545134017"
     },
     "user_tz": -540
    },
    "id": "-TErul9xZ1WI",
    "outputId": "68beb1e6-7a34-4579-9e9d-91c2628fea7e"
   },
   "outputs": [
    {
     "data": {
      "text/plain": [
       "['My IP Address is 192.168.56.101.', 'Report to mhso.developer@gmail.com']"
      ]
     },
     "execution_count": 18,
     "metadata": {},
     "output_type": "execute_result"
    }
   ],
   "source": [
    "sentence = \"My IP Address is 192.168.56.101. Report to mhso.developer@gmail.com\"\n",
    "sent_tokenize(sentence)"
   ]
  },
  {
   "cell_type": "markdown",
   "metadata": {
    "id": "OrAgew65aSOz"
   },
   "source": [
    "## 한국어 : kss"
   ]
  },
  {
   "cell_type": "code",
   "execution_count": 19,
   "metadata": {
    "colab": {
     "base_uri": "https://localhost:8080/"
    },
    "executionInfo": {
     "elapsed": 139812,
     "status": "ok",
     "timestamp": 1722993909168,
     "user": {
      "displayName": "이승준",
      "userId": "16390288933545134017"
     },
     "user_tz": -540
    },
    "id": "VxdgpSFsaSRn",
    "outputId": "3127dbd4-f96a-44af-f2f4-23615e2d280b"
   },
   "outputs": [
    {
     "name": "stdout",
     "output_type": "stream",
     "text": [
      "Collecting kss\n",
      "  Downloading kss-6.0.4.tar.gz (1.1 MB)\n",
      "\u001b[2K     \u001b[90m━━━━━━━━━━━━━━━━━━━━━━━━━━━━━━━━━━━━━━━━\u001b[0m \u001b[32m1.1/1.1 MB\u001b[0m \u001b[31m5.4 MB/s\u001b[0m eta \u001b[36m0:00:00\u001b[0m\n",
      "\u001b[?25h  Preparing metadata (setup.py) ... \u001b[?25l\u001b[?25hdone\n",
      "Collecting emoji==1.2.0 (from kss)\n",
      "  Downloading emoji-1.2.0-py3-none-any.whl.metadata (4.3 kB)\n",
      "Collecting pecab (from kss)\n",
      "  Downloading pecab-1.0.8.tar.gz (26.4 MB)\n",
      "\u001b[2K     \u001b[90m━━━━━━━━━━━━━━━━━━━━━━━━━━━━━━━━━━━━━━━━\u001b[0m \u001b[32m26.4/26.4 MB\u001b[0m \u001b[31m37.7 MB/s\u001b[0m eta \u001b[36m0:00:00\u001b[0m\n",
      "\u001b[?25h  Preparing metadata (setup.py) ... \u001b[?25l\u001b[?25hdone\n",
      "Requirement already satisfied: networkx in /usr/local/lib/python3.10/dist-packages (from kss) (3.3)\n",
      "Collecting jamo (from kss)\n",
      "  Downloading jamo-0.4.1-py3-none-any.whl.metadata (2.3 kB)\n",
      "Collecting hangul-jamo (from kss)\n",
      "  Downloading hangul_jamo-1.0.1-py3-none-any.whl.metadata (899 bytes)\n",
      "Collecting tossi (from kss)\n",
      "  Downloading tossi-0.3.1.tar.gz (11 kB)\n",
      "  Preparing metadata (setup.py) ... \u001b[?25l\u001b[?25hdone\n",
      "Collecting distance (from kss)\n",
      "  Downloading Distance-0.1.3.tar.gz (180 kB)\n",
      "\u001b[2K     \u001b[90m━━━━━━━━━━━━━━━━━━━━━━━━━━━━━━━━━━━━━━━━\u001b[0m \u001b[32m180.3/180.3 kB\u001b[0m \u001b[31m13.0 MB/s\u001b[0m eta \u001b[36m0:00:00\u001b[0m\n",
      "\u001b[?25h  Preparing metadata (setup.py) ... \u001b[?25l\u001b[?25hdone\n",
      "Collecting pyyaml==6.0 (from kss)\n",
      "  Downloading PyYAML-6.0-cp310-cp310-manylinux_2_5_x86_64.manylinux1_x86_64.manylinux_2_12_x86_64.manylinux2010_x86_64.whl.metadata (2.0 kB)\n",
      "Collecting unidecode (from kss)\n",
      "  Downloading Unidecode-1.3.8-py3-none-any.whl.metadata (13 kB)\n",
      "Collecting cmudict (from kss)\n",
      "  Downloading cmudict-1.0.27-py3-none-any.whl.metadata (3.5 kB)\n",
      "Collecting koparadigm (from kss)\n",
      "  Downloading koparadigm-0.10.0-py3-none-any.whl.metadata (2.9 kB)\n",
      "Collecting kollocate (from kss)\n",
      "  Downloading kollocate-0.0.2-py3-none-any.whl.metadata (1.8 kB)\n",
      "Collecting bs4 (from kss)\n",
      "  Downloading bs4-0.0.2-py2.py3-none-any.whl.metadata (411 bytes)\n",
      "Requirement already satisfied: numpy in /usr/local/lib/python3.10/dist-packages (from kss) (1.26.4)\n",
      "Requirement already satisfied: pytest in /usr/local/lib/python3.10/dist-packages (from kss) (7.4.4)\n",
      "Requirement already satisfied: scipy in /usr/local/lib/python3.10/dist-packages (from kss) (1.13.1)\n",
      "Requirement already satisfied: beautifulsoup4 in /usr/local/lib/python3.10/dist-packages (from bs4->kss) (4.12.3)\n",
      "Requirement already satisfied: importlib-metadata>=5 in /usr/local/lib/python3.10/dist-packages (from cmudict->kss) (8.2.0)\n",
      "Requirement already satisfied: importlib-resources>=5 in /usr/local/lib/python3.10/dist-packages (from cmudict->kss) (6.4.0)\n",
      "Collecting whoosh (from kollocate->kss)\n",
      "  Downloading Whoosh-2.7.4-py2.py3-none-any.whl.metadata (3.1 kB)\n",
      "Collecting xlrd==1.2.0 (from koparadigm->kss)\n",
      "  Downloading xlrd-1.2.0-py2.py3-none-any.whl.metadata (1.3 kB)\n",
      "Requirement already satisfied: pyarrow in /usr/local/lib/python3.10/dist-packages (from pecab->kss) (14.0.2)\n",
      "Requirement already satisfied: regex in /usr/local/lib/python3.10/dist-packages (from pecab->kss) (2024.5.15)\n",
      "Requirement already satisfied: iniconfig in /usr/local/lib/python3.10/dist-packages (from pytest->kss) (2.0.0)\n",
      "Requirement already satisfied: packaging in /usr/local/lib/python3.10/dist-packages (from pytest->kss) (24.1)\n",
      "Requirement already satisfied: pluggy<2.0,>=0.12 in /usr/local/lib/python3.10/dist-packages (from pytest->kss) (1.5.0)\n",
      "Requirement already satisfied: exceptiongroup>=1.0.0rc8 in /usr/local/lib/python3.10/dist-packages (from pytest->kss) (1.2.2)\n",
      "Requirement already satisfied: tomli>=1.0.0 in /usr/local/lib/python3.10/dist-packages (from pytest->kss) (2.0.1)\n",
      "Requirement already satisfied: bidict in /usr/local/lib/python3.10/dist-packages (from tossi->kss) (0.23.1)\n",
      "Requirement already satisfied: six in /usr/local/lib/python3.10/dist-packages (from tossi->kss) (1.16.0)\n",
      "Requirement already satisfied: zipp>=0.5 in /usr/local/lib/python3.10/dist-packages (from importlib-metadata>=5->cmudict->kss) (3.19.2)\n",
      "Requirement already satisfied: soupsieve>1.2 in /usr/local/lib/python3.10/dist-packages (from beautifulsoup4->bs4->kss) (2.5)\n",
      "Downloading emoji-1.2.0-py3-none-any.whl (131 kB)\n",
      "\u001b[2K   \u001b[90m━━━━━━━━━━━━━━━━━━━━━━━━━━━━━━━━━━━━━━━━\u001b[0m \u001b[32m131.3/131.3 kB\u001b[0m \u001b[31m8.6 MB/s\u001b[0m eta \u001b[36m0:00:00\u001b[0m\n",
      "\u001b[?25hDownloading PyYAML-6.0-cp310-cp310-manylinux_2_5_x86_64.manylinux1_x86_64.manylinux_2_12_x86_64.manylinux2010_x86_64.whl (682 kB)\n",
      "\u001b[2K   \u001b[90m━━━━━━━━━━━━━━━━━━━━━━━━━━━━━━━━━━━━━━━━\u001b[0m \u001b[32m682.2/682.2 kB\u001b[0m \u001b[31m33.4 MB/s\u001b[0m eta \u001b[36m0:00:00\u001b[0m\n",
      "\u001b[?25hDownloading bs4-0.0.2-py2.py3-none-any.whl (1.2 kB)\n",
      "Downloading cmudict-1.0.27-py3-none-any.whl (939 kB)\n",
      "\u001b[2K   \u001b[90m━━━━━━━━━━━━━━━━━━━━━━━━━━━━━━━━━━━━━━━━\u001b[0m \u001b[32m939.4/939.4 kB\u001b[0m \u001b[31m44.1 MB/s\u001b[0m eta \u001b[36m0:00:00\u001b[0m\n",
      "\u001b[?25hDownloading hangul_jamo-1.0.1-py3-none-any.whl (4.4 kB)\n",
      "Downloading jamo-0.4.1-py3-none-any.whl (9.5 kB)\n",
      "Downloading kollocate-0.0.2-py3-none-any.whl (72.2 MB)\n",
      "\u001b[2K   \u001b[90m━━━━━━━━━━━━━━━━━━━━━━━━━━━━━━━━━━━━━━━━\u001b[0m \u001b[32m72.2/72.2 MB\u001b[0m \u001b[31m10.9 MB/s\u001b[0m eta \u001b[36m0:00:00\u001b[0m\n",
      "\u001b[?25hDownloading koparadigm-0.10.0-py3-none-any.whl (1.6 MB)\n",
      "\u001b[2K   \u001b[90m━━━━━━━━━━━━━━━━━━━━━━━━━━━━━━━━━━━━━━━━\u001b[0m \u001b[32m1.6/1.6 MB\u001b[0m \u001b[31m58.1 MB/s\u001b[0m eta \u001b[36m0:00:00\u001b[0m\n",
      "\u001b[?25hDownloading xlrd-1.2.0-py2.py3-none-any.whl (103 kB)\n",
      "\u001b[2K   \u001b[90m━━━━━━━━━━━━━━━━━━━━━━━━━━━━━━━━━━━━━━━━\u001b[0m \u001b[32m103.3/103.3 kB\u001b[0m \u001b[31m7.1 MB/s\u001b[0m eta \u001b[36m0:00:00\u001b[0m\n",
      "\u001b[?25hDownloading Unidecode-1.3.8-py3-none-any.whl (235 kB)\n",
      "\u001b[2K   \u001b[90m━━━━━━━━━━━━━━━━━━━━━━━━━━━━━━━━━━━━━━━━\u001b[0m \u001b[32m235.5/235.5 kB\u001b[0m \u001b[31m11.0 MB/s\u001b[0m eta \u001b[36m0:00:00\u001b[0m\n",
      "\u001b[?25hDownloading Whoosh-2.7.4-py2.py3-none-any.whl (468 kB)\n",
      "\u001b[2K   \u001b[90m━━━━━━━━━━━━━━━━━━━━━━━━━━━━━━━━━━━━━━━━\u001b[0m \u001b[32m468.8/468.8 kB\u001b[0m \u001b[31m23.6 MB/s\u001b[0m eta \u001b[36m0:00:00\u001b[0m\n",
      "\u001b[?25hBuilding wheels for collected packages: kss, distance, pecab, tossi\n",
      "  Building wheel for kss (setup.py) ... \u001b[?25l\u001b[?25hdone\n",
      "  Created wheel for kss: filename=kss-6.0.4-cp310-cp310-linux_x86_64.whl size=1446488 sha256=f7897f765a2906f46ce7cc55076c512a418bb2131d38266a1e0150c4f41405d9\n",
      "  Stored in directory: /root/.cache/pip/wheels/dd/70/d5/c9308346829b1eb9e7267d74696919d2453aee6ce350f98b3b\n",
      "  Building wheel for distance (setup.py) ... \u001b[?25l\u001b[?25hdone\n",
      "  Created wheel for distance: filename=Distance-0.1.3-py3-none-any.whl size=16257 sha256=ec94c4d8995d1d18a2730b2a6dab83b2abac8e558f1ebfead3349b82d1296898\n",
      "  Stored in directory: /root/.cache/pip/wheels/e8/bb/de/f71bf63559ea9a921059a5405806f7ff6ed612a9231c4a9309\n",
      "  Building wheel for pecab (setup.py) ... \u001b[?25l\u001b[?25hdone\n",
      "  Created wheel for pecab: filename=pecab-1.0.8-py3-none-any.whl size=26646664 sha256=40eee5af2aa80bf73ecb23876abdd42b302bd60040b498488264d1393689f6bf\n",
      "  Stored in directory: /root/.cache/pip/wheels/5c/6f/b4/ab61b8863d7d8b1409def8ae31adcaa089fa91b8d022ec309d\n",
      "  Building wheel for tossi (setup.py) ... \u001b[?25l\u001b[?25hdone\n",
      "  Created wheel for tossi: filename=tossi-0.3.1-py3-none-any.whl size=12128 sha256=90cd73a520bc15e2e586176df49b30bdadf85d291c51cd6c630576469dea79de\n",
      "  Stored in directory: /root/.cache/pip/wheels/a7/18/60/1094a6fe93c8063efcd3e6700d09328216682e495a3c51af9f\n",
      "Successfully built kss distance pecab tossi\n",
      "Installing collected packages: whoosh, jamo, hangul-jamo, emoji, distance, xlrd, unidecode, tossi, pyyaml, kollocate, pecab, koparadigm, cmudict, bs4, kss\n",
      "  Attempting uninstall: xlrd\n",
      "    Found existing installation: xlrd 2.0.1\n",
      "    Uninstalling xlrd-2.0.1:\n",
      "      Successfully uninstalled xlrd-2.0.1\n",
      "  Attempting uninstall: pyyaml\n",
      "    Found existing installation: PyYAML 6.0.1\n",
      "    Uninstalling PyYAML-6.0.1:\n",
      "      Successfully uninstalled PyYAML-6.0.1\n",
      "Successfully installed bs4-0.0.2 cmudict-1.0.27 distance-0.1.3 emoji-1.2.0 hangul-jamo-1.0.1 jamo-0.4.1 kollocate-0.0.2 koparadigm-0.10.0 kss-6.0.4 pecab-1.0.8 pyyaml-6.0 tossi-0.3.1 unidecode-1.3.8 whoosh-2.7.4 xlrd-1.2.0\n"
     ]
    }
   ],
   "source": [
    "!pip install kss"
   ]
  },
  {
   "cell_type": "code",
   "execution_count": 20,
   "metadata": {
    "colab": {
     "base_uri": "https://localhost:8080/"
    },
    "executionInfo": {
     "elapsed": 29988,
     "status": "ok",
     "timestamp": 1722993967386,
     "user": {
      "displayName": "이승준",
      "userId": "16390288933545134017"
     },
     "user_tz": -540
    },
    "id": "wzWUQ2-PaSUA",
    "outputId": "2cd09bdf-ef06-4db1-b3df-c56e0985c5ac"
   },
   "outputs": [
    {
     "name": "stderr",
     "output_type": "stream",
     "text": [
      "WARNING:root:Oh! You have mecab in your environment. Kss will take this as a backend! :D\n",
      "\n"
     ]
    },
    {
     "data": {
      "text/plain": [
       "['오래 된 사진을 모닥불 앞에서 펼쳐 멍하니 멍하니 바라보았어.',\n",
       " '한참을 미루던 맘을 전해보려해.',\n",
       " '천천히 천천히 너에게 다가갈게.']"
      ]
     },
     "execution_count": 20,
     "metadata": {},
     "output_type": "execute_result"
    }
   ],
   "source": [
    "import kss\n",
    "\n",
    "sentence=\"\"\"오래 된 사진을 모닥불 앞에서 펼쳐 멍하니 멍하니 바라보았어.\n",
    "한참을 미루던 맘을 전해보려해.\n",
    "천천히 천천히 너에게 다가갈게.\n",
    "\"\"\"\n",
    "\n",
    "kss.split_sentences(sentence)"
   ]
  },
  {
   "cell_type": "markdown",
   "metadata": {
    "id": "DEGTLvLKLZ7l"
   },
   "source": [
    "# LLM Tokenization\n",
    "- 원래는 PLM(Pretrained Language Model)\n",
    "- Large Language Model"
   ]
  },
  {
   "cell_type": "code",
   "execution_count": 21,
   "metadata": {
    "colab": {
     "base_uri": "https://localhost:8080/"
    },
    "executionInfo": {
     "elapsed": 3564,
     "status": "ok",
     "timestamp": 1722994712717,
     "user": {
      "displayName": "이승준",
      "userId": "16390288933545134017"
     },
     "user_tz": -540
    },
    "id": "tni-08gBLbOd",
    "outputId": "fc5537e0-f4b4-463c-f132-fb734b9cc48f"
   },
   "outputs": [
    {
     "name": "stdout",
     "output_type": "stream",
     "text": [
      "Requirement already satisfied: transformers in /usr/local/lib/python3.10/dist-packages (4.42.4)\n",
      "Requirement already satisfied: filelock in /usr/local/lib/python3.10/dist-packages (from transformers) (3.15.4)\n",
      "Requirement already satisfied: huggingface-hub<1.0,>=0.23.2 in /usr/local/lib/python3.10/dist-packages (from transformers) (0.23.5)\n",
      "Requirement already satisfied: numpy<2.0,>=1.17 in /usr/local/lib/python3.10/dist-packages (from transformers) (1.26.4)\n",
      "Requirement already satisfied: packaging>=20.0 in /usr/local/lib/python3.10/dist-packages (from transformers) (24.1)\n",
      "Requirement already satisfied: pyyaml>=5.1 in /usr/local/lib/python3.10/dist-packages (from transformers) (6.0)\n",
      "Requirement already satisfied: regex!=2019.12.17 in /usr/local/lib/python3.10/dist-packages (from transformers) (2024.5.15)\n",
      "Requirement already satisfied: requests in /usr/local/lib/python3.10/dist-packages (from transformers) (2.31.0)\n",
      "Requirement already satisfied: safetensors>=0.4.1 in /usr/local/lib/python3.10/dist-packages (from transformers) (0.4.3)\n",
      "Requirement already satisfied: tokenizers<0.20,>=0.19 in /usr/local/lib/python3.10/dist-packages (from transformers) (0.19.1)\n",
      "Requirement already satisfied: tqdm>=4.27 in /usr/local/lib/python3.10/dist-packages (from transformers) (4.66.4)\n",
      "Requirement already satisfied: fsspec>=2023.5.0 in /usr/local/lib/python3.10/dist-packages (from huggingface-hub<1.0,>=0.23.2->transformers) (2024.6.1)\n",
      "Requirement already satisfied: typing-extensions>=3.7.4.3 in /usr/local/lib/python3.10/dist-packages (from huggingface-hub<1.0,>=0.23.2->transformers) (4.12.2)\n",
      "Requirement already satisfied: charset-normalizer<4,>=2 in /usr/local/lib/python3.10/dist-packages (from requests->transformers) (3.3.2)\n",
      "Requirement already satisfied: idna<4,>=2.5 in /usr/local/lib/python3.10/dist-packages (from requests->transformers) (3.7)\n",
      "Requirement already satisfied: urllib3<3,>=1.21.1 in /usr/local/lib/python3.10/dist-packages (from requests->transformers) (2.0.7)\n",
      "Requirement already satisfied: certifi>=2017.4.17 in /usr/local/lib/python3.10/dist-packages (from requests->transformers) (2024.7.4)\n"
     ]
    }
   ],
   "source": [
    "!pip install transformers"
   ]
  },
  {
   "cell_type": "code",
   "execution_count": 22,
   "metadata": {
    "executionInfo": {
     "elapsed": 495,
     "status": "ok",
     "timestamp": 1722994789908,
     "user": {
      "displayName": "이승준",
      "userId": "16390288933545134017"
     },
     "user_tz": -540
    },
    "id": "MgGIxTeQfM_d"
   },
   "outputs": [],
   "source": [
    "from transformers import PreTrainedTokenizerFast"
   ]
  },
  {
   "cell_type": "code",
   "execution_count": 23,
   "metadata": {
    "colab": {
     "base_uri": "https://localhost:8080/",
     "height": 135,
     "referenced_widgets": [
      "3c230418bd8f44d592675b2e9a6e1149",
      "1e9e0949bdfd40c7bd54c476c58b0ea0",
      "bd6b0bc8f8da47f39734aa70c8e343e3",
      "fb467ff2e9674d109bee6577e17cd2ef",
      "019baf27efff4d68aa03ec696e1f09c3",
      "85c8a59898b34255bfbbb5e04d2832ef",
      "d441d8b007f04be3937214f0a63736b7",
      "dfa2343f65f6419095c226c49ea66b4c",
      "ec351559b9714d4a8399a465b3902d91",
      "ea5fde791c544d759bb7689a08c2485e",
      "05d1467014bf47d29350983fee71d175",
      "b6e8f6117eb74f2b91904bd443dd9295",
      "9db063691870487e831c09bf6be96a02",
      "f234ca9cf4ab4236a3f7dba257d20191",
      "273a5e2a166446258bd53ccc00e6551c",
      "1c0279a7ef6c4261a0d8b40a795e82d8",
      "802b2945a9354839b3207686d85e827e",
      "1f47e8cdd4ab4934bb25cac184b9f8ad",
      "11bcdf3708c24ca199f9d290ead1bf70",
      "7d615ae7362b4b3ca497600cb0ccf2fa",
      "b010eda56ba24261b8c36fc91da75ff0",
      "4ebd1d200fc34eed8d7784b83b2b22a2"
     ]
    },
    "executionInfo": {
     "elapsed": 6183,
     "status": "ok",
     "timestamp": 1722994886176,
     "user": {
      "displayName": "이승준",
      "userId": "16390288933545134017"
     },
     "user_tz": -540
    },
    "id": "qtB8UmxqffWs",
    "outputId": "f6e8e97b-877c-4363-c6e2-2b9fe38036e8"
   },
   "outputs": [
    {
     "data": {
      "application/vnd.jupyter.widget-view+json": {
       "model_id": "3c230418bd8f44d592675b2e9a6e1149",
       "version_major": 2,
       "version_minor": 0
      },
      "text/plain": [
       "tokenizer.json:   0%|          | 0.00/2.83M [00:00<?, ?B/s]"
      ]
     },
     "metadata": {},
     "output_type": "display_data"
    },
    {
     "data": {
      "application/vnd.jupyter.widget-view+json": {
       "model_id": "b6e8f6117eb74f2b91904bd443dd9295",
       "version_major": 2,
       "version_minor": 0
      },
      "text/plain": [
       "config.json:   0%|          | 0.00/1.00k [00:00<?, ?B/s]"
      ]
     },
     "metadata": {},
     "output_type": "display_data"
    },
    {
     "name": "stderr",
     "output_type": "stream",
     "text": [
      "The tokenizer class you load from this checkpoint is not the same type as the class this function is called from. It may result in unexpected tokenization. \n",
      "The tokenizer class you load from this checkpoint is 'GPT2Tokenizer'. \n",
      "The class this function is called from is 'PreTrainedTokenizerFast'.\n"
     ]
    }
   ],
   "source": [
    "# 사전 학습된 huggingface 의 tokenizer 가져오기\n",
    "tokenizer = PreTrainedTokenizerFast.from_pretrained(\"skt/kogpt2-base-v2\")"
   ]
  },
  {
   "cell_type": "code",
   "execution_count": 24,
   "metadata": {
    "colab": {
     "base_uri": "https://localhost:8080/"
    },
    "executionInfo": {
     "elapsed": 322,
     "status": "ok",
     "timestamp": 1722994934876,
     "user": {
      "displayName": "이승준",
      "userId": "16390288933545134017"
     },
     "user_tz": -540
    },
    "id": "MKHPfBCjf2wW",
    "outputId": "5d97af70-b08e-40fe-c75c-787261c616a7"
   },
   "outputs": [
    {
     "data": {
      "text/plain": [
       "['▁올', '해', '▁휴', '가는', '▁어디로', '▁갈', '까', '요', '?']"
      ]
     },
     "execution_count": 24,
     "metadata": {},
     "output_type": "execute_result"
    }
   ],
   "source": [
    "tokenizer.tokenize(\"올해 휴가는 어디로 갈까요?\")"
   ]
  },
  {
   "cell_type": "markdown",
   "metadata": {
    "id": "A2B6ts8igLQL"
   },
   "source": [
    "* _ 는 띄어쓰기를 의미 (앞 글자와 분리와어 있다)"
   ]
  }
 ],
 "metadata": {
  "colab": {
   "provenance": [
    {
     "file_id": "1dgF0yHHrmkCxce6Z1mXUXFuIpKdO5L3z",
     "timestamp": 1722993519546
    }
   ]
  },
  "kernelspec": {
   "display_name": "Python 3 (ipykernel)",
   "language": "python",
   "name": "python3"
  },
  "language_info": {
   "codemirror_mode": {
    "name": "ipython",
    "version": 3
   },
   "file_extension": ".py",
   "mimetype": "text/x-python",
   "name": "python",
   "nbconvert_exporter": "python",
   "pygments_lexer": "ipython3",
   "version": "3.8.18"
  },
  "widgets": {
   "application/vnd.jupyter.widget-state+json": {
    "019baf27efff4d68aa03ec696e1f09c3": {
     "model_module": "@jupyter-widgets/base",
     "model_module_version": "1.2.0",
     "model_name": "LayoutModel",
     "state": {
      "_model_module": "@jupyter-widgets/base",
      "_model_module_version": "1.2.0",
      "_model_name": "LayoutModel",
      "_view_count": null,
      "_view_module": "@jupyter-widgets/base",
      "_view_module_version": "1.2.0",
      "_view_name": "LayoutView",
      "align_content": null,
      "align_items": null,
      "align_self": null,
      "border": null,
      "bottom": null,
      "display": null,
      "flex": null,
      "flex_flow": null,
      "grid_area": null,
      "grid_auto_columns": null,
      "grid_auto_flow": null,
      "grid_auto_rows": null,
      "grid_column": null,
      "grid_gap": null,
      "grid_row": null,
      "grid_template_areas": null,
      "grid_template_columns": null,
      "grid_template_rows": null,
      "height": null,
      "justify_content": null,
      "justify_items": null,
      "left": null,
      "margin": null,
      "max_height": null,
      "max_width": null,
      "min_height": null,
      "min_width": null,
      "object_fit": null,
      "object_position": null,
      "order": null,
      "overflow": null,
      "overflow_x": null,
      "overflow_y": null,
      "padding": null,
      "right": null,
      "top": null,
      "visibility": null,
      "width": null
     }
    },
    "05d1467014bf47d29350983fee71d175": {
     "model_module": "@jupyter-widgets/controls",
     "model_module_version": "1.5.0",
     "model_name": "DescriptionStyleModel",
     "state": {
      "_model_module": "@jupyter-widgets/controls",
      "_model_module_version": "1.5.0",
      "_model_name": "DescriptionStyleModel",
      "_view_count": null,
      "_view_module": "@jupyter-widgets/base",
      "_view_module_version": "1.2.0",
      "_view_name": "StyleView",
      "description_width": ""
     }
    },
    "11bcdf3708c24ca199f9d290ead1bf70": {
     "model_module": "@jupyter-widgets/base",
     "model_module_version": "1.2.0",
     "model_name": "LayoutModel",
     "state": {
      "_model_module": "@jupyter-widgets/base",
      "_model_module_version": "1.2.0",
      "_model_name": "LayoutModel",
      "_view_count": null,
      "_view_module": "@jupyter-widgets/base",
      "_view_module_version": "1.2.0",
      "_view_name": "LayoutView",
      "align_content": null,
      "align_items": null,
      "align_self": null,
      "border": null,
      "bottom": null,
      "display": null,
      "flex": null,
      "flex_flow": null,
      "grid_area": null,
      "grid_auto_columns": null,
      "grid_auto_flow": null,
      "grid_auto_rows": null,
      "grid_column": null,
      "grid_gap": null,
      "grid_row": null,
      "grid_template_areas": null,
      "grid_template_columns": null,
      "grid_template_rows": null,
      "height": null,
      "justify_content": null,
      "justify_items": null,
      "left": null,
      "margin": null,
      "max_height": null,
      "max_width": null,
      "min_height": null,
      "min_width": null,
      "object_fit": null,
      "object_position": null,
      "order": null,
      "overflow": null,
      "overflow_x": null,
      "overflow_y": null,
      "padding": null,
      "right": null,
      "top": null,
      "visibility": null,
      "width": null
     }
    },
    "1c0279a7ef6c4261a0d8b40a795e82d8": {
     "model_module": "@jupyter-widgets/base",
     "model_module_version": "1.2.0",
     "model_name": "LayoutModel",
     "state": {
      "_model_module": "@jupyter-widgets/base",
      "_model_module_version": "1.2.0",
      "_model_name": "LayoutModel",
      "_view_count": null,
      "_view_module": "@jupyter-widgets/base",
      "_view_module_version": "1.2.0",
      "_view_name": "LayoutView",
      "align_content": null,
      "align_items": null,
      "align_self": null,
      "border": null,
      "bottom": null,
      "display": null,
      "flex": null,
      "flex_flow": null,
      "grid_area": null,
      "grid_auto_columns": null,
      "grid_auto_flow": null,
      "grid_auto_rows": null,
      "grid_column": null,
      "grid_gap": null,
      "grid_row": null,
      "grid_template_areas": null,
      "grid_template_columns": null,
      "grid_template_rows": null,
      "height": null,
      "justify_content": null,
      "justify_items": null,
      "left": null,
      "margin": null,
      "max_height": null,
      "max_width": null,
      "min_height": null,
      "min_width": null,
      "object_fit": null,
      "object_position": null,
      "order": null,
      "overflow": null,
      "overflow_x": null,
      "overflow_y": null,
      "padding": null,
      "right": null,
      "top": null,
      "visibility": null,
      "width": null
     }
    },
    "1e9e0949bdfd40c7bd54c476c58b0ea0": {
     "model_module": "@jupyter-widgets/controls",
     "model_module_version": "1.5.0",
     "model_name": "HTMLModel",
     "state": {
      "_dom_classes": [],
      "_model_module": "@jupyter-widgets/controls",
      "_model_module_version": "1.5.0",
      "_model_name": "HTMLModel",
      "_view_count": null,
      "_view_module": "@jupyter-widgets/controls",
      "_view_module_version": "1.5.0",
      "_view_name": "HTMLView",
      "description": "",
      "description_tooltip": null,
      "layout": "IPY_MODEL_85c8a59898b34255bfbbb5e04d2832ef",
      "placeholder": "​",
      "style": "IPY_MODEL_d441d8b007f04be3937214f0a63736b7",
      "value": "tokenizer.json: 100%"
     }
    },
    "1f47e8cdd4ab4934bb25cac184b9f8ad": {
     "model_module": "@jupyter-widgets/controls",
     "model_module_version": "1.5.0",
     "model_name": "DescriptionStyleModel",
     "state": {
      "_model_module": "@jupyter-widgets/controls",
      "_model_module_version": "1.5.0",
      "_model_name": "DescriptionStyleModel",
      "_view_count": null,
      "_view_module": "@jupyter-widgets/base",
      "_view_module_version": "1.2.0",
      "_view_name": "StyleView",
      "description_width": ""
     }
    },
    "273a5e2a166446258bd53ccc00e6551c": {
     "model_module": "@jupyter-widgets/controls",
     "model_module_version": "1.5.0",
     "model_name": "HTMLModel",
     "state": {
      "_dom_classes": [],
      "_model_module": "@jupyter-widgets/controls",
      "_model_module_version": "1.5.0",
      "_model_name": "HTMLModel",
      "_view_count": null,
      "_view_module": "@jupyter-widgets/controls",
      "_view_module_version": "1.5.0",
      "_view_name": "HTMLView",
      "description": "",
      "description_tooltip": null,
      "layout": "IPY_MODEL_b010eda56ba24261b8c36fc91da75ff0",
      "placeholder": "​",
      "style": "IPY_MODEL_4ebd1d200fc34eed8d7784b83b2b22a2",
      "value": " 1.00k/1.00k [00:00&lt;00:00, 9.52kB/s]"
     }
    },
    "3c230418bd8f44d592675b2e9a6e1149": {
     "model_module": "@jupyter-widgets/controls",
     "model_module_version": "1.5.0",
     "model_name": "HBoxModel",
     "state": {
      "_dom_classes": [],
      "_model_module": "@jupyter-widgets/controls",
      "_model_module_version": "1.5.0",
      "_model_name": "HBoxModel",
      "_view_count": null,
      "_view_module": "@jupyter-widgets/controls",
      "_view_module_version": "1.5.0",
      "_view_name": "HBoxView",
      "box_style": "",
      "children": [
       "IPY_MODEL_1e9e0949bdfd40c7bd54c476c58b0ea0",
       "IPY_MODEL_bd6b0bc8f8da47f39734aa70c8e343e3",
       "IPY_MODEL_fb467ff2e9674d109bee6577e17cd2ef"
      ],
      "layout": "IPY_MODEL_019baf27efff4d68aa03ec696e1f09c3"
     }
    },
    "4ebd1d200fc34eed8d7784b83b2b22a2": {
     "model_module": "@jupyter-widgets/controls",
     "model_module_version": "1.5.0",
     "model_name": "DescriptionStyleModel",
     "state": {
      "_model_module": "@jupyter-widgets/controls",
      "_model_module_version": "1.5.0",
      "_model_name": "DescriptionStyleModel",
      "_view_count": null,
      "_view_module": "@jupyter-widgets/base",
      "_view_module_version": "1.2.0",
      "_view_name": "StyleView",
      "description_width": ""
     }
    },
    "7d615ae7362b4b3ca497600cb0ccf2fa": {
     "model_module": "@jupyter-widgets/controls",
     "model_module_version": "1.5.0",
     "model_name": "ProgressStyleModel",
     "state": {
      "_model_module": "@jupyter-widgets/controls",
      "_model_module_version": "1.5.0",
      "_model_name": "ProgressStyleModel",
      "_view_count": null,
      "_view_module": "@jupyter-widgets/base",
      "_view_module_version": "1.2.0",
      "_view_name": "StyleView",
      "bar_color": null,
      "description_width": ""
     }
    },
    "802b2945a9354839b3207686d85e827e": {
     "model_module": "@jupyter-widgets/base",
     "model_module_version": "1.2.0",
     "model_name": "LayoutModel",
     "state": {
      "_model_module": "@jupyter-widgets/base",
      "_model_module_version": "1.2.0",
      "_model_name": "LayoutModel",
      "_view_count": null,
      "_view_module": "@jupyter-widgets/base",
      "_view_module_version": "1.2.0",
      "_view_name": "LayoutView",
      "align_content": null,
      "align_items": null,
      "align_self": null,
      "border": null,
      "bottom": null,
      "display": null,
      "flex": null,
      "flex_flow": null,
      "grid_area": null,
      "grid_auto_columns": null,
      "grid_auto_flow": null,
      "grid_auto_rows": null,
      "grid_column": null,
      "grid_gap": null,
      "grid_row": null,
      "grid_template_areas": null,
      "grid_template_columns": null,
      "grid_template_rows": null,
      "height": null,
      "justify_content": null,
      "justify_items": null,
      "left": null,
      "margin": null,
      "max_height": null,
      "max_width": null,
      "min_height": null,
      "min_width": null,
      "object_fit": null,
      "object_position": null,
      "order": null,
      "overflow": null,
      "overflow_x": null,
      "overflow_y": null,
      "padding": null,
      "right": null,
      "top": null,
      "visibility": null,
      "width": null
     }
    },
    "85c8a59898b34255bfbbb5e04d2832ef": {
     "model_module": "@jupyter-widgets/base",
     "model_module_version": "1.2.0",
     "model_name": "LayoutModel",
     "state": {
      "_model_module": "@jupyter-widgets/base",
      "_model_module_version": "1.2.0",
      "_model_name": "LayoutModel",
      "_view_count": null,
      "_view_module": "@jupyter-widgets/base",
      "_view_module_version": "1.2.0",
      "_view_name": "LayoutView",
      "align_content": null,
      "align_items": null,
      "align_self": null,
      "border": null,
      "bottom": null,
      "display": null,
      "flex": null,
      "flex_flow": null,
      "grid_area": null,
      "grid_auto_columns": null,
      "grid_auto_flow": null,
      "grid_auto_rows": null,
      "grid_column": null,
      "grid_gap": null,
      "grid_row": null,
      "grid_template_areas": null,
      "grid_template_columns": null,
      "grid_template_rows": null,
      "height": null,
      "justify_content": null,
      "justify_items": null,
      "left": null,
      "margin": null,
      "max_height": null,
      "max_width": null,
      "min_height": null,
      "min_width": null,
      "object_fit": null,
      "object_position": null,
      "order": null,
      "overflow": null,
      "overflow_x": null,
      "overflow_y": null,
      "padding": null,
      "right": null,
      "top": null,
      "visibility": null,
      "width": null
     }
    },
    "9db063691870487e831c09bf6be96a02": {
     "model_module": "@jupyter-widgets/controls",
     "model_module_version": "1.5.0",
     "model_name": "HTMLModel",
     "state": {
      "_dom_classes": [],
      "_model_module": "@jupyter-widgets/controls",
      "_model_module_version": "1.5.0",
      "_model_name": "HTMLModel",
      "_view_count": null,
      "_view_module": "@jupyter-widgets/controls",
      "_view_module_version": "1.5.0",
      "_view_name": "HTMLView",
      "description": "",
      "description_tooltip": null,
      "layout": "IPY_MODEL_802b2945a9354839b3207686d85e827e",
      "placeholder": "​",
      "style": "IPY_MODEL_1f47e8cdd4ab4934bb25cac184b9f8ad",
      "value": "config.json: 100%"
     }
    },
    "b010eda56ba24261b8c36fc91da75ff0": {
     "model_module": "@jupyter-widgets/base",
     "model_module_version": "1.2.0",
     "model_name": "LayoutModel",
     "state": {
      "_model_module": "@jupyter-widgets/base",
      "_model_module_version": "1.2.0",
      "_model_name": "LayoutModel",
      "_view_count": null,
      "_view_module": "@jupyter-widgets/base",
      "_view_module_version": "1.2.0",
      "_view_name": "LayoutView",
      "align_content": null,
      "align_items": null,
      "align_self": null,
      "border": null,
      "bottom": null,
      "display": null,
      "flex": null,
      "flex_flow": null,
      "grid_area": null,
      "grid_auto_columns": null,
      "grid_auto_flow": null,
      "grid_auto_rows": null,
      "grid_column": null,
      "grid_gap": null,
      "grid_row": null,
      "grid_template_areas": null,
      "grid_template_columns": null,
      "grid_template_rows": null,
      "height": null,
      "justify_content": null,
      "justify_items": null,
      "left": null,
      "margin": null,
      "max_height": null,
      "max_width": null,
      "min_height": null,
      "min_width": null,
      "object_fit": null,
      "object_position": null,
      "order": null,
      "overflow": null,
      "overflow_x": null,
      "overflow_y": null,
      "padding": null,
      "right": null,
      "top": null,
      "visibility": null,
      "width": null
     }
    },
    "b6e8f6117eb74f2b91904bd443dd9295": {
     "model_module": "@jupyter-widgets/controls",
     "model_module_version": "1.5.0",
     "model_name": "HBoxModel",
     "state": {
      "_dom_classes": [],
      "_model_module": "@jupyter-widgets/controls",
      "_model_module_version": "1.5.0",
      "_model_name": "HBoxModel",
      "_view_count": null,
      "_view_module": "@jupyter-widgets/controls",
      "_view_module_version": "1.5.0",
      "_view_name": "HBoxView",
      "box_style": "",
      "children": [
       "IPY_MODEL_9db063691870487e831c09bf6be96a02",
       "IPY_MODEL_f234ca9cf4ab4236a3f7dba257d20191",
       "IPY_MODEL_273a5e2a166446258bd53ccc00e6551c"
      ],
      "layout": "IPY_MODEL_1c0279a7ef6c4261a0d8b40a795e82d8"
     }
    },
    "bd6b0bc8f8da47f39734aa70c8e343e3": {
     "model_module": "@jupyter-widgets/controls",
     "model_module_version": "1.5.0",
     "model_name": "FloatProgressModel",
     "state": {
      "_dom_classes": [],
      "_model_module": "@jupyter-widgets/controls",
      "_model_module_version": "1.5.0",
      "_model_name": "FloatProgressModel",
      "_view_count": null,
      "_view_module": "@jupyter-widgets/controls",
      "_view_module_version": "1.5.0",
      "_view_name": "ProgressView",
      "bar_style": "success",
      "description": "",
      "description_tooltip": null,
      "layout": "IPY_MODEL_dfa2343f65f6419095c226c49ea66b4c",
      "max": 2825034,
      "min": 0,
      "orientation": "horizontal",
      "style": "IPY_MODEL_ec351559b9714d4a8399a465b3902d91",
      "value": 2825034
     }
    },
    "d441d8b007f04be3937214f0a63736b7": {
     "model_module": "@jupyter-widgets/controls",
     "model_module_version": "1.5.0",
     "model_name": "DescriptionStyleModel",
     "state": {
      "_model_module": "@jupyter-widgets/controls",
      "_model_module_version": "1.5.0",
      "_model_name": "DescriptionStyleModel",
      "_view_count": null,
      "_view_module": "@jupyter-widgets/base",
      "_view_module_version": "1.2.0",
      "_view_name": "StyleView",
      "description_width": ""
     }
    },
    "dfa2343f65f6419095c226c49ea66b4c": {
     "model_module": "@jupyter-widgets/base",
     "model_module_version": "1.2.0",
     "model_name": "LayoutModel",
     "state": {
      "_model_module": "@jupyter-widgets/base",
      "_model_module_version": "1.2.0",
      "_model_name": "LayoutModel",
      "_view_count": null,
      "_view_module": "@jupyter-widgets/base",
      "_view_module_version": "1.2.0",
      "_view_name": "LayoutView",
      "align_content": null,
      "align_items": null,
      "align_self": null,
      "border": null,
      "bottom": null,
      "display": null,
      "flex": null,
      "flex_flow": null,
      "grid_area": null,
      "grid_auto_columns": null,
      "grid_auto_flow": null,
      "grid_auto_rows": null,
      "grid_column": null,
      "grid_gap": null,
      "grid_row": null,
      "grid_template_areas": null,
      "grid_template_columns": null,
      "grid_template_rows": null,
      "height": null,
      "justify_content": null,
      "justify_items": null,
      "left": null,
      "margin": null,
      "max_height": null,
      "max_width": null,
      "min_height": null,
      "min_width": null,
      "object_fit": null,
      "object_position": null,
      "order": null,
      "overflow": null,
      "overflow_x": null,
      "overflow_y": null,
      "padding": null,
      "right": null,
      "top": null,
      "visibility": null,
      "width": null
     }
    },
    "ea5fde791c544d759bb7689a08c2485e": {
     "model_module": "@jupyter-widgets/base",
     "model_module_version": "1.2.0",
     "model_name": "LayoutModel",
     "state": {
      "_model_module": "@jupyter-widgets/base",
      "_model_module_version": "1.2.0",
      "_model_name": "LayoutModel",
      "_view_count": null,
      "_view_module": "@jupyter-widgets/base",
      "_view_module_version": "1.2.0",
      "_view_name": "LayoutView",
      "align_content": null,
      "align_items": null,
      "align_self": null,
      "border": null,
      "bottom": null,
      "display": null,
      "flex": null,
      "flex_flow": null,
      "grid_area": null,
      "grid_auto_columns": null,
      "grid_auto_flow": null,
      "grid_auto_rows": null,
      "grid_column": null,
      "grid_gap": null,
      "grid_row": null,
      "grid_template_areas": null,
      "grid_template_columns": null,
      "grid_template_rows": null,
      "height": null,
      "justify_content": null,
      "justify_items": null,
      "left": null,
      "margin": null,
      "max_height": null,
      "max_width": null,
      "min_height": null,
      "min_width": null,
      "object_fit": null,
      "object_position": null,
      "order": null,
      "overflow": null,
      "overflow_x": null,
      "overflow_y": null,
      "padding": null,
      "right": null,
      "top": null,
      "visibility": null,
      "width": null
     }
    },
    "ec351559b9714d4a8399a465b3902d91": {
     "model_module": "@jupyter-widgets/controls",
     "model_module_version": "1.5.0",
     "model_name": "ProgressStyleModel",
     "state": {
      "_model_module": "@jupyter-widgets/controls",
      "_model_module_version": "1.5.0",
      "_model_name": "ProgressStyleModel",
      "_view_count": null,
      "_view_module": "@jupyter-widgets/base",
      "_view_module_version": "1.2.0",
      "_view_name": "StyleView",
      "bar_color": null,
      "description_width": ""
     }
    },
    "f234ca9cf4ab4236a3f7dba257d20191": {
     "model_module": "@jupyter-widgets/controls",
     "model_module_version": "1.5.0",
     "model_name": "FloatProgressModel",
     "state": {
      "_dom_classes": [],
      "_model_module": "@jupyter-widgets/controls",
      "_model_module_version": "1.5.0",
      "_model_name": "FloatProgressModel",
      "_view_count": null,
      "_view_module": "@jupyter-widgets/controls",
      "_view_module_version": "1.5.0",
      "_view_name": "ProgressView",
      "bar_style": "success",
      "description": "",
      "description_tooltip": null,
      "layout": "IPY_MODEL_11bcdf3708c24ca199f9d290ead1bf70",
      "max": 1000,
      "min": 0,
      "orientation": "horizontal",
      "style": "IPY_MODEL_7d615ae7362b4b3ca497600cb0ccf2fa",
      "value": 1000
     }
    },
    "fb467ff2e9674d109bee6577e17cd2ef": {
     "model_module": "@jupyter-widgets/controls",
     "model_module_version": "1.5.0",
     "model_name": "HTMLModel",
     "state": {
      "_dom_classes": [],
      "_model_module": "@jupyter-widgets/controls",
      "_model_module_version": "1.5.0",
      "_model_name": "HTMLModel",
      "_view_count": null,
      "_view_module": "@jupyter-widgets/controls",
      "_view_module_version": "1.5.0",
      "_view_name": "HTMLView",
      "description": "",
      "description_tooltip": null,
      "layout": "IPY_MODEL_ea5fde791c544d759bb7689a08c2485e",
      "placeholder": "​",
      "style": "IPY_MODEL_05d1467014bf47d29350983fee71d175",
      "value": " 2.83M/2.83M [00:00&lt;00:00, 4.25MB/s]"
     }
    }
   }
  }
 },
 "nbformat": 4,
 "nbformat_minor": 4
}
