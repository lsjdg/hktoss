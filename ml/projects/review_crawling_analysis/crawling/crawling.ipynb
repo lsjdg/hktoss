{
 "cells": [
  {
   "cell_type": "code",
   "execution_count": 43,
   "id": "348c430b-5c54-4f4f-ad40-60e47546440d",
   "metadata": {},
   "outputs": [],
   "source": [
    "import requests\n",
    "\n",
    "REST_API_KEY = '2fa4da0b370eee3234c565b78ecff325'\n",
    "# url 의 ? 뒤쪽은 쿼리 파라미터\n",
    "# keyword의 주변 반경 1km 내의 맛집 찾기\n",
    "KEYWORD_LOCAL_URL = 'https://dapi.kakao.com/v2/local/search/keyword.json?query={}&radius=1000'\n",
    "\n",
    "keywords=['서울역', '홍대입구역']"
   ]
  },
  {
   "cell_type": "code",
   "execution_count": 38,
   "id": "2498a9cb-eade-48bb-8b05-a4aa6828b4bb",
   "metadata": {},
   "outputs": [
    {
     "data": {
      "text/plain": [
       "<Response [200]>"
      ]
     },
     "execution_count": 38,
     "metadata": {},
     "output_type": "execute_result"
    }
   ],
   "source": [
    "# header 에 인증 정보 추가 (안하면 401 error)\n",
    "headers = {\n",
    "    'Authorization' : f'KakaoAK {REST_API_KEY}'\n",
    "}\n",
    "response = requests.get(KEYWORD_LOCAL_URL.format(keywords[0] + '맛집'), headers=headers)\n",
    "response"
   ]
  },
  {
   "cell_type": "code",
   "execution_count": 39,
   "id": "87c3a170-c914-4eec-9bb8-1bc7e7644c10",
   "metadata": {},
   "outputs": [
    {
     "data": {
      "text/plain": [
       "[{'address_name': '서울 중구 만리동1가 53-8',\n",
       "  'category_group_code': 'FD6',\n",
       "  'category_group_name': '음식점',\n",
       "  'category_name': '음식점 > 일식 > 일본식라면',\n",
       "  'distance': '',\n",
       "  'id': '469577034',\n",
       "  'phone': '070-4177-0365',\n",
       "  'place_name': '유즈라멘 만리동점',\n",
       "  'place_url': 'http://place.map.kakao.com/469577034',\n",
       "  'road_address_name': '서울 중구 만리재로 217',\n",
       "  'x': '126.96823844833658',\n",
       "  'y': '37.556815391728634'},\n",
       " {'address_name': '서울 중구 만리동1가 62-16',\n",
       "  'category_group_code': 'CE7',\n",
       "  'category_group_name': '카페',\n",
       "  'category_name': '음식점 > 카페',\n",
       "  'distance': '',\n",
       "  'id': '1769574951',\n",
       "  'phone': '02-365-1932',\n",
       "  'place_name': '더하우스1932',\n",
       "  'place_url': 'http://place.map.kakao.com/1769574951',\n",
       "  'road_address_name': '서울 중구 만리재로35길 7',\n",
       "  'x': '126.967378869803',\n",
       "  'y': '37.5555429489062'},\n",
       " {'address_name': '서울 중구 만리동1가 62-11',\n",
       "  'category_group_code': 'FD6',\n",
       "  'category_group_name': '음식점',\n",
       "  'category_name': '음식점 > 양식',\n",
       "  'distance': '',\n",
       "  'id': '1646052453',\n",
       "  'phone': '02-393-1824',\n",
       "  'place_name': '만리재비스트로',\n",
       "  'place_url': 'http://place.map.kakao.com/1646052453',\n",
       "  'road_address_name': '서울 중구 만리재로 201',\n",
       "  'x': '126.967831535859',\n",
       "  'y': '37.5556079449278'},\n",
       " {'address_name': '서울 중구 만리동1가 34',\n",
       "  'category_group_code': 'FD6',\n",
       "  'category_group_name': '음식점',\n",
       "  'category_name': '음식점 > 한식 > 육류,고기 > 삼겹살',\n",
       "  'distance': '',\n",
       "  'id': '221927024',\n",
       "  'phone': '',\n",
       "  'place_name': '국민회관',\n",
       "  'place_url': 'http://place.map.kakao.com/221927024',\n",
       "  'road_address_name': '서울 중구 만리재로 209-2',\n",
       "  'x': '126.96811874112136',\n",
       "  'y': '37.55620808718745'},\n",
       " {'address_name': '서울 중구 중림동 61-4',\n",
       "  'category_group_code': 'FD6',\n",
       "  'category_group_name': '음식점',\n",
       "  'category_name': '음식점 > 한식 > 육류,고기 > 닭요리',\n",
       "  'distance': '',\n",
       "  'id': '27276847',\n",
       "  'phone': '02-392-0695',\n",
       "  'place_name': '호수집 원조닭꼬치',\n",
       "  'place_url': 'http://place.map.kakao.com/27276847',\n",
       "  'road_address_name': '서울 중구 청파로 443',\n",
       "  'x': '126.968681156219',\n",
       "  'y': '37.5590607950843'},\n",
       " {'address_name': '서울 중구 만리동1가 62-27',\n",
       "  'category_group_code': 'FD6',\n",
       "  'category_group_name': '음식점',\n",
       "  'category_name': '음식점 > 한식',\n",
       "  'distance': '',\n",
       "  'id': '1541595421',\n",
       "  'phone': '02-313-7207',\n",
       "  'place_name': '공일부엌',\n",
       "  'place_url': 'http://place.map.kakao.com/1541595421',\n",
       "  'road_address_name': '서울 중구 만리재로 209',\n",
       "  'x': '126.968211615393',\n",
       "  'y': '37.5560405266924'},\n",
       " {'address_name': '서울 중구 중림동 200',\n",
       "  'category_group_code': 'FD6',\n",
       "  'category_group_name': '음식점',\n",
       "  'category_name': '음식점 > 한식 > 육류,고기',\n",
       "  'distance': '',\n",
       "  'id': '26939037',\n",
       "  'phone': '02-392-8592',\n",
       "  'place_name': '두툼',\n",
       "  'place_url': 'http://place.map.kakao.com/26939037',\n",
       "  'road_address_name': '서울 중구 중림로 10',\n",
       "  'x': '126.966205121367',\n",
       "  'y': '37.5583573345869'},\n",
       " {'address_name': '서울 용산구 후암동 439-19',\n",
       "  'category_group_code': 'FD6',\n",
       "  'category_group_name': '음식점',\n",
       "  'category_name': '음식점 > 퓨전요리 > 퓨전한식',\n",
       "  'distance': '',\n",
       "  'id': '27270808',\n",
       "  'phone': '02-772-9463',\n",
       "  'place_name': '도동집',\n",
       "  'place_url': 'http://place.map.kakao.com/27270808',\n",
       "  'road_address_name': '서울 용산구 후암로48길 1',\n",
       "  'x': '126.9768047948429',\n",
       "  'y': '37.55284578740163'},\n",
       " {'address_name': '서울 중구 중림동 468',\n",
       "  'category_group_code': 'FD6',\n",
       "  'category_group_name': '음식점',\n",
       "  'category_name': '음식점 > 한식 > 설렁탕',\n",
       "  'distance': '',\n",
       "  'id': '8079539',\n",
       "  'phone': '02-392-7743',\n",
       "  'place_name': '중림장',\n",
       "  'place_url': 'http://place.map.kakao.com/8079539',\n",
       "  'road_address_name': '서울 중구 청파로 459-1',\n",
       "  'x': '126.96773219560939',\n",
       "  'y': '37.56027147946778'},\n",
       " {'address_name': '서울 중구 만리동1가 62-1',\n",
       "  'category_group_code': 'FD6',\n",
       "  'category_group_name': '음식점',\n",
       "  'category_name': '음식점 > 양식',\n",
       "  'distance': '',\n",
       "  'id': '1981716686',\n",
       "  'phone': '',\n",
       "  'place_name': '서울부띠끄',\n",
       "  'place_url': 'http://place.map.kakao.com/1981716686',\n",
       "  'road_address_name': '서울 중구 만리재로 209-1',\n",
       "  'x': '126.96822969267',\n",
       "  'y': '37.556112611359'},\n",
       " {'address_name': '서울 용산구 동자동 9-4',\n",
       "  'category_group_code': 'FD6',\n",
       "  'category_group_name': '음식점',\n",
       "  'category_name': '음식점 > 중식 > 중국요리',\n",
       "  'distance': '',\n",
       "  'id': '15620998',\n",
       "  'phone': '02-777-5558',\n",
       "  'place_name': '태향',\n",
       "  'place_url': 'http://place.map.kakao.com/15620998',\n",
       "  'road_address_name': '서울 용산구 후암로57길 3-10',\n",
       "  'x': '126.974645414975',\n",
       "  'y': '37.5531624947533'},\n",
       " {'address_name': '서울 중구 남대문로5가 541',\n",
       "  'category_group_code': 'FD6',\n",
       "  'category_group_name': '음식점',\n",
       "  'category_name': '음식점 > 중식',\n",
       "  'distance': '',\n",
       "  'id': '13499824',\n",
       "  'phone': '02-6456-8911',\n",
       "  'place_name': '루싱',\n",
       "  'place_url': 'http://place.map.kakao.com/13499824',\n",
       "  'road_address_name': '서울 중구 한강대로 416',\n",
       "  'x': '126.973784479223',\n",
       "  'y': '37.5555733768187'},\n",
       " {'address_name': '서울 중구 남창동 60-2',\n",
       "  'category_group_code': 'FD6',\n",
       "  'category_group_name': '음식점',\n",
       "  'category_name': '음식점 > 분식',\n",
       "  'distance': '',\n",
       "  'id': '11486129',\n",
       "  'phone': '02-755-2569',\n",
       "  'place_name': '가메골손왕만두 남대문본점',\n",
       "  'place_url': 'http://place.map.kakao.com/11486129',\n",
       "  'road_address_name': '서울 중구 남대문시장4길 42',\n",
       "  'x': '126.97711545793453',\n",
       "  'y': '37.55835454736746'},\n",
       " {'address_name': '서울 중구 남대문로5가 6-10',\n",
       "  'category_group_code': 'FD6',\n",
       "  'category_group_name': '음식점',\n",
       "  'category_name': '음식점 > 한식 > 해물,생선 > 매운탕,해물탕',\n",
       "  'distance': '',\n",
       "  'id': '8264239',\n",
       "  'phone': '02-775-9331',\n",
       "  'place_name': '동강나루터',\n",
       "  'place_url': 'http://place.map.kakao.com/8264239',\n",
       "  'road_address_name': '서울 중구 세종대로1길 6',\n",
       "  'x': '126.97301846582216',\n",
       "  'y': '37.55823655256039'},\n",
       " {'address_name': '서울 중구 남대문로5가 84-9',\n",
       "  'category_group_code': 'FD6',\n",
       "  'category_group_name': '음식점',\n",
       "  'category_name': '음식점 > 한식 > 육류,고기',\n",
       "  'distance': '',\n",
       "  'id': '412548224',\n",
       "  'phone': '02-776-6252',\n",
       "  'place_name': '풍문고기집',\n",
       "  'place_url': 'http://place.map.kakao.com/412548224',\n",
       "  'road_address_name': '서울 중구 세종대로2길 6-1',\n",
       "  'x': '126.973684166641',\n",
       "  'y': '37.5576204206984'}]"
      ]
     },
     "execution_count": 39,
     "metadata": {},
     "output_type": "execute_result"
    }
   ],
   "source": [
    "# 카카오에서 JSON으로 데이터를 준다는 것을 알고 있음\n",
    "# content 말고 json()으로 바로 뽑아올 수 있다\n",
    "\n",
    "data = response.json()['documents'] # 장소 정보를 가져옴\n",
    "data"
   ]
  },
  {
   "cell_type": "code",
   "execution_count": 29,
   "id": "1500f5ac-9dfe-42fa-af4b-e942267be09f",
   "metadata": {},
   "outputs": [
    {
     "data": {
      "text/plain": [
       "\n",
       "<!DOCTYPE html>\n",
       "\n",
       "<html lang=\"ko\">\n",
       "<head>\n",
       "<meta charset=\"utf-8\"/>\n",
       "<title>유즈라멘 만리동점 | 카카오맵</title>\n",
       "<meta content=\"유즈라멘 만리동점\" property=\"og:title\"/>\n",
       "<meta content=\"카카오맵\" property=\"og:site_name\"/>\n",
       "<meta content=\"서울 중구 만리재로 217 경김회관 1층 (만리동1가 53-8)\" property=\"og:description\"/>\n",
       "<meta content=\"website\" property=\"og:type\"/>\n",
       "<meta content=\"http://map3.daum.net/staticmap/og?type=place&amp;srs=wcongnamul&amp;size=400x200&amp;m=492984%2C1127026&amp;service=placeweb\" property=\"og:image\"/>\n",
       "<meta content=\"https://place.map.kakao.com/m/469577034\" property=\"og:url\"/>\n",
       "<meta content=\"summary_large_image\" name=\"twitter:card\"/>\n",
       "<meta content=\"유즈라멘 만리동점\" name=\"twitter:title\"/>\n",
       "<meta content=\"서울 중구 만리재로 217 경김회관 1층 (만리동1가 53-8)\" name=\"twitter:description\"/>\n",
       "<meta content=\"http://map3.daum.net/staticmap/og?type=place&amp;srs=wcongnamul&amp;size=400x200&amp;m=492984%2C1127026&amp;service=placeweb\" name=\"twitter:image\"/>\n",
       "<meta content=\"user-scalable=no, initial-scale=1.0, maximum-scale=1.0, minimum-scale=1.0, width=device-width\" name=\"viewport\"/>\n",
       "<meta content=\"telephone=no\" name=\"format-detection\"/>\n",
       "<link href=\"//t1.daumcdn.net/localimg/localimages/07/common/kakaomap_favicon.ico\" rel=\"shortcut icon\"/>\n",
       "<link href=\"//t1.daumcdn.net/kakaomapweb/place/jscss/mobile.4a3c856b.css\" rel=\"stylesheet\" type=\"text/css\">\n",
       "</link></head>\n",
       "<body data-os=\"unknown\">\n",
       "<div id=\"kakaoIndex\">\n",
       "<a href=\"#kakaoGnb\">메뉴 바로가기</a>\n",
       "<a href=\"#kakaoContent\">본문 바로가기</a>\n",
       "</div>\n",
       "<div class=\"map_detail\" id=\"kakaoWrap\" style=\"display: none;\">\n",
       "<div class=\"floating_bnr hide\" data-root=\"\" data-viewid=\"leverageBanner\">\n",
       "<div class=\"inner_floating\">\n",
       "<a class=\"link_floating\" data-logevent=\"gotoapp,detailinfo,floating-button\" href=\"#none\">\n",
       "<span class=\"ico_comm_fgm ico_kakaomap\">kakaomap</span> <span class=\"txt_floating\">앱 열기</span>\n",
       "</a>\n",
       "<a class=\"btn_close\" href=\"#none\"><span class=\"ico_comm_fgm ico_close\">플로팅 배너 닫기</span></a>\n",
       "</div>\n",
       "</div>\n",
       "<hr class=\"hide\"/>\n",
       "<div data-root=\"\" data-viewid=\"footer\">\n",
       "<span class=\"info_revise\">\n",
       "            업데이트 2024.06.28.\n",
       "        </span>\n",
       "<div class=\"cont_footer\" id=\"footContent\">\n",
       "<a class=\"link_sresult\" data-logevent=\"searchlist\" data-logtarget=\"\" href=\"//m.search.daum.net/search?q=%EC%9C%A0%EC%A6%88%EB%9D%BC%EB%A9%98+%EB%A7%8C%EB%A6%AC%EB%8F%99%EC%A0%90\">Kakao 검색결과</a>\n",
       "<span class=\"link_rectify\" style=\"color:#ddd;\">정보 수정 제안</span>\n",
       "<a class=\"link_gotop\" data-logevent=\"gotop\" data-logtarget=\"\" href=\"#none\"><span class=\"ico_comm ico_gotop\"></span>맨위로</a>\n",
       "</div>\n",
       "<footer class=\"k_foot\" id=\"kakaoFoot\">\n",
       "<small class=\"copr_info\">\n",
       "<a class=\"link_kakaocorp\" data-logevent=\"footer,copyright\" data-logtarget=\"\" href=\"http://m.kakaocorp.com/main\"><span class=\"ico_copyright\">ⓒ</span>Kakao</a>\n",
       "</small>\n",
       "<div class=\"info_foot\">\n",
       "<a class=\"link_foot\" href=\"https://cs.kakao.com/requests?locale=ko&amp;service=101\">고객센터</a>\n",
       "<span class=\"txt_bar\">|</span>\n",
       "<div id=\"daumMinidaum\"><a class=\"minidaum_login\" data-logevent=\"footer,loginout\" data-logtarget=\"\" href=\"#\"><!-- 로그인/회원가입/로그아웃 --></a></div>\n",
       "</div>\n",
       "</footer>\n",
       "</div>\n",
       "<div class=\"dimmed_layer\" data-root=\"\" data-viewid=\"dimmedLayer\"></div>\n",
       "</div>\n",
       "<div id=\"daumWrap\" style=\"display:none;\">\n",
       "<div id=\"daumContent\">\n",
       "<div id=\"shareContainer\"></div>\n",
       "</div>\n",
       "</div>\n",
       "<script src=\"//ssl.daumcdn.net/dmaps/map_js_init/v3.js\" type=\"text/javascript\"></script>\n",
       "<script src=\"//t1.daumcdn.net/tiara/js/v1/tiara.min.js\" type=\"text/javascript\"></script>\n",
       "<script src=\"//t1.daumcdn.net/daumtop_deco/socialshare/socialshare_mo-2.5.1.js\" type=\"text/javascript\"></script>\n",
       "<script src=\"//m1.daumcdn.net/svc/original/U03/cssjs/userAgent/userAgent-1.0.12.min.js\" type=\"text/javascript\"></script>\n",
       "<script async=\"\" charset=\"utf-8\" src=\"//t1.daumcdn.net/kas/static/ba.min.js\" type=\"text/javascript\"></script>\n",
       "<script>\n",
       "        window.socialshareRenewal = 'undefined' !== typeof socialshareRenewal ? socialshareRenewal : {};\n",
       "\n",
       "        window.ENV = 'PROD';\n",
       "        // 티아라 초기화\n",
       "        try {\n",
       "            TiaraTracker.getInstance().init({\n",
       "                svcDomain: 'm.place.map.kakao.com',\n",
       "                deployment: window.ENV === 'PROD' ? 'production' : 'dev'\n",
       "            });\n",
       "        } catch(e) {}\n",
       "        window._cp = '';\n",
       "        window.placeRestrictType = 'NONE';\n",
       "        window.msaConfigChain = '949d0d4414084edab1da3bd7e8c522c2|5664';\n",
       "    </script>\n",
       "<script src=\"https://t1.daumcdn.net/kakaomapweb/place/lib/Chart_2.4.0.min.js\" type=\"text/javascript\"></script>\n",
       "<script src=\"//t1.daumcdn.net/kakaomapweb/place/jscss/mobile.36659d81.js\" type=\"text/javascript\"></script>\n",
       "<!--\n",
       "    <script type=\"text/javascript\" src=\"//go.daum.net/bin/minidaum_https.cgi?minidaum_mobile=y&js_url=minidaumMobile2011&viewport=320&tracker=off\" charset=\"euc-kr\"></script>\n",
       "    -->\n",
       "</body>\n",
       "</html>"
      ]
     },
     "execution_count": 29,
     "metadata": {},
     "output_type": "execute_result"
    }
   ],
   "source": [
    "from bs4 import BeautifulSoup\n",
    "\n",
    "BeautifulSoup(requests.get(\"https://place.map.kakao.com/m/469577034#comment\").content, 'html.parser')"
   ]
  },
  {
   "cell_type": "markdown",
   "id": "df38c189-2e4e-4a57-bcc8-ae9f4d2e0822",
   "metadata": {},
   "source": [
    "## comment 수집하기"
   ]
  },
  {
   "cell_type": "code",
   "execution_count": null,
   "id": "7efb7a33-5886-47fe-9ac9-4e1f913f3b4c",
   "metadata": {},
   "outputs": [],
   "source": [
    "COMMENT_URL = \"https://place.map.kakao.com/m/commentlist/v/469577034/0?order=USEFUL&onlyPhotoComment=false\"\n",
    "\n",
    "comment_datas = requests.get(COMMENT_URL).json()\n",
    "comment_datas"
   ]
  },
  {
   "cell_type": "code",
   "execution_count": 10,
   "id": "b96ae7ab-c591-4927-8b78-a6487f3042c8",
   "metadata": {},
   "outputs": [],
   "source": [
    "# 각 가게에 부여된 id와 마지막 comment id 를 넣을 수 있게 format 삽입\n",
    "COMMENT_URL = \"https://place.map.kakao.com/m/commentlist/v/{}/{}?order=USEFUL&onlyPhotoComment=false\""
   ]
  },
  {
   "cell_type": "code",
   "execution_count": 31,
   "id": "0c7dd914-fb54-4ac9-ab5d-562b6c1a58ea",
   "metadata": {},
   "outputs": [
    {
     "data": {
      "text/plain": [
       "['469577034',\n",
       " '1769574951',\n",
       " '1646052453',\n",
       " '221927024',\n",
       " '27276847',\n",
       " '1541595421',\n",
       " '26939037',\n",
       " '27270808',\n",
       " '8079539',\n",
       " '1981716686',\n",
       " '15620998',\n",
       " '13499824',\n",
       " '11486129',\n",
       " '8264239',\n",
       " '412548224']"
      ]
     },
     "execution_count": 31,
     "metadata": {},
     "output_type": "execute_result"
    }
   ],
   "source": [
    "# 가게 id 추출\n",
    "ids = [d['id'] for d in data]\n",
    "ids"
   ]
  },
  {
   "cell_type": "code",
   "execution_count": null,
   "id": "4dcb2fe6-bc54-466e-bcf5-1d143f06bdc3",
   "metadata": {},
   "outputs": [],
   "source": [
    "all_comments = []\n",
    "for id in ids:\n",
    "    # 첫 번쨰 코멘트의 id는 무조건 0\n",
    "    comment_id = 0\n",
    "\n",
    "    # has_next가 true 면 마지막 코멘트 id를 새롭게 넣어 계속 크롤링\n",
    "    has_next = True\n",
    "\n",
    "    while has_next:\n",
    "        # 수집해야 할 url 설정\n",
    "        SCRAP_COMMENT_URL = COMMENT_URL.format(id, comment_id)\n",
    "        # 만들어진 url로 요청\n",
    "        response = requests.get(SCRAP_COMMENT_URL)\n",
    "        comment_data = response.json()['comment']\n",
    "        # 댓글 데이터 가져오기\n",
    "        comment_list = comment_data['list']\n",
    "        all_comments.extend(comment_list) # 1차원 배열로 쭉 이어붙이기\n",
    "        # 다음 페이지 존재 여부 확인\n",
    "        has_next = comment_data['hasNext']\n",
    "        # has_next 가 True 인 경우 마지막 코멘트의 id를 comment_id로 설정\n",
    "        if has_next:\n",
    "            comment_id = comment_list[-1]['commentid']\n",
    "\n",
    "        print(comment_list)\n",
    "\n",
    "all_comments\n",
    "        "
   ]
  },
  {
   "cell_type": "code",
   "execution_count": 51,
   "id": "aa3e2853-c674-4bd6-901a-51e71fd51b32",
   "metadata": {
    "scrolled": true
   },
   "outputs": [
    {
     "data": {
      "text/html": [
       "<div>\n",
       "<style scoped>\n",
       "    .dataframe tbody tr th:only-of-type {\n",
       "        vertical-align: middle;\n",
       "    }\n",
       "\n",
       "    .dataframe tbody tr th {\n",
       "        vertical-align: top;\n",
       "    }\n",
       "\n",
       "    .dataframe thead th {\n",
       "        text-align: right;\n",
       "    }\n",
       "</style>\n",
       "<table border=\"1\" class=\"dataframe\">\n",
       "  <thead>\n",
       "    <tr style=\"text-align: right;\">\n",
       "      <th></th>\n",
       "      <th>contents</th>\n",
       "      <th>point</th>\n",
       "    </tr>\n",
       "  </thead>\n",
       "  <tbody>\n",
       "    <tr>\n",
       "      <th>0</th>\n",
       "      <td>개맛있다\\n문제 : 면이 빨리 불어요 어차피 빨리 나오니까 추가할 거면 이따 시키세요</td>\n",
       "      <td>5</td>\n",
       "    </tr>\n",
       "    <tr>\n",
       "      <th>1</th>\n",
       "      <td>정말 맛있어요. \\n일본에서 먹던 맛을 살리면서도 한국인 입맛도 만족시켜주는 곳입니...</td>\n",
       "      <td>5</td>\n",
       "    </tr>\n",
       "    <tr>\n",
       "      <th>2</th>\n",
       "      <td>국물의 깊이, 얇은 면, 향이 진한 차슈, 그외의 토핑들 그리고 무한리필. 저는 이...</td>\n",
       "      <td>5</td>\n",
       "    </tr>\n",
       "    <tr>\n",
       "      <th>3</th>\n",
       "      <td>맛있더라ㅋㅋ 근데 조금 비싸더랑</td>\n",
       "      <td>5</td>\n",
       "    </tr>\n",
       "    <tr>\n",
       "      <th>4</th>\n",
       "      <td>너무 웨이팅이 길어요..노답..</td>\n",
       "      <td>3</td>\n",
       "    </tr>\n",
       "    <tr>\n",
       "      <th>...</th>\n",
       "      <td>...</td>\n",
       "      <td>...</td>\n",
       "    </tr>\n",
       "    <tr>\n",
       "      <th>1431</th>\n",
       "      <td>NaN</td>\n",
       "      <td>4</td>\n",
       "    </tr>\n",
       "    <tr>\n",
       "      <th>1432</th>\n",
       "      <td>NaN</td>\n",
       "      <td>5</td>\n",
       "    </tr>\n",
       "    <tr>\n",
       "      <th>1433</th>\n",
       "      <td>깔끔한 국물의 도동탕면\\n파맛이 느껴지지 않을 정도로 진한 불고기 맛의 불고기파전</td>\n",
       "      <td>4</td>\n",
       "    </tr>\n",
       "    <tr>\n",
       "      <th>1434</th>\n",
       "      <td>깔끔한 맛 도동탕면.\\n비면도 감칠맛 나고 술도 한 잔 해야겠다.</td>\n",
       "      <td>4</td>\n",
       "    </tr>\n",
       "    <tr>\n",
       "      <th>1435</th>\n",
       "      <td>도동삼품 Noodle</td>\n",
       "      <td>3</td>\n",
       "    </tr>\n",
       "  </tbody>\n",
       "</table>\n",
       "<p>1436 rows × 2 columns</p>\n",
       "</div>"
      ],
      "text/plain": [
       "                                               contents  point\n",
       "0       개맛있다\\n문제 : 면이 빨리 불어요 어차피 빨리 나오니까 추가할 거면 이따 시키세요      5\n",
       "1     정말 맛있어요. \\n일본에서 먹던 맛을 살리면서도 한국인 입맛도 만족시켜주는 곳입니...      5\n",
       "2     국물의 깊이, 얇은 면, 향이 진한 차슈, 그외의 토핑들 그리고 무한리필. 저는 이...      5\n",
       "3                                     맛있더라ㅋㅋ 근데 조금 비싸더랑      5\n",
       "4                                     너무 웨이팅이 길어요..노답..      3\n",
       "...                                                 ...    ...\n",
       "1431                                                NaN      4\n",
       "1432                                                NaN      5\n",
       "1433      깔끔한 국물의 도동탕면\\n파맛이 느껴지지 않을 정도로 진한 불고기 맛의 불고기파전      4\n",
       "1434               깔끔한 맛 도동탕면.\\n비면도 감칠맛 나고 술도 한 잔 해야겠다.      4\n",
       "1435                                        도동삼품 Noodle      3\n",
       "\n",
       "[1436 rows x 2 columns]"
      ]
     },
     "execution_count": 51,
     "metadata": {},
     "output_type": "execute_result"
    }
   ],
   "source": [
    "import pandas as pd\n",
    "\n",
    "comment_df = pd.DataFrame(all_comments)\n",
    "comment_df_filtered = comment_df[['contents', 'point']]\n",
    "comment_df_filtered"
   ]
  },
  {
   "cell_type": "code",
   "execution_count": 52,
   "id": "0d35a7a0-f220-49ae-a61e-356060094aa4",
   "metadata": {},
   "outputs": [
    {
     "data": {
      "text/plain": [
       "<Axes: xlabel='point'>"
      ]
     },
     "execution_count": 52,
     "metadata": {},
     "output_type": "execute_result"
    },
    {
     "data": {
      "image/png": "[encoded data removed]",
      "text/plain": [
       "<Figure size 640x480 with 1 Axes>"
      ]
     },
     "metadata": {},
     "output_type": "display_data"
    }
   ],
   "source": [
    "comment_df_filtered['point'].value_counts().plot(kind='bar')"
   ]
  },
  {
   "cell_type": "code",
   "execution_count": 57,
   "id": "e7fdf11e-0e82-4320-96e4-6ae60c6f2443",
   "metadata": {},
   "outputs": [],
   "source": [
    "comment_df_filtered.to_csv('comments.csv', encoding='utf-8', index=False)"
   ]
  },
  {
   "cell_type": "code",
   "execution_count": 60,
   "id": "95d5dbc2-328c-4792-ae28-d5f8919b4571",
   "metadata": {},
   "outputs": [
    {
     "name": "stdout",
     "output_type": "stream",
     "text": [
      "Collecting openpyxl\n",
      "  Downloading openpyxl-3.1.5-py2.py3-none-any.whl.metadata (2.5 kB)\n",
      "Collecting et-xmlfile (from openpyxl)\n",
      "  Downloading et_xmlfile-1.1.0-py3-none-any.whl.metadata (1.8 kB)\n",
      "Downloading openpyxl-3.1.5-py2.py3-none-any.whl (250 kB)\n",
      "   ---------------------------------------- 0.0/250.9 kB ? eta -:--:--\n",
      "   --------------------------------------- 250.9/250.9 kB 15.0 MB/s eta 0:00:00\n",
      "Downloading et_xmlfile-1.1.0-py3-none-any.whl (4.7 kB)\n",
      "Installing collected packages: et-xmlfile, openpyxl\n",
      "Successfully installed et-xmlfile-1.1.0 openpyxl-3.1.5\n",
      "Note: you may need to restart the kernel to use updated packages.\n"
     ]
    }
   ],
   "source": [
    "pip install openpyxl"
   ]
  },
  {
   "cell_type": "code",
   "execution_count": 61,
   "id": "a86a5c97-2c71-422f-bc28-6ca118d7e2c0",
   "metadata": {},
   "outputs": [],
   "source": [
    "comment_df_filtered.to_excel('comments.xlsx', index=False)"
   ]
  },
  {
   "cell_type": "code",
   "execution_count": 69,
   "id": "0558fa71-1424-4b34-b7f9-b226fd9eeb86",
   "metadata": {},
   "outputs": [
    {
     "data": {
      "text/plain": [
       "(1436, 2)"
      ]
     },
     "execution_count": 69,
     "metadata": {},
     "output_type": "execute_result"
    }
   ],
   "source": [
    "seoul = pd.read_csv('data/comments.csv')\n",
    "seoul_df = pd.DataFrame(seoul)\n",
    "seoul_df.shape"
   ]
  },
  {
   "cell_type": "code",
   "execution_count": 70,
   "id": "6211fac5-f001-44ba-bc69-c6aba866713a",
   "metadata": {},
   "outputs": [
    {
     "data": {
      "text/plain": [
       "(3567, 2)"
      ]
     },
     "execution_count": 70,
     "metadata": {},
     "output_type": "execute_result"
    }
   ],
   "source": [
    "hongdae = pd.read_excel('data/hongdae_comments.xlsx')\n",
    "hongdae_df = pd.DataFrame(hongdae)\n",
    "hongdae_df.shape"
   ]
  },
  {
   "cell_type": "code",
   "execution_count": 71,
   "id": "98a0f579-c75b-4c7f-9952-419c6801364d",
   "metadata": {},
   "outputs": [
    {
     "data": {
      "text/plain": [
       "(5003, 2)"
      ]
     },
     "execution_count": 71,
     "metadata": {},
     "output_type": "execute_result"
    }
   ],
   "source": [
    "all_comments = pd.concat([seoul_df, hongdae_df], ignore_index=True)\n",
    "all_comments.shape"
   ]
  },
  {
   "cell_type": "code",
   "execution_count": 72,
   "id": "ca0e948f-6773-4d16-b59d-d28d1ae52f14",
   "metadata": {},
   "outputs": [],
   "source": [
    "all_comments.to_excel('all_comments.xlsx')"
   ]
  },
  {
   "cell_type": "code",
   "execution_count": 73,
   "id": "bc980839-6f5e-4153-a309-2cdfc91b10bf",
   "metadata": {},
   "outputs": [
    {
     "data": {
      "text/plain": [
       "<Axes: xlabel='point'>"
      ]
     },
     "execution_count": 73,
     "metadata": {},
     "output_type": "execute_result"
    },
    {
     "data": {
      "image/png": "[encoded data removed]",
      "text/plain": [
       "<Figure size 640x480 with 1 Axes>"
      ]
     },
     "metadata": {},
     "output_type": "display_data"
    }
   ],
   "source": [
    "all_comments['point'].value_counts().plot(kind='bar')"
   ]
  },
  {
   "cell_type": "code",
   "execution_count": 74,
   "id": "430ddf73-7930-491e-ad17-94818880a1ad",
   "metadata": {},
   "outputs": [
    {
     "data": {
      "text/html": [
       "<div>\n",
       "<style scoped>\n",
       "    .dataframe tbody tr th:only-of-type {\n",
       "        vertical-align: middle;\n",
       "    }\n",
       "\n",
       "    .dataframe tbody tr th {\n",
       "        vertical-align: top;\n",
       "    }\n",
       "\n",
       "    .dataframe thead th {\n",
       "        text-align: right;\n",
       "    }\n",
       "</style>\n",
       "<table border=\"1\" class=\"dataframe\">\n",
       "  <thead>\n",
       "    <tr style=\"text-align: right;\">\n",
       "      <th></th>\n",
       "      <th>contents</th>\n",
       "      <th>point</th>\n",
       "    </tr>\n",
       "  </thead>\n",
       "  <tbody>\n",
       "    <tr>\n",
       "      <th>0</th>\n",
       "      <td>개맛있다\\n문제 : 면이 빨리 불어요 어차피 빨리 나오니까 추가할 거면 이따 시키세요</td>\n",
       "      <td>5</td>\n",
       "    </tr>\n",
       "    <tr>\n",
       "      <th>1</th>\n",
       "      <td>정말 맛있어요. \\n일본에서 먹던 맛을 살리면서도 한국인 입맛도 만족시켜주는 곳입니...</td>\n",
       "      <td>5</td>\n",
       "    </tr>\n",
       "    <tr>\n",
       "      <th>2</th>\n",
       "      <td>국물의 깊이, 얇은 면, 향이 진한 차슈, 그외의 토핑들 그리고 무한리필. 저는 이...</td>\n",
       "      <td>5</td>\n",
       "    </tr>\n",
       "    <tr>\n",
       "      <th>3</th>\n",
       "      <td>맛있더라ㅋㅋ 근데 조금 비싸더랑</td>\n",
       "      <td>5</td>\n",
       "    </tr>\n",
       "    <tr>\n",
       "      <th>4</th>\n",
       "      <td>너무 웨이팅이 길어요..노답..</td>\n",
       "      <td>3</td>\n",
       "    </tr>\n",
       "  </tbody>\n",
       "</table>\n",
       "</div>"
      ],
      "text/plain": [
       "                                            contents  point\n",
       "0    개맛있다\\n문제 : 면이 빨리 불어요 어차피 빨리 나오니까 추가할 거면 이따 시키세요      5\n",
       "1  정말 맛있어요. \\n일본에서 먹던 맛을 살리면서도 한국인 입맛도 만족시켜주는 곳입니...      5\n",
       "2  국물의 깊이, 얇은 면, 향이 진한 차슈, 그외의 토핑들 그리고 무한리필. 저는 이...      5\n",
       "3                                  맛있더라ㅋㅋ 근데 조금 비싸더랑      5\n",
       "4                                  너무 웨이팅이 길어요..노답..      3"
      ]
     },
     "execution_count": 74,
     "metadata": {},
     "output_type": "execute_result"
    }
   ],
   "source": [
    "all_comments.head()"
   ]
  },
  {
   "cell_type": "code",
   "execution_count": null,
   "id": "d579f777-f5bf-4f04-a529-2734be216c3d",
   "metadata": {},
   "outputs": [],
   "source": []
  }
 ],
 "metadata": {
  "kernelspec": {
   "display_name": "Python 3 (ipykernel)",
   "language": "python",
   "name": "python3"
  },
  "language_info": {
   "codemirror_mode": {
    "name": "ipython",
    "version": 3
   },
   "file_extension": ".py",
   "mimetype": "text/x-python",
   "name": "python",
   "nbconvert_exporter": "python",
   "pygments_lexer": "ipython3",
   "version": "3.8.18"
  }
 },
 "nbformat": 4,
 "nbformat_minor": 5
}
