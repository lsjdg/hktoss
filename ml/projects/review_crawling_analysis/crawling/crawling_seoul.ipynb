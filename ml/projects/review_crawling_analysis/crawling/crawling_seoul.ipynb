{
 "cells": [
  {
   "cell_type": "code",
   "execution_count": 71,
   "id": "348c430b-5c54-4f4f-ad40-60e47546440d",
   "metadata": {},
   "outputs": [],
   "source": [
    "import requests\n",
    "\n",
    "REST_API_KEY = '2fa4da0b370eee3234c565b78ecff325'\n",
    "# url 의 ? 뒤쪽은 쿼리 파라미터\n",
    "# keyword의 주변 반경 1km 내의 맛집 찾기\n",
    "KEYWORD_LOCAL_URL = 'https://dapi.kakao.com/v2/local/search/keyword.json?query={}&radius=2000&page={}'\n",
    "\n",
    "keywords=['강남역', '홍대입구역']"
   ]
  },
  {
   "cell_type": "code",
   "execution_count": 72,
   "id": "2498a9cb-eade-48bb-8b05-a4aa6828b4bb",
   "metadata": {},
   "outputs": [],
   "source": [
    "# header 에 인증 정보 추가 (안하면 401 error)\n",
    "headers = {\n",
    "    'Authorization' : f'KakaoAK {REST_API_KEY}'\n",
    "}\n",
    "\n",
    "all_responses = []\n",
    "\n",
    "for keyword in keywords:\n",
    "    for page in range(1, 10):\n",
    "        url = KEYWORD_LOCAL_URL.format(keyword + ' 맛집', page)\n",
    "        response = requests.get(url, headers=headers)\n",
    "    \n",
    "        if response.status_code == 200:\n",
    "            all_responses.append(response.json())\n",
    "        else:\n",
    "            print(f\"Error {response.status_code}: {response.json()}\")"
   ]
  },
  {
   "cell_type": "code",
   "execution_count": 73,
   "id": "e7c29600-24b2-4b2a-ab9d-096542bfc022",
   "metadata": {},
   "outputs": [
    {
     "data": {
      "text/plain": [
       "[{'address_name': '서울 강남구 역삼동 817-31',\n",
       "  'category_group_code': 'FD6',\n",
       "  'category_group_name': '음식점',\n",
       "  'category_name': '음식점 > 아시아음식 > 동남아음식 > 베트남음식',\n",
       "  'distance': '',\n",
       "  'id': '1238400864',\n",
       "  'phone': '02-554-8892',\n",
       "  'place_name': '땀땀',\n",
       "  'place_url': 'http://place.map.kakao.com/1238400864',\n",
       "  'road_address_name': '서울 강남구 강남대로98길 12-5',\n",
       "  'x': '127.0279785223454',\n",
       "  'y': '37.50040282892629'},\n",
       " {'address_name': '서울 강남구 역삼동 822-4',\n",
       "  'category_group_code': 'FD6',\n",
       "  'category_group_name': '음식점',\n",
       "  'category_name': '음식점 > 일식 > 초밥,롤',\n",
       "  'distance': '',\n",
       "  'id': '13575898',\n",
       "  'phone': '02-2051-1477',\n",
       "  'place_name': '갓덴스시 강남점',\n",
       "  'place_url': 'http://place.map.kakao.com/13575898',\n",
       "  'road_address_name': '서울 강남구 테헤란로 109',\n",
       "  'x': '127.029090699483',\n",
       "  'y': '37.498777145173'},\n",
       " {'address_name': '서울 서초구 서초동 1317-31',\n",
       "  'category_group_code': 'FD6',\n",
       "  'category_group_name': '음식점',\n",
       "  'category_name': '음식점 > 중식 > 중국요리',\n",
       "  'distance': '',\n",
       "  'id': '8279464',\n",
       "  'phone': '02-534-2783',\n",
       "  'place_name': '딘타이펑 강남점',\n",
       "  'place_url': 'http://place.map.kakao.com/8279464',\n",
       "  'road_address_name': '서울 서초구 서초대로73길 12',\n",
       "  'x': '127.0256176855776',\n",
       "  'y': '37.49851845953925'},\n",
       " {'address_name': '서울 서초구 서초동 1316-29',\n",
       "  'category_group_code': 'FD6',\n",
       "  'category_group_name': '음식점',\n",
       "  'category_name': '음식점 > 한식 > 한정식',\n",
       "  'distance': '',\n",
       "  'id': '22716674',\n",
       "  'phone': '02-534-5300',\n",
       "  'place_name': '노랑저고리 강남점',\n",
       "  'place_url': 'http://place.map.kakao.com/22716674',\n",
       "  'road_address_name': '서울 서초구 서초대로73길 9',\n",
       "  'x': '127.0253484614826',\n",
       "  'y': '37.49829326602763'},\n",
       " {'address_name': '서울 강남구 역삼동 820-1',\n",
       "  'category_group_code': 'FD6',\n",
       "  'category_group_name': '음식점',\n",
       "  'category_name': '음식점 > 한식 > 육류,고기 > 닭요리',\n",
       "  'distance': '',\n",
       "  'id': '95713992',\n",
       "  'phone': '02-3452-3441',\n",
       "  'place_name': '장인닭갈비 강남점',\n",
       "  'place_url': 'http://place.map.kakao.com/95713992',\n",
       "  'road_address_name': '서울 강남구 테헤란로1길 19',\n",
       "  'x': '127.027534918874',\n",
       "  'y': '37.4996136518153'},\n",
       " {'address_name': '서울 강남구 역삼동 819-4',\n",
       "  'category_group_code': 'FD6',\n",
       "  'category_group_name': '음식점',\n",
       "  'category_name': '음식점 > 한식 > 찌개,전골',\n",
       "  'distance': '',\n",
       "  'id': '1428481536',\n",
       "  'phone': '02-557-2662',\n",
       "  'place_name': '강남진해장',\n",
       "  'place_url': 'http://place.map.kakao.com/1428481536',\n",
       "  'road_address_name': '서울 강남구 테헤란로5길 11',\n",
       "  'x': '127.02930814350843',\n",
       "  'y': '37.499584393000326'},\n",
       " {'address_name': '서울 강남구 역삼동 830-9',\n",
       "  'category_group_code': 'FD6',\n",
       "  'category_group_name': '음식점',\n",
       "  'category_name': '음식점 > 한식 > 순대',\n",
       "  'distance': '',\n",
       "  'id': '16421356',\n",
       "  'phone': '02-501-2772',\n",
       "  'place_name': '농민백암순대 강남직영점',\n",
       "  'place_url': 'http://place.map.kakao.com/16421356',\n",
       "  'road_address_name': '서울 강남구 역삼로3길 20-4',\n",
       "  'x': '127.03150463098274',\n",
       "  'y': '37.49491300989233'},\n",
       " {'address_name': '서울 강남구 역삼동 618-11',\n",
       "  'category_group_code': 'CE7',\n",
       "  'category_group_name': '카페',\n",
       "  'category_name': '음식점 > 카페',\n",
       "  'distance': '',\n",
       "  'id': '22837049',\n",
       "  'phone': '02-566-6181',\n",
       "  'place_name': '알베르',\n",
       "  'place_url': 'http://place.map.kakao.com/22837049',\n",
       "  'road_address_name': '서울 강남구 강남대로102길 34',\n",
       "  'x': '127.02810278517197',\n",
       "  'y': '37.50305626160175'},\n",
       " {'address_name': '서울 서초구 서초동 1316-28',\n",
       "  'category_group_code': 'FD6',\n",
       "  'category_group_name': '음식점',\n",
       "  'category_name': '음식점 > 양식 > 멕시칸,브라질',\n",
       "  'distance': '',\n",
       "  'id': '1752978029',\n",
       "  'phone': '02-595-1540',\n",
       "  'place_name': '낙원타코 강남역점',\n",
       "  'place_url': 'http://place.map.kakao.com/1752978029',\n",
       "  'road_address_name': '서울 서초구 서초대로73길 7',\n",
       "  'x': '127.02527942371906',\n",
       "  'y': '37.49813109967333'},\n",
       " {'address_name': '서울 강남구 역삼동 818-14',\n",
       "  'category_group_code': 'FD6',\n",
       "  'category_group_name': '음식점',\n",
       "  'category_name': '음식점 > 양식 > 이탈리안',\n",
       "  'distance': '',\n",
       "  'id': '26330643',\n",
       "  'phone': '070-4240-1116',\n",
       "  'place_name': '마녀주방 강남점',\n",
       "  'place_url': 'http://place.map.kakao.com/26330643',\n",
       "  'road_address_name': '서울 강남구 강남대로94길 9',\n",
       "  'x': '127.02809126759875',\n",
       "  'y': '37.499481973929164'},\n",
       " {'address_name': '서울 서초구 서초동 1317-1',\n",
       "  'category_group_code': 'FD6',\n",
       "  'category_group_name': '음식점',\n",
       "  'category_name': '음식점 > 일식 > 참치회',\n",
       "  'distance': '',\n",
       "  'id': '109169564',\n",
       "  'phone': '02-591-4558',\n",
       "  'place_name': '이춘복참치&스시 강남점',\n",
       "  'place_url': 'http://place.map.kakao.com/109169564',\n",
       "  'road_address_name': '서울 서초구 강남대로61길 13',\n",
       "  'x': '127.02562573100964',\n",
       "  'y': '37.49889688044026'},\n",
       " {'address_name': '서울 강남구 역삼동 826-20',\n",
       "  'category_group_code': 'FD6',\n",
       "  'category_group_name': '음식점',\n",
       "  'category_name': '음식점 > 한식 > 육류,고기',\n",
       "  'distance': '',\n",
       "  'id': '1503746075',\n",
       "  'phone': '02-508-0043',\n",
       "  'place_name': '창고43 강남점',\n",
       "  'place_url': 'http://place.map.kakao.com/1503746075',\n",
       "  'road_address_name': '서울 강남구 강남대로 362',\n",
       "  'x': '127.02931097525367',\n",
       "  'y': '37.4952559571223'},\n",
       " {'address_name': '서울 서초구 서초동 1307-11',\n",
       "  'category_group_code': 'FD6',\n",
       "  'category_group_name': '음식점',\n",
       "  'category_name': '음식점 > 술집 > 일본식주점',\n",
       "  'distance': '',\n",
       "  'id': '27564595',\n",
       "  'phone': '02-535-0348',\n",
       "  'place_name': '이자카야나무 강남3호점',\n",
       "  'place_url': 'http://place.map.kakao.com/27564595',\n",
       "  'road_address_name': '서울 서초구 서초대로75길 23',\n",
       "  'x': '127.025313903915',\n",
       "  'y': '37.4997727257013'},\n",
       " {'address_name': '서울 강남구 역삼동 826-37',\n",
       "  'category_group_code': 'FD6',\n",
       "  'category_group_name': '음식점',\n",
       "  'category_name': '음식점 > 한식 > 냉면',\n",
       "  'distance': '',\n",
       "  'id': '12418029',\n",
       "  'phone': '02-552-1922',\n",
       "  'place_name': '을밀대 강남점',\n",
       "  'place_url': 'http://place.map.kakao.com/12418029',\n",
       "  'road_address_name': '서울 강남구 테헤란로4길 46',\n",
       "  'x': '127.030740331534',\n",
       "  'y': '37.4952411777316'},\n",
       " {'address_name': '서울 강남구 역삼동 823-35',\n",
       "  'category_group_code': 'FD6',\n",
       "  'category_group_name': '음식점',\n",
       "  'category_name': '음식점 > 한식 > 감자탕',\n",
       "  'distance': '',\n",
       "  'id': '7983060',\n",
       "  'phone': '',\n",
       "  'place_name': '신동궁감자탕 역삼직영점',\n",
       "  'place_url': 'http://place.map.kakao.com/7983060',\n",
       "  'road_address_name': '서울 강남구 테헤란로10길 21',\n",
       "  'x': '127.03290815160956',\n",
       "  'y': '37.49788594917416'}]"
      ]
     },
     "execution_count": 73,
     "metadata": {},
     "output_type": "execute_result"
    }
   ],
   "source": [
    "all_responses[0]['documents']"
   ]
  },
  {
   "cell_type": "code",
   "execution_count": 74,
   "id": "2c6a0a9b-097c-48b5-8a6d-2c35f6925983",
   "metadata": {},
   "outputs": [
    {
     "data": {
      "text/plain": [
       "270"
      ]
     },
     "execution_count": 74,
     "metadata": {},
     "output_type": "execute_result"
    }
   ],
   "source": [
    "# 가게 id 추출\n",
    "\n",
    "ids = []\n",
    "for response in all_responses:\n",
    "    docs = response['documents']\n",
    "    ids.extend([ d['id'] for d in docs ])\n",
    "\n",
    "len(ids)"
   ]
  },
  {
   "cell_type": "markdown",
   "id": "df38c189-2e4e-4a57-bcc8-ae9f4d2e0822",
   "metadata": {},
   "source": [
    "## comment 수집하기"
   ]
  },
  {
   "cell_type": "code",
   "execution_count": null,
   "id": "b96ae7ab-c591-4927-8b78-a6487f3042c8",
   "metadata": {},
   "outputs": [],
   "source": [
    "COMMENT_URL = \"https://place.map.kakao.com/m/commentlist/v/1238400864/0?order=USEFUL&onlyPhotoComment=false\"\n",
    "response = requests.get(COMMENT_URL)\n",
    "response.json()"
   ]
  },
  {
   "cell_type": "code",
   "execution_count": 76,
   "id": "a1debe79-5e2f-46d1-8e94-0a1344a0781e",
   "metadata": {},
   "outputs": [],
   "source": [
    "# 각 가게에 부여된 id와 마지막 comment id 를 넣을 수 있게 format 삽입\n",
    "\n",
    "COMMENT_URL = \"https://place.map.kakao.com/m/commentlist/v/{}/{}?order=USEFUL&onlyPhotoComment=false\""
   ]
  },
  {
   "cell_type": "code",
   "execution_count": null,
   "id": "e3e61c51-eb9f-4c64-b802-de945f4d726b",
   "metadata": {},
   "outputs": [],
   "source": [
    "all_comments = []\n",
    "for id in ids[:2]:\n",
    "    # 첫 번쨰 코멘트의 id는 무조건 0\n",
    "    comment_id = 0\n",
    "\n",
    "    # has_next가 true 면 마지막 코멘트 id를 새롭게 넣어 계속 크롤링\n",
    "    has_next = True\n",
    "\n",
    "    while has_next:\n",
    "        SCRAP_COMMENT_URL = COMMENT_URL.format(id, comment_id)\n",
    "        response = requests.get(SCRAP_COMMENT_URL)\n",
    "        comment_data = response.json()['comment']\n",
    "\n",
    "        comment_list = comment_data['list']\n",
    "        all_comments.extend(comment_list)\n",
    "        has_next = comment_data['hasNext']\n",
    "\n",
    "        if has_next:\n",
    "            comment_id = comment_list[-1]['commentid']\n",
    "\n",
    "all_comments"
   ]
  },
  {
   "cell_type": "code",
   "execution_count": 80,
   "id": "13f3ffb8-eb97-4d5d-943c-161a8233b9f6",
   "metadata": {},
   "outputs": [
    {
     "data": {
      "text/plain": [
       "872"
      ]
     },
     "execution_count": 80,
     "metadata": {},
     "output_type": "execute_result"
    }
   ],
   "source": [
    "len(all_comments)"
   ]
  },
  {
   "cell_type": "code",
   "execution_count": 81,
   "id": "aa3e2853-c674-4bd6-901a-51e71fd51b32",
   "metadata": {
    "scrolled": true
   },
   "outputs": [
    {
     "data": {
      "text/html": [
       "<div>\n",
       "<style scoped>\n",
       "    .dataframe tbody tr th:only-of-type {\n",
       "        vertical-align: middle;\n",
       "    }\n",
       "\n",
       "    .dataframe tbody tr th {\n",
       "        vertical-align: top;\n",
       "    }\n",
       "\n",
       "    .dataframe thead th {\n",
       "        text-align: right;\n",
       "    }\n",
       "</style>\n",
       "<table border=\"1\" class=\"dataframe\">\n",
       "  <thead>\n",
       "    <tr style=\"text-align: right;\">\n",
       "      <th></th>\n",
       "      <th>contents</th>\n",
       "      <th>point</th>\n",
       "    </tr>\n",
       "  </thead>\n",
       "  <tbody>\n",
       "    <tr>\n",
       "      <th>0</th>\n",
       "      <td>맛은있는데 너무 많아서 쌀국수랑 싸우는기분...</td>\n",
       "      <td>3</td>\n",
       "    </tr>\n",
       "    <tr>\n",
       "      <th>1</th>\n",
       "      <td>푸짐하게 먹을 수 있어요</td>\n",
       "      <td>4</td>\n",
       "    </tr>\n",
       "    <tr>\n",
       "      <th>2</th>\n",
       "      <td>예전의 감동은 없는 듯함.. 웨이팅할 정도의 맛은 아니지만 지나가다 생각나서 먹을정...</td>\n",
       "      <td>3</td>\n",
       "    </tr>\n",
       "    <tr>\n",
       "      <th>3</th>\n",
       "      <td>맛있고 또 맛있어요\\n강추입니다</td>\n",
       "      <td>5</td>\n",
       "    </tr>\n",
       "    <tr>\n",
       "      <th>4</th>\n",
       "      <td>NaN</td>\n",
       "      <td>5</td>\n",
       "    </tr>\n",
       "    <tr>\n",
       "      <th>...</th>\n",
       "      <td>...</td>\n",
       "      <td>...</td>\n",
       "    </tr>\n",
       "    <tr>\n",
       "      <th>867</th>\n",
       "      <td>NaN</td>\n",
       "      <td>3</td>\n",
       "    </tr>\n",
       "    <tr>\n",
       "      <th>868</th>\n",
       "      <td>NaN</td>\n",
       "      <td>4</td>\n",
       "    </tr>\n",
       "    <tr>\n",
       "      <th>869</th>\n",
       "      <td>스시는 비싼 접시를 고르면 실패하지않음ㅋㅋㅋ 간판에 되게 싼것처럼 적어놔서 들어갔는...</td>\n",
       "      <td>3</td>\n",
       "    </tr>\n",
       "    <tr>\n",
       "      <th>870</th>\n",
       "      <td>NaN</td>\n",
       "      <td>3</td>\n",
       "    </tr>\n",
       "    <tr>\n",
       "      <th>871</th>\n",
       "      <td></td>\n",
       "      <td>4</td>\n",
       "    </tr>\n",
       "  </tbody>\n",
       "</table>\n",
       "<p>872 rows × 2 columns</p>\n",
       "</div>"
      ],
      "text/plain": [
       "                                              contents  point\n",
       "0                           맛은있는데 너무 많아서 쌀국수랑 싸우는기분...      3\n",
       "1                                        푸짐하게 먹을 수 있어요      4\n",
       "2    예전의 감동은 없는 듯함.. 웨이팅할 정도의 맛은 아니지만 지나가다 생각나서 먹을정...      3\n",
       "3                                    맛있고 또 맛있어요\\n강추입니다      5\n",
       "4                                                  NaN      5\n",
       "..                                                 ...    ...\n",
       "867                                                NaN      3\n",
       "868                                                NaN      4\n",
       "869  스시는 비싼 접시를 고르면 실패하지않음ㅋㅋㅋ 간판에 되게 싼것처럼 적어놔서 들어갔는...      3\n",
       "870                                                NaN      3\n",
       "871                                                         4\n",
       "\n",
       "[872 rows x 2 columns]"
      ]
     },
     "execution_count": 81,
     "metadata": {},
     "output_type": "execute_result"
    }
   ],
   "source": [
    "import pandas as pd\n",
    "\n",
    "comment_df = pd.DataFrame(all_comments)\n",
    "comment_df_filtered = comment_df[['contents', 'point']]\n",
    "comment_df_filtered"
   ]
  },
  {
   "cell_type": "code",
   "execution_count": 82,
   "id": "0d35a7a0-f220-49ae-a61e-356060094aa4",
   "metadata": {},
   "outputs": [
    {
     "data": {
      "text/plain": [
       "<Axes: xlabel='point'>"
      ]
     },
     "execution_count": 82,
     "metadata": {},
     "output_type": "execute_result"
    },
    {
     "data": {
      "image/png": "[encoded data removed]",
      "text/plain": [
       "<Figure size 640x480 with 1 Axes>"
      ]
     },
     "metadata": {},
     "output_type": "display_data"
    }
   ],
   "source": [
    "comment_df_filtered['point'].value_counts().plot(kind='bar')"
   ]
  },
  {
   "cell_type": "code",
   "execution_count": null,
   "id": "95d5dbc2-328c-4792-ae28-d5f8919b4571",
   "metadata": {},
   "outputs": [],
   "source": [
    "pip install openpyxl"
   ]
  },
  {
   "cell_type": "code",
   "execution_count": null,
   "id": "a86a5c97-2c71-422f-bc28-6ca118d7e2c0",
   "metadata": {},
   "outputs": [],
   "source": [
    "comment_df_filtered.to_excel('comments_seoul.xlsx', index=False)"
   ]
  }
 ],
 "metadata": {
  "kernelspec": {
   "display_name": "Python 3 (ipykernel)",
   "language": "python",
   "name": "python3"
  },
  "language_info": {
   "codemirror_mode": {
    "name": "ipython",
    "version": 3
   },
   "file_extension": ".py",
   "mimetype": "text/x-python",
   "name": "python",
   "nbconvert_exporter": "python",
   "pygments_lexer": "ipython3",
   "version": "3.8.18"
  }
 },
 "nbformat": 4,
 "nbformat_minor": 5
}
