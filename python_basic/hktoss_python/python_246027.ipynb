{
 "cells": [
  {
   "cell_type": "code",
   "execution_count": 1,
   "id": "28e20347-62c7-48ca-a4d2-18e58fc12ec2",
   "metadata": {},
   "outputs": [],
   "source": [
    "## 리스트와 튜플"
   ]
  },
  {
   "cell_type": "code",
   "execution_count": 2,
   "id": "8fa8b2bb-ff53-482e-8636-ddca56918854",
   "metadata": {},
   "outputs": [],
   "source": [
    "list_a = [273, 32, 'A', True, [1,2,3]]"
   ]
  },
  {
   "cell_type": "code",
   "execution_count": 10,
   "id": "7b3be6aa-3644-44d4-86b6-70f53dac4612",
   "metadata": {},
   "outputs": [
    {
     "name": "stdout",
     "output_type": "stream",
     "text": [
      "273\n",
      "2\n"
     ]
    }
   ],
   "source": [
    "print(list_a[0]) # indexing\n",
    "print(list_a[-1][-2])"
   ]
  },
  {
   "cell_type": "code",
   "execution_count": 8,
   "id": "6d6ada1f-c693-469b-9d28-a522e9858a29",
   "metadata": {},
   "outputs": [
    {
     "data": {
      "text/plain": [
       "[32, 'A']"
      ]
     },
     "execution_count": 8,
     "metadata": {},
     "output_type": "execute_result"
    }
   ],
   "source": [
    "list_a[1:3] # slicing"
   ]
  },
  {
   "cell_type": "code",
   "execution_count": null,
   "id": "9227dc0e-bcca-4684-8a2f-5807470abedd",
   "metadata": {},
   "outputs": [],
   "source": [
    "list"
   ]
  }
 ],
 "metadata": {
  "kernelspec": {
   "display_name": "Python 3 (ipykernel)",
   "language": "python",
   "name": "python3"
  },
  "language_info": {
   "codemirror_mode": {
    "name": "ipython",
    "version": 3
   },
   "file_extension": ".py",
   "mimetype": "text/x-python",
   "name": "python",
   "nbconvert_exporter": "python",
   "pygments_lexer": "ipython3",
   "version": "3.11.7"
  }
 },
 "nbformat": 4,
 "nbformat_minor": 5
}
